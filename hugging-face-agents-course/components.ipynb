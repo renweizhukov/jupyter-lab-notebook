{
 "cells": [
  {
   "cell_type": "markdown",
   "metadata": {
    "colab_type": "text",
    "id": "view-in-github"
   },
   "source": [
    "<a href=\"https://colab.research.google.com/github/renweizhukov/jupyter-lab-notebook/blob/main/hugging-face-agents-course/components.ipynb\" target=\"_parent\"><img src=\"https://colab.research.google.com/assets/colab-badge.svg\" alt=\"Open In Colab\"/></a>"
   ]
  },
  {
   "cell_type": "markdown",
   "metadata": {
    "id": "V0F4nxCuqO6D"
   },
   "source": [
    "# Components in LlamaIndex\n",
    "\n",
    "This notebook is part of the [Hugging Face Agents Course](https://www.hf.co/learn/agents-course), a free Course from beginner to expert, where you learn to build Agents.\n",
    "\n",
    "![Agents course share](https://huggingface.co/datasets/agents-course/course-images/resolve/main/en/communication/share.png)\n",
    "\n",
    "Alfred is hosting a party and needs to be able to find relevant information on personas that will be attending the party. Therefore, we will use a `QueryEngine` to index and search through a database of personas.\n",
    "\n",
    "## Let's install the dependencies\n",
    "\n",
    "We will install the dependencies for this unit."
   ]
  },
  {
   "cell_type": "code",
   "execution_count": 1,
   "metadata": {
    "colab": {
     "base_uri": "https://localhost:8080/"
    },
    "id": "zJaX9y7XqO6E",
    "outputId": "c1756f1a-6f2a-48cc-91e7-6ba20a706b05"
   },
   "outputs": [
    {
     "name": "stdout",
     "output_type": "stream",
     "text": [
      "\u001b[?25l     \u001b[90m━━━━━━━━━━━━━━━━━━━━━━━━━━━━━━━━━━━━━━━━\u001b[0m \u001b[32m0.0/67.3 kB\u001b[0m \u001b[31m?\u001b[0m eta \u001b[36m-:--:--\u001b[0m\r",
      "\u001b[2K     \u001b[90m━━━━━━━━━━━━━━━━━━━━━━━━━━━━━━━━━━━━━━━━\u001b[0m \u001b[32m67.3/67.3 kB\u001b[0m \u001b[31m4.7 MB/s\u001b[0m eta \u001b[36m0:00:00\u001b[0m\n",
      "\u001b[?25h  Installing build dependencies ... \u001b[?25l\u001b[?25hdone\n",
      "  Getting requirements to build wheel ... \u001b[?25l\u001b[?25hdone\n",
      "  Preparing metadata (pyproject.toml) ... \u001b[?25l\u001b[?25hdone\n",
      "\u001b[2K   \u001b[90m━━━━━━━━━━━━━━━━━━━━━━━━━━━━━━━━━━━━━━━━\u001b[0m \u001b[32m491.5/491.5 kB\u001b[0m \u001b[31m18.0 MB/s\u001b[0m eta \u001b[36m0:00:00\u001b[0m\n",
      "\u001b[2K   \u001b[90m━━━━━━━━━━━━━━━━━━━━━━━━━━━━━━━━━━━━━━━━\u001b[0m \u001b[32m4.0/4.0 MB\u001b[0m \u001b[31m76.5 MB/s\u001b[0m eta \u001b[36m0:00:00\u001b[0m\n",
      "\u001b[2K   \u001b[90m━━━━━━━━━━━━━━━━━━━━━━━━━━━━━━━━━━━━━━━━\u001b[0m \u001b[32m298.4/298.4 kB\u001b[0m \u001b[31m25.1 MB/s\u001b[0m eta \u001b[36m0:00:00\u001b[0m\n",
      "\u001b[2K   \u001b[90m━━━━━━━━━━━━━━━━━━━━━━━━━━━━━━━━━━━━━━━━\u001b[0m \u001b[32m231.9/231.9 kB\u001b[0m \u001b[31m20.0 MB/s\u001b[0m eta \u001b[36m0:00:00\u001b[0m\n",
      "\u001b[2K   \u001b[90m━━━━━━━━━━━━━━━━━━━━━━━━━━━━━━━━━━━━━━━━\u001b[0m \u001b[32m62.9/62.9 kB\u001b[0m \u001b[31m5.5 MB/s\u001b[0m eta \u001b[36m0:00:00\u001b[0m\n",
      "\u001b[2K   \u001b[90m━━━━━━━━━━━━━━━━━━━━━━━━━━━━━━━━━━━━━━━━\u001b[0m \u001b[32m18.9/18.9 MB\u001b[0m \u001b[31m92.2 MB/s\u001b[0m eta \u001b[36m0:00:00\u001b[0m\n",
      "\u001b[2K   \u001b[90m━━━━━━━━━━━━━━━━━━━━━━━━━━━━━━━━━━━━━━━━\u001b[0m \u001b[32m94.9/94.9 kB\u001b[0m \u001b[31m8.1 MB/s\u001b[0m eta \u001b[36m0:00:00\u001b[0m\n",
      "\u001b[2K   \u001b[90m━━━━━━━━━━━━━━━━━━━━━━━━━━━━━━━━━━━━━━━━\u001b[0m \u001b[32m193.6/193.6 kB\u001b[0m \u001b[31m16.1 MB/s\u001b[0m eta \u001b[36m0:00:00\u001b[0m\n",
      "\u001b[2K   \u001b[90m━━━━━━━━━━━━━━━━━━━━━━━━━━━━━━━━━━━━━━━━\u001b[0m \u001b[32m7.7/7.7 MB\u001b[0m \u001b[31m95.4 MB/s\u001b[0m eta \u001b[36m0:00:00\u001b[0m\n",
      "\u001b[2K   \u001b[90m━━━━━━━━━━━━━━━━━━━━━━━━━━━━━━━━━━━━━━━━\u001b[0m \u001b[32m40.8/40.8 kB\u001b[0m \u001b[31m3.3 MB/s\u001b[0m eta \u001b[36m0:00:00\u001b[0m\n",
      "\u001b[2K   \u001b[90m━━━━━━━━━━━━━━━━━━━━━━━━━━━━━━━━━━━━━━━━\u001b[0m \u001b[32m55.9/55.9 kB\u001b[0m \u001b[31m4.8 MB/s\u001b[0m eta \u001b[36m0:00:00\u001b[0m\n",
      "\u001b[2K   \u001b[90m━━━━━━━━━━━━━━━━━━━━━━━━━━━━━━━━━━━━━━━━\u001b[0m \u001b[32m119.0/119.0 kB\u001b[0m \u001b[31m9.7 MB/s\u001b[0m eta \u001b[36m0:00:00\u001b[0m\n",
      "\u001b[2K   \u001b[90m━━━━━━━━━━━━━━━━━━━━━━━━━━━━━━━━━━━━━━━━\u001b[0m \u001b[32m194.9/194.9 kB\u001b[0m \u001b[31m14.3 MB/s\u001b[0m eta \u001b[36m0:00:00\u001b[0m\n",
      "\u001b[2K   \u001b[90m━━━━━━━━━━━━━━━━━━━━━━━━━━━━━━━━━━━━━━━━\u001b[0m \u001b[32m65.8/65.8 kB\u001b[0m \u001b[31m5.1 MB/s\u001b[0m eta \u001b[36m0:00:00\u001b[0m\n",
      "\u001b[2K   \u001b[90m━━━━━━━━━━━━━━━━━━━━━━━━━━━━━━━━━━━━━━━━\u001b[0m \u001b[32m3.0/3.0 MB\u001b[0m \u001b[31m90.4 MB/s\u001b[0m eta \u001b[36m0:00:00\u001b[0m\n",
      "\u001b[2K   \u001b[90m━━━━━━━━━━━━━━━━━━━━━━━━━━━━━━━━━━━━━━━━\u001b[0m \u001b[32m71.5/71.5 kB\u001b[0m \u001b[31m6.2 MB/s\u001b[0m eta \u001b[36m0:00:00\u001b[0m\n",
      "\u001b[2K   \u001b[90m━━━━━━━━━━━━━━━━━━━━━━━━━━━━━━━━━━━━━━━━\u001b[0m \u001b[32m62.5/62.5 kB\u001b[0m \u001b[31m5.0 MB/s\u001b[0m eta \u001b[36m0:00:00\u001b[0m\n",
      "\u001b[2K   \u001b[90m━━━━━━━━━━━━━━━━━━━━━━━━━━━━━━━━━━━━━━━━\u001b[0m \u001b[32m51.1/51.1 kB\u001b[0m \u001b[31m4.5 MB/s\u001b[0m eta \u001b[36m0:00:00\u001b[0m\n",
      "\u001b[2K   \u001b[90m━━━━━━━━━━━━━━━━━━━━━━━━━━━━━━━━━━━━━━━━\u001b[0m \u001b[32m232.1/232.1 kB\u001b[0m \u001b[31m18.7 MB/s\u001b[0m eta \u001b[36m0:00:00\u001b[0m\n",
      "\u001b[2K   \u001b[90m━━━━━━━━━━━━━━━━━━━━━━━━━━━━━━━━━━━━━━━━\u001b[0m \u001b[32m284.2/284.2 kB\u001b[0m \u001b[31m22.3 MB/s\u001b[0m eta \u001b[36m0:00:00\u001b[0m\n",
      "\u001b[2K   \u001b[90m━━━━━━━━━━━━━━━━━━━━━━━━━━━━━━━━━━━━━━━━\u001b[0m \u001b[32m313.6/313.6 kB\u001b[0m \u001b[31m26.5 MB/s\u001b[0m eta \u001b[36m0:00:00\u001b[0m\n",
      "\u001b[2K   \u001b[90m━━━━━━━━━━━━━━━━━━━━━━━━━━━━━━━━━━━━━━━━\u001b[0m \u001b[32m203.4/203.4 kB\u001b[0m \u001b[31m15.8 MB/s\u001b[0m eta \u001b[36m0:00:00\u001b[0m\n",
      "\u001b[2K   \u001b[90m━━━━━━━━━━━━━━━━━━━━━━━━━━━━━━━━━━━━━━━━\u001b[0m \u001b[32m2.0/2.0 MB\u001b[0m \u001b[31m79.8 MB/s\u001b[0m eta \u001b[36m0:00:00\u001b[0m\n",
      "\u001b[2K   \u001b[90m━━━━━━━━━━━━━━━━━━━━━━━━━━━━━━━━━━━━━━━━\u001b[0m \u001b[32m101.6/101.6 kB\u001b[0m \u001b[31m8.7 MB/s\u001b[0m eta \u001b[36m0:00:00\u001b[0m\n",
      "\u001b[2K   \u001b[90m━━━━━━━━━━━━━━━━━━━━━━━━━━━━━━━━━━━━━━━━\u001b[0m \u001b[32m16.4/16.4 MB\u001b[0m \u001b[31m96.2 MB/s\u001b[0m eta \u001b[36m0:00:00\u001b[0m\n",
      "\u001b[2K   \u001b[90m━━━━━━━━━━━━━━━━━━━━━━━━━━━━━━━━━━━━━━━━\u001b[0m \u001b[32m92.0/92.0 kB\u001b[0m \u001b[31m8.4 MB/s\u001b[0m eta \u001b[36m0:00:00\u001b[0m\n",
      "\u001b[2K   \u001b[90m━━━━━━━━━━━━━━━━━━━━━━━━━━━━━━━━━━━━━━━━\u001b[0m \u001b[32m303.4/303.4 kB\u001b[0m \u001b[31m23.8 MB/s\u001b[0m eta \u001b[36m0:00:00\u001b[0m\n",
      "\u001b[2K   \u001b[90m━━━━━━━━━━━━━━━━━━━━━━━━━━━━━━━━━━━━━━━━\u001b[0m \u001b[32m363.4/363.4 MB\u001b[0m \u001b[31m4.9 MB/s\u001b[0m eta \u001b[36m0:00:00\u001b[0m\n",
      "\u001b[2K   \u001b[90m━━━━━━━━━━━━━━━━━━━━━━━━━━━━━━━━━━━━━━━━\u001b[0m \u001b[32m13.8/13.8 MB\u001b[0m \u001b[31m108.4 MB/s\u001b[0m eta \u001b[36m0:00:00\u001b[0m\n",
      "\u001b[2K   \u001b[90m━━━━━━━━━━━━━━━━━━━━━━━━━━━━━━━━━━━━━━━━\u001b[0m \u001b[32m24.6/24.6 MB\u001b[0m \u001b[31m85.6 MB/s\u001b[0m eta \u001b[36m0:00:00\u001b[0m\n",
      "\u001b[2K   \u001b[90m━━━━━━━━━━━━━━━━━━━━━━━━━━━━━━━━━━━━━━━━\u001b[0m \u001b[32m883.7/883.7 kB\u001b[0m \u001b[31m49.4 MB/s\u001b[0m eta \u001b[36m0:00:00\u001b[0m\n",
      "\u001b[2K   \u001b[90m━━━━━━━━━━━━━━━━━━━━━━━━━━━━━━━━━━━━━━━━\u001b[0m \u001b[32m664.8/664.8 MB\u001b[0m \u001b[31m2.6 MB/s\u001b[0m eta \u001b[36m0:00:00\u001b[0m\n",
      "\u001b[2K   \u001b[90m━━━━━━━━━━━━━━━━━━━━━━━━━━━━━━━━━━━━━━━━\u001b[0m \u001b[32m211.5/211.5 MB\u001b[0m \u001b[31m5.7 MB/s\u001b[0m eta \u001b[36m0:00:00\u001b[0m\n",
      "\u001b[2K   \u001b[90m━━━━━━━━━━━━━━━━━━━━━━━━━━━━━━━━━━━━━━━━\u001b[0m \u001b[32m56.3/56.3 MB\u001b[0m \u001b[31m12.4 MB/s\u001b[0m eta \u001b[36m0:00:00\u001b[0m\n",
      "\u001b[2K   \u001b[90m━━━━━━━━━━━━━━━━━━━━━━━━━━━━━━━━━━━━━━━━\u001b[0m \u001b[32m127.9/127.9 MB\u001b[0m \u001b[31m7.4 MB/s\u001b[0m eta \u001b[36m0:00:00\u001b[0m\n",
      "\u001b[2K   \u001b[90m━━━━━━━━━━━━━━━━━━━━━━━━━━━━━━━━━━━━━━━━\u001b[0m \u001b[32m207.5/207.5 MB\u001b[0m \u001b[31m5.7 MB/s\u001b[0m eta \u001b[36m0:00:00\u001b[0m\n",
      "\u001b[2K   \u001b[90m━━━━━━━━━━━━━━━━━━━━━━━━━━━━━━━━━━━━━━━━\u001b[0m \u001b[32m21.1/21.1 MB\u001b[0m \u001b[31m81.5 MB/s\u001b[0m eta \u001b[36m0:00:00\u001b[0m\n",
      "\u001b[2K   \u001b[90m━━━━━━━━━━━━━━━━━━━━━━━━━━━━━━━━━━━━━━━━\u001b[0m \u001b[32m459.8/459.8 kB\u001b[0m \u001b[31m34.4 MB/s\u001b[0m eta \u001b[36m0:00:00\u001b[0m\n",
      "\u001b[2K   \u001b[90m━━━━━━━━━━━━━━━━━━━━━━━━━━━━━━━━━━━━━━━━\u001b[0m \u001b[32m263.6/263.6 kB\u001b[0m \u001b[31m20.2 MB/s\u001b[0m eta \u001b[36m0:00:00\u001b[0m\n",
      "\u001b[2K   \u001b[90m━━━━━━━━━━━━━━━━━━━━━━━━━━━━━━━━━━━━━━━━\u001b[0m \u001b[32m50.9/50.9 kB\u001b[0m \u001b[31m4.4 MB/s\u001b[0m eta \u001b[36m0:00:00\u001b[0m\n",
      "\u001b[2K   \u001b[90m━━━━━━━━━━━━━━━━━━━━━━━━━━━━━━━━━━━━━━━━\u001b[0m \u001b[32m4.0/4.0 MB\u001b[0m \u001b[31m93.5 MB/s\u001b[0m eta \u001b[36m0:00:00\u001b[0m\n",
      "\u001b[2K   \u001b[90m━━━━━━━━━━━━━━━━━━━━━━━━━━━━━━━━━━━━━━━━\u001b[0m \u001b[32m454.8/454.8 kB\u001b[0m \u001b[31m33.4 MB/s\u001b[0m eta \u001b[36m0:00:00\u001b[0m\n",
      "\u001b[2K   \u001b[90m━━━━━━━━━━━━━━━━━━━━━━━━━━━━━━━━━━━━━━━━\u001b[0m \u001b[32m46.0/46.0 kB\u001b[0m \u001b[31m3.3 MB/s\u001b[0m eta \u001b[36m0:00:00\u001b[0m\n",
      "\u001b[2K   \u001b[90m━━━━━━━━━━━━━━━━━━━━━━━━━━━━━━━━━━━━━━━━\u001b[0m \u001b[32m129.3/129.3 kB\u001b[0m \u001b[31m12.0 MB/s\u001b[0m eta \u001b[36m0:00:00\u001b[0m\n",
      "\u001b[2K   \u001b[90m━━━━━━━━━━━━━━━━━━━━━━━━━━━━━━━━━━━━━━━━\u001b[0m \u001b[32m86.8/86.8 kB\u001b[0m \u001b[31m7.6 MB/s\u001b[0m eta \u001b[36m0:00:00\u001b[0m\n",
      "\u001b[?25h  Building wheel for pypika (pyproject.toml) ... \u001b[?25l\u001b[?25hdone\n",
      "\u001b[31mERROR: pip's dependency resolver does not currently take into account all the packages that are installed. This behaviour is the source of the following dependency conflicts.\n",
      "gcsfs 2025.3.2 requires fsspec==2025.3.2, but you have fsspec 2025.3.0 which is incompatible.\u001b[0m\u001b[31m\n",
      "\u001b[0m"
     ]
    }
   ],
   "source": [
    "!pip install llama-index datasets llama-index-callbacks-arize-phoenix arize-phoenix llama-index-vector-stores-chroma llama-index-llms-huggingface-api llama-index-embeddings-huggingface -U -q"
   ]
  },
  {
   "cell_type": "markdown",
   "metadata": {
    "id": "JwHxIXkNqO6F"
   },
   "source": [
    "And, let's log in to Hugging Face to use serverless Inference APIs."
   ]
  },
  {
   "cell_type": "code",
   "execution_count": 2,
   "metadata": {
    "colab": {
     "base_uri": "https://localhost:8080/",
     "height": 17,
     "referenced_widgets": [
      "10b4e7bc20e5462e971674cc9dd5131e",
      "d5b9af0533624038bcce853f4eb038a7",
      "6d77bfd53af741fca15f20184464f7f2",
      "cb3c1ba549ad41eb9c1dadc8b42a3b16",
      "fc2f1878c14e4d628b1d5a29b73ea94c",
      "7eb8df9b78664272b29069702a3a9832",
      "d27d7f6bf0904bf79c1f193824685e49",
      "ce021c3332524945bbac0fe434a40b7f",
      "a90cdf04453c4913a6f6e4c3cb7165a0",
      "b5698326d03547eea774ca8713f07d32",
      "c0ec31d2bddb4ac3be8ad69c8f921be8",
      "1521b098d3d742549e31cc3e587bb0de",
      "213e95302ea5491487936a970611786f",
      "ed2deaba11664619904d18236d3b2a2e",
      "62ba4c07eaee47f8833799628d2b7035",
      "fb7a186db69a439ebf04afda1de3ede4",
      "798a6c9d4f81466d895bb89aefdc4970",
      "412316490820460a98ad84e9a41c0faa",
      "155216a4141a47debea81b9484223b52",
      "86450c06a5614534ad2c03ec5642bfe5"
     ]
    },
    "id": "vG3qSCe2qO6F",
    "outputId": "3de104ce-67f1-4cd8-ed4e-0d4aaa713027"
   },
   "outputs": [
    {
     "data": {
      "application/vnd.jupyter.widget-view+json": {
       "model_id": "10b4e7bc20e5462e971674cc9dd5131e",
       "version_major": 2,
       "version_minor": 0
      },
      "text/plain": [
       "VBox(children=(HTML(value='<center> <img\\nsrc=https://huggingface.co/front/assets/huggingface_logo-noborder.sv…"
      ]
     },
     "metadata": {},
     "output_type": "display_data"
    }
   ],
   "source": [
    "from huggingface_hub import login\n",
    "\n",
    "login()"
   ]
  },
  {
   "cell_type": "markdown",
   "metadata": {
    "id": "bfLBPMggqO6F"
   },
   "source": [
    "## Create a `QueryEngine` for retrieval augmented generation\n",
    "\n",
    "### Setting up the persona database\n",
    "\n",
    "We will be using personas from the [dvilasuero/finepersonas-v0.1-tiny dataset](https://huggingface.co/datasets/dvilasuero/finepersonas-v0.1-tiny). This dataset contains 5K personas that will be attending the party!\n",
    "\n",
    "Let's load the dataset and store it as files in the `data` directory"
   ]
  },
  {
   "cell_type": "code",
   "execution_count": 3,
   "metadata": {
    "colab": {
     "base_uri": "https://localhost:8080/",
     "height": 168,
     "referenced_widgets": [
      "630160209eb44167a99bf56b4eb5ba32",
      "7ae010191ebc4036a19ece6295fd390c",
      "64a200521dc842d0acc54899e3c1496a",
      "529b0a8c7da548468fa6ced6e2fea842",
      "5b5760c8e3324405a9b4e7334e0c9e3a",
      "6bf71f54ae8443359ef5e5c6cccb625e",
      "2604514370424908aca59c4f87bdfece",
      "7152076f64314ee489088b42a61367ba",
      "2aa96b3195d647c4b0aed2f9aa5e4ece",
      "77ca041013574a82811cc9e88e6dab43",
      "7d0dc7afe76749198c153f0f5051d222",
      "0423fe5c5f0c45a6bb86e61b445ee878",
      "c527c7d0c25a40b4bd1fc1048be32e59",
      "4f66d11c75d8431588562c65ebc1a28b",
      "444e06e0dfa54bab99ce0163db925340",
      "c41cf47a49f049d8af5e209b176d18c8",
      "0fc2fc58577c4537a44f46994fe947c6",
      "0b697bccefe54a489c54d9abb7d33c0a",
      "b4e53d00282649f6b095ea0acd606e6a",
      "ceb5cc85792a4239917b31237ebc15a3",
      "731d643068524620bf0ce0382938d8f2",
      "19e3c82f077b4a69b963afd05838576c",
      "86216881f22a4b7a9b81c754b8614f88",
      "60ba4219cf4b418c9b9b03d9c0e29dde",
      "b8fbf3803bca422bb2cf494d6a73a37b",
      "e1829b83135040ebb6224825bea9e570",
      "9811e5172b3849d3b4386165ea563194",
      "10adeaf13dd244c58739bbc028e769f7",
      "7e01b990224d4f1b90c74478886fc9db",
      "8ba1a3394a0442f48dec7324f8c0e639",
      "f24f2afc1fc54529a30195af7dd30ff2",
      "1fe0f46d5a8645fa844fa186617ae9f1",
      "c6a878cc42f3487d8fb77f49a1e9ae28"
     ]
    },
    "id": "fQBWzxWYqO6G",
    "outputId": "86d5b5c2-a186-4229-be4b-528729ba494b"
   },
   "outputs": [
    {
     "data": {
      "application/vnd.jupyter.widget-view+json": {
       "model_id": "630160209eb44167a99bf56b4eb5ba32",
       "version_major": 2,
       "version_minor": 0
      },
      "text/plain": [
       "README.md:   0%|          | 0.00/618 [00:00<?, ?B/s]"
      ]
     },
     "metadata": {},
     "output_type": "display_data"
    },
    {
     "name": "stderr",
     "output_type": "stream",
     "text": [
      "Xet Storage is enabled for this repo, but the 'hf_xet' package is not installed. Falling back to regular HTTP download. For better performance, install the package with: `pip install huggingface_hub[hf_xet]` or `pip install hf_xet`\n",
      "WARNING:huggingface_hub.file_download:Xet Storage is enabled for this repo, but the 'hf_xet' package is not installed. Falling back to regular HTTP download. For better performance, install the package with: `pip install huggingface_hub[hf_xet]` or `pip install hf_xet`\n"
     ]
    },
    {
     "data": {
      "application/vnd.jupyter.widget-view+json": {
       "model_id": "0423fe5c5f0c45a6bb86e61b445ee878",
       "version_major": 2,
       "version_minor": 0
      },
      "text/plain": [
       "train-00000-of-00001.parquet:   0%|          | 0.00/35.0M [00:00<?, ?B/s]"
      ]
     },
     "metadata": {},
     "output_type": "display_data"
    },
    {
     "data": {
      "application/vnd.jupyter.widget-view+json": {
       "model_id": "86216881f22a4b7a9b81c754b8614f88",
       "version_major": 2,
       "version_minor": 0
      },
      "text/plain": [
       "Generating train split:   0%|          | 0/5000 [00:00<?, ? examples/s]"
      ]
     },
     "metadata": {},
     "output_type": "display_data"
    }
   ],
   "source": [
    "from datasets import load_dataset\n",
    "from pathlib import Path\n",
    "\n",
    "dataset = load_dataset(path=\"dvilasuero/finepersonas-v0.1-tiny\", split=\"train\")\n",
    "\n",
    "Path(\"data\").mkdir(parents=True, exist_ok=True)\n",
    "for i, persona in enumerate(dataset):\n",
    "    with open(Path(\"data\") / f\"persona_{i}.txt\", \"w\") as f:\n",
    "        f.write(persona[\"persona\"])"
   ]
  },
  {
   "cell_type": "markdown",
   "metadata": {
    "id": "yLHTWXRwqO6G"
   },
   "source": [
    "Awesome, now we have a local directory with all the personas that will be attending the party, we can load and index!\n",
    "\n",
    "### Loading and embedding persona documents\n",
    "\n",
    "We will use the `SimpleDirectoryReader` to load the persona descriptions from the `data` directory. This will return a list of `Document` objects."
   ]
  },
  {
   "cell_type": "code",
   "execution_count": 4,
   "metadata": {
    "colab": {
     "base_uri": "https://localhost:8080/"
    },
    "id": "ftj5yIp8qO6G",
    "outputId": "a299b0df-f4ac-420d-fb8a-2a86df4b0a44"
   },
   "outputs": [
    {
     "data": {
      "text/plain": [
       "5000"
      ]
     },
     "execution_count": 4,
     "metadata": {},
     "output_type": "execute_result"
    }
   ],
   "source": [
    "from llama_index.core import SimpleDirectoryReader\n",
    "\n",
    "reader = SimpleDirectoryReader(input_dir=\"data\")\n",
    "documents = reader.load_data()\n",
    "len(documents)"
   ]
  },
  {
   "cell_type": "markdown",
   "metadata": {
    "id": "LQyIou4iqO6G"
   },
   "source": [
    "Now we have a list of `Document` objects, we can use the `IngestionPipeline` to create nodes from the documents and prepare them for the `QueryEngine`. We will use the `SentenceSplitter` to split the documents into smaller chunks and the `HuggingFaceEmbedding` to embed the chunks."
   ]
  },
  {
   "cell_type": "code",
   "execution_count": 5,
   "metadata": {
    "colab": {
     "base_uri": "https://localhost:8080/",
     "height": 1000,
     "referenced_widgets": [
      "10e2d674b12944b691ac94efeed5623c",
      "700358514e334d16b2c1529948063bbe",
      "21b834efd6974a1ca3d297f3d9556a89",
      "6bf9be03e46948b5a3b76c119cd77e2a",
      "7be84e4fc02c47f896d1d3da9db24ecd",
      "0eb57d947c4e47adb5dbf21fe4d5c357",
      "41e69fde1aa642129dc7ee5b5626425f",
      "ceb24b6e91e64104be0808d166773f28",
      "3981c980be2c41e0bfbd1b3f210ef87d",
      "6aaf7f6d26f94c5e88f038a977506ae4",
      "56f207510d5c4c3793bed09411cb4988",
      "6b4b943258a848829aa898fa3043f9a5",
      "9c0eef4665124e878b9492cc10582ce6",
      "5dc1f00c793a454c98df8e14cb1e80ec",
      "30153f2d2ed649bdae67de4ebf1383ba",
      "c7b61ce460ff47a1b0499ea30c9b6b9f",
      "6f7f777b53754626ba149d1a8f792bf5",
      "d1a884b0c348490d9e37c46c9f653555",
      "920fe97afa9247beaef59d83bb6c7a3a",
      "7578419a8eed466982934129a682cee0",
      "db19a80d727245739d30cc5047fff164",
      "46c9db479654473cb0a537698dc1546c",
      "df0e2bb6185b4b96824f4f05e9fbf83c",
      "75e0e1ed6a4141b8b16406278c7f0fbc",
      "9d481e7a3d124832b26822810e0d780a",
      "8e873fcf831a4efab67e44db798190be",
      "ee7eda331ed44a3697d759536700a0b9",
      "1a774a905e2446a48eecb9c5c50f01ed",
      "25fb2bc98ca644ea9d7bf7e027732e34",
      "b28ec4ef45eb4eae8f2c6810e0c1e36d",
      "4ef01e77f2aa4da0a7882b58562d8c8a",
      "7974fe576d0e44ac8d58721f2b02e663",
      "fd133b1f58af453e9c80f27a51a5e0e9",
      "ecdda8d07f2442a49ef3444a8cc134cf",
      "5197f1c44a7a48c3b12bb8267c7fb6ad",
      "771d9c8166ba4ad585d37d42bf9e49d9",
      "ee7cc66f8cce4ecebbadf82ae9dcf9e4",
      "6d5d62481e414b96a65841c2daeb6776",
      "9f101f22890c479bb1dabe9c1c4879a9",
      "a593df64637446a4923c2e1cca9f237b",
      "a33ef82750aa4f46b56a54b3332cd1d8",
      "ef59efba03884ad3a5b132814c7e215e",
      "492310d68e814da382ba9ddb117c8dbe",
      "f9393d1888cb47a383ecbe154ab0e84d",
      "8f753b5da4b24c82bc04b7c6f2e03d21",
      "bd5f92fce98c4a2fbc2be07184872356",
      "50c93d2630074b4a99890d60bae0423c",
      "843f728af911447eb286995edc548ce3",
      "3d5a6a56f25446548c38f43c51e09496",
      "d1e46b4dcf5d4b5ea51129110e9a49fb",
      "3dba4159f9404cf7b159f7d8c14868c6",
      "ef94213101a244f7999391a0150c548d",
      "d797d0a45cac4d1d9050e33dfd544dd2",
      "fb0a3e04fb8649c3a0c4f886fae14215",
      "4499cf8acc5742b6a6d0c4658df1aab8",
      "3bf7459a9aeb415c92560e403be4cdfd",
      "1c1f6c4e99c74d6090fbf945255506d6",
      "d90d695ee7df4b90ac872f53c2a699da",
      "69956bbd69a047aeb0cd4aef71ed994b",
      "9d88536f5b4e4237b82d49d9da2fc4ff",
      "649818b9c68c495a98132da592324854",
      "95808a6c7e27467cb7373d66bf38003e",
      "b4eeb66a0e2848168964825d4f7167ce",
      "96c0a993a83b42678702a4740bc7a6d7",
      "65bc331801cd457293a528e5d9e5c052",
      "2972436bbbd543a29f5b7ec0a2d1be65",
      "4462932b4c8d425295903b94545649c3",
      "ec9c88c51b7c4ef08382426c47480346",
      "fb659d7bee8a4914afa254bc23fdafa8",
      "aefcc31a617e419cb8a908b0d654b3e8",
      "35ef366e94504531b0027f7e7b1d9df9",
      "a54a63be3d584e839a0bd77167c7bf86",
      "893aafac9182468f851b76d40a4edaff",
      "02e0fb405dfb4bfe8fbcc53a5f93128e",
      "a8d7ad6c054e489fa2fc3c928cc8365a",
      "99f094ce2a3d4c708dc49449d775184f",
      "ec22e17677404a44bd472b4f8c8e3115",
      "f10bd9e1a3be438c88a35a67b9010e6c",
      "8508a21577e34ce78fb04851c6f4e247",
      "1a49caf08b3942f09a69f82c722f3c82",
      "ce5c7aa060214c00b3d0a57f25b49f1e",
      "05490dffebc440dfa51d721f9be483b9",
      "013e2b4ca4b14431ba07b97b408984ad",
      "0a529b75f4ed4993a57b244243552d24",
      "0ecc224be78943beb1e7f0730628bd9d",
      "fbcc67d456dc4474ab65827f0f8fcf72",
      "2ee722fd42dd40029d0aa5f8674b8dbf",
      "1fef7d890f58432ebc6b5cc05709601e",
      "a9ecd7eedb9e4c61a658ffb8a95dd71a",
      "4ad98eaa2fc94995a32a8b493fc3fde8",
      "42d2bb5c7a744920bbe985b09c5ee01f",
      "16c93f48ca0243e480496a2fc9e5280f",
      "8c111616184d4480bf7349c3432c85f1",
      "bf0be2fe9a174bc5b8d3de4f7a322a70",
      "ff8e429a0f0644409b75b43fe962cd55",
      "41f702163cd144dcbc20def6db17d888",
      "37dd7a6d675e459a902d42eebffd0f7c",
      "5ee3f3fcbfe54c08b32cf528dff61ae1",
      "2628af7baa334e6d9d501f267fa8fe57",
      "690304f0c73846d8afbc860a867b751d",
      "16726456a39a4699a0bd6f1ff4a1777e",
      "b43d38e023cb4c20ba11f1654ac9222c",
      "c2366473d876443c8afdaf9596921377",
      "c499f0e68687455c869925ec9a53cdb8",
      "9fddcca4f8d74b3da6181f273df6bb6e",
      "c3efcfcda01640bead730295ee733861",
      "75ddf7ae6c814825a816c7a2c4a1ccc6",
      "7d183c7c9ca64ef9a9941d376e02fb71",
      "91daea4ec40a442ea4abd458986d9ce1",
      "47770a204ea549fc83f392afc4d36cf8",
      "370e780baa3b496cbc8f93c67ee7f015",
      "f5cd2fc4fb6f4e9f89c039fa6c289e51",
      "1d0958a99e8b402aa590c459af174398",
      "7268dd6484434c03badb313643f38885",
      "e236d40380ec4605901e5afbfbf2310f",
      "7f1e107c922246449ac5da3788f6e960",
      "ae8c5c28b639477eae0f4c77dfad2ac3",
      "a1b839d2653649ad9f034f194585816b",
      "9b8008bf133e476ca8bcd25ed4ff8e3e",
      "f0a3f7e18df34e80a93a801487ff4b46",
      "60e7a4502bdb47ea8a73783fdc9787cc"
     ]
    },
    "id": "Rqc29QhJqO6G",
    "outputId": "45b4fc8d-54d3-4acd-d241-70222b1bd057"
   },
   "outputs": [
    {
     "data": {
      "application/vnd.jupyter.widget-view+json": {
       "model_id": "10e2d674b12944b691ac94efeed5623c",
       "version_major": 2,
       "version_minor": 0
      },
      "text/plain": [
       "modules.json:   0%|          | 0.00/349 [00:00<?, ?B/s]"
      ]
     },
     "metadata": {},
     "output_type": "display_data"
    },
    {
     "data": {
      "application/vnd.jupyter.widget-view+json": {
       "model_id": "6b4b943258a848829aa898fa3043f9a5",
       "version_major": 2,
       "version_minor": 0
      },
      "text/plain": [
       "config_sentence_transformers.json:   0%|          | 0.00/124 [00:00<?, ?B/s]"
      ]
     },
     "metadata": {},
     "output_type": "display_data"
    },
    {
     "data": {
      "application/vnd.jupyter.widget-view+json": {
       "model_id": "df0e2bb6185b4b96824f4f05e9fbf83c",
       "version_major": 2,
       "version_minor": 0
      },
      "text/plain": [
       "README.md:   0%|          | 0.00/94.8k [00:00<?, ?B/s]"
      ]
     },
     "metadata": {},
     "output_type": "display_data"
    },
    {
     "data": {
      "application/vnd.jupyter.widget-view+json": {
       "model_id": "ecdda8d07f2442a49ef3444a8cc134cf",
       "version_major": 2,
       "version_minor": 0
      },
      "text/plain": [
       "sentence_bert_config.json:   0%|          | 0.00/52.0 [00:00<?, ?B/s]"
      ]
     },
     "metadata": {},
     "output_type": "display_data"
    },
    {
     "data": {
      "application/vnd.jupyter.widget-view+json": {
       "model_id": "8f753b5da4b24c82bc04b7c6f2e03d21",
       "version_major": 2,
       "version_minor": 0
      },
      "text/plain": [
       "config.json:   0%|          | 0.00/743 [00:00<?, ?B/s]"
      ]
     },
     "metadata": {},
     "output_type": "display_data"
    },
    {
     "data": {
      "application/vnd.jupyter.widget-view+json": {
       "model_id": "3bf7459a9aeb415c92560e403be4cdfd",
       "version_major": 2,
       "version_minor": 0
      },
      "text/plain": [
       "model.safetensors:   0%|          | 0.00/133M [00:00<?, ?B/s]"
      ]
     },
     "metadata": {},
     "output_type": "display_data"
    },
    {
     "data": {
      "application/vnd.jupyter.widget-view+json": {
       "model_id": "4462932b4c8d425295903b94545649c3",
       "version_major": 2,
       "version_minor": 0
      },
      "text/plain": [
       "tokenizer_config.json:   0%|          | 0.00/366 [00:00<?, ?B/s]"
      ]
     },
     "metadata": {},
     "output_type": "display_data"
    },
    {
     "data": {
      "application/vnd.jupyter.widget-view+json": {
       "model_id": "f10bd9e1a3be438c88a35a67b9010e6c",
       "version_major": 2,
       "version_minor": 0
      },
      "text/plain": [
       "vocab.txt:   0%|          | 0.00/232k [00:00<?, ?B/s]"
      ]
     },
     "metadata": {},
     "output_type": "display_data"
    },
    {
     "data": {
      "application/vnd.jupyter.widget-view+json": {
       "model_id": "a9ecd7eedb9e4c61a658ffb8a95dd71a",
       "version_major": 2,
       "version_minor": 0
      },
      "text/plain": [
       "tokenizer.json:   0%|          | 0.00/711k [00:00<?, ?B/s]"
      ]
     },
     "metadata": {},
     "output_type": "display_data"
    },
    {
     "data": {
      "application/vnd.jupyter.widget-view+json": {
       "model_id": "690304f0c73846d8afbc860a867b751d",
       "version_major": 2,
       "version_minor": 0
      },
      "text/plain": [
       "special_tokens_map.json:   0%|          | 0.00/125 [00:00<?, ?B/s]"
      ]
     },
     "metadata": {},
     "output_type": "display_data"
    },
    {
     "data": {
      "application/vnd.jupyter.widget-view+json": {
       "model_id": "370e780baa3b496cbc8f93c67ee7f015",
       "version_major": 2,
       "version_minor": 0
      },
      "text/plain": [
       "config.json:   0%|          | 0.00/190 [00:00<?, ?B/s]"
      ]
     },
     "metadata": {},
     "output_type": "display_data"
    },
    {
     "data": {
      "text/plain": [
       "[TextNode(id_='8369d2d4-f87f-4b83-b8ae-055c70c91a45', embedding=[-0.0012166907545179129, 0.01964835450053215, 0.04393022134900093, -0.0022480515763163567, -0.01840735413134098, -0.017943933606147766, 0.009850618429481983, 0.03162042796611786, -0.06904760748147964, -0.04868912324309349, 0.0006960140890441835, -0.039564911276102066, -0.04958917200565338, 0.03078899346292019, -0.0216880664229393, -0.0027349276933819056, 0.009126023389399052, 0.08719330281019211, 0.008962404914200306, 0.012264067307114601, 0.014265610836446285, -0.0663817822933197, 0.03564688563346863, -0.019090434536337852, -0.029022280126810074, -0.0002521576243452728, 0.016371168196201324, -0.006577853579074144, -0.01683872938156128, -0.11301668733358383, -0.0613473579287529, 0.009758847765624523, -0.026674138382077217, 0.014211314730346203, 0.06158553063869476, 0.010618181899189949, 0.013383880257606506, 0.0661582350730896, 0.007938399910926819, 0.017128722742199898, 0.02946525812149048, 0.016287578269839287, -0.025776337832212448, 0.039969224482774734, 0.06221700459718704, -0.0143026327714324, 0.00010034911247203127, -0.01347463857382536, 0.0092460997402668, -0.006291808560490608, 0.026654286310076714, 0.005326927173882723, -0.04016689956188202, -0.003824722021818161, -0.009306668303906918, 0.12138164788484573, 0.0925208330154419, 0.03355773538351059, -0.020379938185214996, 0.04535149782896042, 0.036885518580675125, 0.02111445926129818, -0.18992295861244202, 0.055461134761571884, -0.01283671148121357, 0.013322344981133938, -0.08828184008598328, 0.004321655724197626, -0.009587747044861317, -0.03797062486410141, -0.042976073920726776, 0.014823447912931442, -0.05016675963997841, 0.010955963283777237, 0.037641145288944244, -0.08306688815355301, 0.03876529261469841, 0.01180720143020153, -0.07413017004728317, 0.011005847714841366, 0.040997233241796494, -0.01501508243381977, -0.009427177719771862, -0.04484483227133751, -0.009596306830644608, 0.013063805177807808, -0.0067699444480240345, 0.005632179789245129, -0.019296765327453613, 0.001408410258591175, -0.021571487188339233, -0.07425712049007416, 0.05647488310933113, -0.0035752400290220976, -0.023849153891205788, -0.027712102979421616, 0.022907759994268417, 0.04169970378279686, -0.014327057637274265, 0.4145660400390625, -0.021069778129458427, 0.009426705539226532, 0.03323746100068092, -0.02200036495923996, 0.02922244556248188, 0.02175293117761612, -0.0158701092004776, -0.02552446536719799, -0.036326680332422256, -0.006469127256423235, -0.013789573684334755, 0.0029618677217513323, -0.05544804781675339, -0.014887450262904167, 0.10115818679332733, -0.002526266034692526, 0.038392651826143265, 0.07570239901542664, 0.002035286743193865, 0.0014736342709511518, 0.026450250297784805, -0.006710689514875412, 0.024879977107048035, 0.027458079159259796, -0.03396255150437355, -0.06862200051546097, -0.009689074009656906, 0.052289146929979324, 0.0011179086286574602, 0.013458600267767906, -0.04269835725426674, 0.0902978703379631, -0.04236117750406265, 0.03664664179086685, -0.014839391224086285, 0.04199981316924095, 0.030530355870723724, -0.02882097102701664, 0.037996768951416016, 0.019688883796334267, 0.0092760119587183, -0.00456989835947752, -0.03832633048295975, 0.020215783268213272, -0.10534800589084625, 0.039981771260499954, 0.01081104576587677, -0.02301017753779888, 0.014636309817433357, -0.011900256387889385, -0.0008839758229441941, -0.015807710587978363, -0.060600731521844864, 0.060335345566272736, 0.027676379308104515, 0.003066964680328965, 0.06893238425254822, 0.038687415421009064, -0.05370159074664116, 0.05084344372153282, 0.021472539752721786, -0.10854529589414597, 0.03890175372362137, 0.02543354034423828, 0.02992544323205948, -0.07675382494926453, 0.00380528112873435, 0.0019171948079019785, 0.023697910830378532, -0.005417023319751024, 0.05328604206442833, 0.044684551656246185, -0.05122538283467293, 0.060366190969944, 0.06764762103557587, -0.0028278131503611803, -0.013785071671009064, -0.003540336387231946, 0.04183231666684151, 0.016991300508379936, -0.007885489612817764, -0.014667178504168987, 0.012273910455405712, 0.030603744089603424, 0.015466772951185703, 0.004935315810143948, 0.01319197192788124, -0.007722963113337755, 0.04149544611573219, 0.07607918977737427, 0.027943501248955727, 0.028685694560408592, -0.02972523123025894, -0.035516683012247086, -0.023934705182909966, -0.020681295543909073, 0.0064193252474069595, 0.018683020025491714, -0.039540715515613556, -0.03640550374984741, -0.05553366243839264, -0.01215613353997469, -0.06672630459070206, 0.03554578498005867, -0.0034776758402585983, 0.014298927038908005, -0.006166056729853153, 0.025254743173718452, 0.025818070396780968, -0.05886562168598175, -0.04724389314651489, -0.03968801721930504, -0.030280383303761482, -0.011006620712578297, 0.02976146712899208, -0.02901456132531166, 0.03955613821744919, -0.026667093858122826, 0.09985058754682541, 0.04034730792045593, -0.07052977383136749, -0.037865426391363144, -0.0828121155500412, -0.29204317927360535, -0.004738106392323971, -0.058305662125349045, 0.03224685788154602, -0.00653754360973835, -0.03129264712333679, -0.014681529253721237, 1.1459618690423667e-05, -0.014168390072882175, 0.04249089956283569, -0.05217892304062843, -0.004762495402246714, 0.025107093155384064, 0.03317823261022568, 0.03706491366028786, 0.031464800238609314, 0.06483885645866394, 0.02270432747900486, -0.04323187470436096, -0.039935607463121414, 0.011184751987457275, 0.001118278712965548, 0.02149958722293377, -0.061411283910274506, 0.028283080086112022, 0.031121503561735153, 0.09764666855335236, 0.06495790928602219, -0.04295244440436363, -0.011632186360657215, -0.028545618057250977, -0.02206074818968773, -0.10086125135421753, -0.12030389904975891, -0.0298906322568655, 0.007181066554039717, 0.060019247233867645, 0.06168058514595032, -0.02898729033768177, 0.05447012186050415, -0.05497885122895241, -0.06600643694400787, -0.006225069984793663, 0.03084038756787777, -0.03617457300424576, 0.051751282066106796, 0.019428666681051254, 0.02197212725877762, 0.015907304361462593, 0.02149537391960621, 0.04334402456879616, -0.0265253446996212, -0.01562392245978117, 0.04398070648312569, -0.052200134843587875, -0.04418572038412094, -0.026326356455683708, 0.06348807364702225, 0.01583397202193737, 0.040095794945955276, 0.003292076289653778, -0.06913776695728302, 0.007444939110428095, 0.015396995469927788, 0.043519143015146255, -0.0055228425189852715, -0.039964914321899414, -0.04626647010445595, 0.08251278102397919, -0.07460842281579971, 0.032106027007102966, 0.038717590272426605, -0.044569965451955795, -0.052068088203668594, 0.01632920652627945, 0.02688175067305565, 0.03360869735479355, -0.005370080471038818, 0.0007212305208668113, -0.013809563592076302, 0.059274207800626755, 0.0006668660789728165, -0.0030913520604372025, -0.01006789319217205, -0.03671732917428017, 0.02187732234597206, 0.044772468507289886, -0.05988522991538048, 0.005532239098101854, 0.008995807729661465, 0.00926822517067194, -0.004878726322203875, -0.05336838960647583, -0.011130237951874733, -0.0019991130102425814, -0.01675032638013363, -0.2943289577960968, -0.005060168914496899, 0.054975494742393494, 0.008554738014936447, 0.017922883853316307, 0.044109463691711426, 0.002854900201782584, -0.006194436922669411, 0.03735553100705147, 0.0044551026076078415, 0.10697273164987564, -0.02785668894648552, -0.011497436091303825, -0.04828474298119545, 0.00443942379206419, 0.0005951544735580683, -0.01692253351211548, 0.054948464035987854, -0.01303826179355383, -0.0026137831155210733, 0.005635844077914953, -0.04414178058505058, 0.1414809226989746, -0.011728261597454548, 0.011812119744718075, -0.10652501881122589, -0.0070038544945418835, -0.03370571881532669, -0.009207123890519142, -0.009124495089054108, -0.02045561745762825, -0.023470692336559296, 0.062259022146463394, -0.05752815306186676, 0.028995288535952568, 0.015393637120723724, -0.04498573765158653, 0.05565440654754639, -0.039678558707237244, -0.04856632649898529, -0.06860019266605377, 0.020821016281843185, -0.05205528438091278, -0.037622012197971344, 0.041425302624702454, 0.037872616201639175, -0.01159913744777441, 0.05381076782941818, -0.020121566951274872, 0.04119078442454338, 0.03404059261083603, -0.03579557314515114, -0.04008143022656441, -0.006204919423907995, 0.027966737747192383, 0.10079764574766159, 0.001996573293581605, 0.030810825526714325, 0.03177086263895035, 0.021490013226866722, -0.00847358163446188, 0.01755596324801445, -0.004820250440388918, -0.024628080427646637, 0.02785113826394081], metadata={'file_path': '/content/data/persona_0.txt', 'file_name': 'persona_0.txt', 'file_type': 'text/plain', 'file_size': 132, 'creation_date': '2025-05-16', 'last_modified_date': '2025-05-16'}, excluded_embed_metadata_keys=['file_name', 'file_type', 'file_size', 'creation_date', 'last_modified_date', 'last_accessed_date'], excluded_llm_metadata_keys=['file_name', 'file_type', 'file_size', 'creation_date', 'last_modified_date', 'last_accessed_date'], relationships={<NodeRelationship.SOURCE: '1'>: RelatedNodeInfo(node_id='4362e434-1fd9-42ea-9934-cc319e8c023d', node_type=<ObjectType.DOCUMENT: '4'>, metadata={'file_path': '/content/data/persona_0.txt', 'file_name': 'persona_0.txt', 'file_type': 'text/plain', 'file_size': 132, 'creation_date': '2025-05-16', 'last_modified_date': '2025-05-16'}, hash='08c22e10d5f56a67f714a8fdfb30ee370f1e9b9c8700061740eb62205fbdaf19')}, metadata_template='{key}: {value}', metadata_separator='\\n', text='A local art historian and museum professional interested in 19th-century American art and the local cultural heritage of Cincinnati.', mimetype='text/plain', start_char_idx=0, end_char_idx=132, metadata_seperator='\\n', text_template='{metadata_str}\\n\\n{content}'),\n",
       " TextNode(id_='d38f8096-220d-4c33-90d0-845266db82b0', embedding=[0.03611362725496292, 0.09569817036390305, 0.036235831677913666, -0.04902021959424019, -0.04199538752436638, -0.04528423026204109, 0.10047344863414764, 0.020159412175416946, -0.013256050646305084, -0.012329843826591969, -0.017506320029497147, -0.097047358751297, 0.028266070410609245, 0.003858699696138501, 0.010448949411511421, 0.033588260412216187, -0.0024666637182235718, 0.01200825721025467, 0.022308170795440674, 0.007083400618284941, 0.056839004158973694, -0.0519750714302063, -0.031354960054159164, -0.01408206857740879, -0.04053026810288429, 0.0006499034352600574, 0.027442162856459618, -0.022617388516664505, -0.020895911380648613, -0.07257712632417679, -0.0410146489739418, 0.0020033675245940685, -0.014599539339542389, 0.021457664668560028, -0.017774192616343498, 0.01660093106329441, 0.02609931118786335, 0.027272360399365425, 0.002833290956914425, 0.09506590664386749, 0.028221234679222107, -0.06032022088766098, 0.01187818218022585, 0.04583726450800896, 0.038976430892944336, -0.05364774912595749, -0.008484209887683392, -0.017063818871974945, -0.03800134360790253, -0.0600748285651207, -0.0601552277803421, -0.03248625993728638, -0.01759023778140545, -0.015345579013228416, -0.019712939858436584, -0.0037953208666294813, 0.10604359209537506, 0.025524137541651726, -0.004971067886799574, 0.01758417673408985, 0.027554208412766457, 0.06864966452121735, -0.1349383443593979, 0.08098789304494858, -0.034578122198581696, 0.07090311497449875, -0.021576793864369392, -0.04527241736650467, -0.07844150066375732, -0.07712452113628387, -0.07475370168685913, 0.04788285866379738, 0.027020689100027084, 0.047716785222291946, 0.030273493379354477, -0.028515255078673363, 0.011513293720781803, -0.014037384651601315, -0.04020312801003456, 0.05648066848516464, 0.03305723890662193, -0.006556470412760973, -0.02909267321228981, -0.048557378351688385, 0.031891319900751114, 0.03733609989285469, -0.003937101457268, 0.012926381081342697, -0.012033269740641117, 0.018538640812039375, -0.04283541068434715, 0.003959616646170616, 0.029617663472890854, 0.03564627468585968, 0.008411074988543987, -0.021389201283454895, -0.01163898129016161, 0.06494497507810593, -0.03495262935757637, 0.38454440236091614, -0.005644314922392368, -0.03024195320904255, 0.0759526789188385, 0.0033003806602209806, 0.0258319228887558, -0.026270538568496704, 0.029480082914233208, -0.024154311046004295, 0.03680628165602684, -0.006355521734803915, -0.030161017552018166, 0.03226350620388985, -0.052209775894880295, 0.018465979024767876, 0.054983362555503845, -0.0012711620656773448, 0.042666226625442505, 0.05337261036038399, -0.02252533659338951, -0.02561093121767044, -0.004647424444556236, -0.055877335369586945, 0.05712766945362091, 0.006650419440120459, 0.005297892261296511, 0.01182346511632204, 0.01332760974764824, 0.048974182456731796, 0.017474906519055367, 0.054218970239162445, 0.03660314530134201, 0.011723208241164684, -0.03399493917822838, 0.017829788848757744, 0.0008546776953153312, 0.02039184980094433, -0.019848233088850975, -0.007147795986384153, 0.031677164137363434, 0.007983759976923466, -0.04559683799743652, 0.013935253955423832, 0.03544005751609802, 0.05084625259041786, -0.09711726754903793, 0.04854004457592964, -0.02024153620004654, 0.056769952178001404, -0.009059959091246128, 0.06916642934083939, -0.035639919340610504, 0.01953796297311783, -0.020504862070083618, -0.009065729565918446, -0.0067741116508841515, -0.025433208793401718, 0.08360806852579117, 0.019676433876156807, -0.052604444324970245, -0.0248138178139925, -0.0010540669318288565, -0.1044955924153328, -0.01965097337961197, 0.04283449426293373, 0.02759602852165699, -0.08602556586265564, -0.0003278242365922779, 0.02173270843923092, 0.036881983280181885, -0.04390401393175125, 0.049963388592004776, 0.00872123520821333, -0.03245353698730469, 0.03686979413032532, 0.07160535454750061, -0.01081789005547762, 0.009933480992913246, 0.035259395837783813, 0.006526535842567682, 0.010043732821941376, 0.02270687185227871, 0.01332886517047882, -0.01478402316570282, -0.01185060665011406, -0.012285890989005566, -0.026351070031523705, -0.06581906974315643, 0.007235500030219555, 0.06472866237163544, -0.016229398548603058, 0.029128266498446465, 0.061332374811172485, -0.008855856023728848, -0.061575282365083694, 0.04221672564744949, 0.0019741198047995567, -0.00831959955394268, 0.008592532947659492, -0.05737100914120674, 0.012194501236081123, -0.05427747219800949, 0.08481889963150024, -0.0099408607929945, 0.01133383996784687, -0.007971505634486675, -0.04112139344215393, 0.012277310714125633, 0.03178389370441437, 0.021038655191659927, -0.013510951772332191, -0.018771030008792877, -0.008061523549258709, -0.09423196315765381, 0.03924895077943802, 0.003722714027389884, -0.03350632265210152, 0.03415384516119957, -0.01709822379052639, 0.07617250829935074, 0.010541354306042194, -0.027406109496951103, -0.0922233983874321, -0.046259183436632156, -0.2987281382083893, 0.05934477597475052, 0.0017912030452862382, 0.03238242119550705, 0.009432449005544186, 0.008311041630804539, 0.008090810850262642, 0.0063687097281217575, 0.021857520565390587, 0.0002812251332215965, -0.002552064135670662, -0.03752119466662407, -0.0063289436511695385, 0.1280592978000641, -0.006476145703345537, 0.022176383063197136, 0.024388493970036507, -0.0216086246073246, -0.04639754071831703, -0.03325614705681801, -0.008786806836724281, 0.00174462900031358, -0.01390043180435896, -0.10386373847723007, 0.01316988654434681, -0.012373977340757847, 0.09348782151937485, 0.0815652534365654, -0.02846684493124485, -0.06764980405569077, 0.014613100327551365, 0.04317595809698105, -0.035280607640743256, -0.1587855964899063, 0.02449719049036503, -0.010075769387185574, 0.06675983965396881, -0.042343657463788986, -0.008520192466676235, 0.012162839993834496, 0.024936679750680923, -0.028999513015151024, 0.004507541656494141, 0.045274682343006134, -0.06360554695129395, 0.026465339586138725, -0.008584098890423775, 0.003500482300296426, 0.026174189522862434, 0.01817452162504196, -0.00044673154479824007, 0.0031275346409529448, -0.01032736711204052, -0.015588277950882912, -0.0818270891904831, -0.016377989202737808, -0.02907055802643299, -0.018300985917448997, -0.024201394990086555, 0.06350688636302948, 0.048237722367048264, -0.009549514390528202, 0.06126846373081207, -0.005761059001088142, 0.036699891090393066, -0.06329570710659027, -0.03708230331540108, 0.03604619950056076, 0.07068426162004471, -0.006481899414211512, 0.006403625942766666, 0.12282878160476685, -0.06849022209644318, -0.02206568792462349, 0.015235752798616886, -0.018185941502451897, 0.010617522522807121, -0.03380526974797249, 0.01633218117058277, 0.031079908832907677, 0.0805106833577156, -0.053028933703899384, -0.0493943989276886, -0.01524129044264555, 0.02939157746732235, 0.01058404054492712, 0.0014409733703359962, -0.041534002870321274, 0.021881090477108955, -0.01749669946730137, -0.022430816665291786, 0.04109565541148186, -0.0302119143307209, -0.02236955054104328, -0.03685969114303589, -0.010747752152383327, -0.28948143124580383, 0.05904527008533478, -0.05543343350291252, 0.02839711867272854, 0.09312278777360916, 0.0113790612667799, -0.06155528873205185, 0.01451509352773428, 0.002252443926408887, -0.01823425479233265, 0.12801030278205872, 0.005698731169104576, 0.016466759145259857, 0.033223532140254974, 0.016368452459573746, 0.028133852407336235, 0.02750774286687374, -0.0011844973778352141, 0.015025706961750984, -0.04279652610421181, -0.026515979319810867, -0.05757053941488266, 0.12236282974481583, 0.0245270486921072, -0.026363536715507507, -0.07415759563446045, -0.0009946951176971197, -0.02354462817311287, -0.005900863092392683, -0.07324033230543137, 0.025544248521327972, 0.0001038809641613625, 0.040813591331243515, 0.0013304316671565175, 0.008597471751272678, 0.024402927607297897, -0.01526831928640604, -0.00925245601683855, 0.0007454353617504239, -0.02730667032301426, -0.046816762536764145, -0.02511591464281082, 0.04374532774090767, 0.012114276178181171, 0.06566782295703888, -0.013740533031523228, -0.03860817104578018, -0.031179096549749374, 0.009484400041401386, 0.0026820427738130093, 0.02743552066385746, -0.04097690060734749, -0.06258620321750641, 0.05030214786529541, 0.029875822365283966, -0.0052648321725428104, -0.04356813430786133, -0.03754564747214317, 0.08407533168792725, -0.048496559262275696, -0.0010769600048661232, 0.019511142745614052, 0.021083107218146324, -0.05720596760511398, -0.04119093343615532], metadata={'file_path': '/content/data/persona_1.txt', 'file_name': 'persona_1.txt', 'file_type': 'text/plain', 'file_size': 266, 'creation_date': '2025-05-16', 'last_modified_date': '2025-05-16'}, excluded_embed_metadata_keys=['file_name', 'file_type', 'file_size', 'creation_date', 'last_modified_date', 'last_accessed_date'], excluded_llm_metadata_keys=['file_name', 'file_type', 'file_size', 'creation_date', 'last_modified_date', 'last_accessed_date'], relationships={<NodeRelationship.SOURCE: '1'>: RelatedNodeInfo(node_id='9aff82bd-d674-4f15-988e-5b6bb4d9efc5', node_type=<ObjectType.DOCUMENT: '4'>, metadata={'file_path': '/content/data/persona_1.txt', 'file_name': 'persona_1.txt', 'file_type': 'text/plain', 'file_size': 266, 'creation_date': '2025-05-16', 'last_modified_date': '2025-05-16'}, hash='8fd383c2295877fb09df2b4958616ab2d341e6c37ec2b7a200d83b33c15515ae')}, metadata_template='{key}: {value}', metadata_separator='\\n', text='An anthropologist or a cultural expert interested in the intricacies of Cypriot culture, history, and society, particularly someone who has spent considerable time researching and living in Cyprus to gain a deep understanding of its people, customs, and way of life.', mimetype='text/plain', start_char_idx=0, end_char_idx=266, metadata_seperator='\\n', text_template='{metadata_str}\\n\\n{content}'),\n",
       " TextNode(id_='e1c6d81d-10f5-491d-bf23-d14a15e9ab32', embedding=[-0.0033994719851762056, -0.001493224292062223, -0.030169598758220673, -0.08724969625473022, -0.04741945117712021, 0.006573318969458342, 0.03897934406995773, 0.02741963416337967, -0.020118827000260353, 0.007086637429893017, 0.016113171353936195, -0.02652706392109394, 0.004410965368151665, -0.019687723368406296, 0.04669671133160591, 0.057740576565265656, 0.037407033145427704, 0.11277042329311371, -0.05785553529858589, 0.014962950721383095, 0.012546617537736893, -0.02185576595366001, -0.04206450283527374, -0.024498427286744118, 0.02077304758131504, -0.006877843290567398, 0.008720457553863525, -0.025600958615541458, -0.06736329197883606, -0.06149515137076378, 0.0052003273740410805, 0.029657069593667984, 0.07742204517126083, 0.05171656608581543, 0.012743649072945118, 0.015773629769682884, 0.02462184987962246, 0.024298274889588356, -0.07634210586547852, 0.02440364845097065, -0.002128900960087776, -0.015509308315813541, -0.017842041328549385, 0.02118385024368763, 0.021245721727609634, -0.004265476018190384, 0.003602063050493598, -0.0764726772904396, -0.11212407052516937, -0.09683405607938766, 0.006236052606254816, -0.0334867425262928, -0.03427838534116745, 0.06930240988731384, -0.04684075713157654, 0.011611937545239925, 0.06644448637962341, 0.0006443397141993046, -0.00023558801331091672, 0.040984246879816055, 0.07088861614465714, -0.0005447100847959518, -0.12177904695272446, 0.11700870096683502, -0.005124999210238457, 0.05115339532494545, -0.010826990008354187, -0.018084663897752762, 0.01794390194118023, -0.05293756723403931, -0.003525061998516321, 0.042369335889816284, 0.05710887908935547, 0.05538790300488472, 0.010649426840245724, 0.043790217489004135, -0.012908006086945534, 0.006574756931513548, 0.010158306919038296, 0.054208334535360336, 0.03607920929789543, -0.024419071152806282, -0.005226777866482735, -0.005729211959987879, 0.023661360144615173, 0.01748761720955372, -0.013215675950050354, -0.019544243812561035, 0.014114311896264553, 0.010451476089656353, -0.0205003023147583, -0.0049197496846318245, 0.02937578782439232, 0.0007810233510099351, 0.0038016976322978735, -0.023255730047822, -0.0538945347070694, 0.0022393043618649244, -0.05238603800535202, 0.3861691355705261, 0.024445539340376854, 0.016682149842381477, 0.09922541677951813, 0.022874094545841217, 0.03380023315548897, 0.006251095328480005, 0.030772829428315163, -0.062081076204776764, -0.02827988751232624, -0.05716107413172722, -0.04501613229513168, -0.06446260958909988, -0.021647023037075996, 0.011855293065309525, 0.042472634464502335, -0.018143698573112488, -0.0036667645908892155, 0.011174768209457397, -0.01503542996942997, -0.01279748510569334, -0.045880094170570374, -0.019169790670275688, 0.01158271636813879, -0.04179192706942558, 0.019367419183254242, 0.004980054218322039, 0.030196387320756912, 0.08233723044395447, 0.04821687191724777, 0.028566638007760048, 0.04010556638240814, -0.01843263767659664, -0.04559251293540001, 0.013030021451413631, 0.0029140692204236984, 0.03169109672307968, 0.008961522951722145, 0.023520689457654953, 0.016702277585864067, 0.04045436531305313, 0.04263680428266525, 0.03647517412900925, -0.027280835434794426, -0.027106383815407753, -0.08764486759901047, 0.07807889580726624, -0.07387675344944, 0.034034907817840576, -0.01556040532886982, 0.1450241655111313, -0.011998872272670269, 0.054867830127477646, -0.07715103775262833, 0.06730791181325912, 0.0009664034005254507, 0.039475079625844955, 0.07430332899093628, -0.0265961866825819, -0.016508327797055244, 0.0032590460032224655, -0.003935518674552441, -0.04949040710926056, -0.04417887330055237, 0.06749890744686127, 0.035038597881793976, -0.0616685152053833, -0.01707276701927185, 0.019590893760323524, 0.012190807610750198, -0.02239767089486122, 0.03478057682514191, -0.013559808023273945, 0.011344034224748611, -0.018576430156826973, 0.07083301991224289, -8.365102985408157e-05, 0.023224996402859688, 0.0509943850338459, 0.021085651591420174, -0.018231548368930817, 0.0236804261803627, -0.019769685342907906, -0.021730542182922363, -0.022968897596001625, -0.03520078957080841, 0.012805690057575703, 0.055903397500514984, -0.03416653722524643, 0.02100825123488903, 0.02238772250711918, 0.024509405717253685, 0.0054441471584141254, -0.0862879827618599, -0.0843653529882431, 0.021576903760433197, -0.013262184336781502, 0.03479830548167229, -0.09438880532979965, -0.02619483508169651, -0.015016687102615833, -0.06754335761070251, 0.06526432931423187, -0.03099062293767929, 0.019750000908970833, 0.01396925374865532, 0.014669443480670452, -0.011854401789605618, -0.0020712001714855433, 0.03771798312664032, -0.0252781193703413, -0.014453915879130363, 0.033602043986320496, -0.0571913942694664, 0.0240093432366848, 0.0023609756026417017, -0.010308986529707909, 0.029347693547606468, -0.038933370262384415, 0.04940260946750641, -0.01126112136989832, -0.06704175472259521, -0.021765174344182014, -0.04634732007980347, -0.2943255305290222, 0.022107472643256187, 0.01456371694803238, 0.00853821076452732, -0.007951658219099045, 0.05200238525867462, -0.03429236635565758, 0.03739180043339729, -0.06621381640434265, 0.06357377022504807, 0.08823933452367783, 0.029993563890457153, 0.03104509599506855, 0.08422114700078964, 0.054427847266197205, 0.027992961928248405, 0.025875607505440712, 0.009391933679580688, -0.013087193481624126, -0.008131046779453754, 0.01036042533814907, -0.01057596318423748, 0.04094390943646431, -0.04060130938887596, 0.038925860077142715, 0.060024552047252655, 0.0450604222714901, 0.08584044128656387, 0.021779028698801994, -0.008498438633978367, -0.0066666146740317345, 0.035729002207517624, -0.013061339035630226, -0.11529460549354553, 0.02339867874979973, -0.0571880042552948, -0.04311508312821388, -0.03742401301860809, -0.01868094876408577, 0.0003047058416996151, -0.029337221756577492, 0.019868696108460426, 0.03447113186120987, -0.04906094819307327, -0.031644031405448914, -0.04750741273164749, 0.0691823810338974, 0.056329574435949326, 0.04460355266928673, 0.02579834684729576, -0.027734989300370216, -0.11078400909900665, -0.01850687339901924, 0.02967674657702446, -0.028686026111245155, 0.0004687250475399196, -0.05516628175973892, 0.07490887492895126, -0.03883199021220207, -0.017776941880583763, 0.0198807530105114, -0.05328386649489403, 0.006086522247642279, -0.023198291659355164, 0.024329200387001038, 0.029315872117877007, 0.001188466208986938, 0.011749112978577614, -0.0013642087578773499, -0.05409420654177666, 0.00014454129268415272, 0.06463931500911713, -0.0414976142346859, -0.034814875572919846, 0.020238121971488, -0.003683180082589388, 0.0071233888156712055, -0.052273813635110855, -0.018231241032481194, -0.059801097959280014, 0.061691030859947205, -0.026822058483958244, -0.0656503364443779, 0.028380168601870537, 0.019229980185627937, -0.04586557671427727, 0.04303579032421112, -0.06251059472560883, 0.037721358239650726, -0.0019504308002069592, -0.04298636317253113, 0.09744199365377426, -0.031124640256166458, -0.041835036128759384, -0.057022448629140854, -0.06430933624505997, -0.27975183725357056, 0.007421805988997221, -0.04119320586323738, 0.01857137493789196, 0.005050420295447111, 0.04486377164721489, 0.022249100729823112, -0.033420905470848083, -0.06259959191083908, -0.03654256835579872, 0.08106040209531784, 0.05752444639801979, -0.021534349769353867, 0.020526595413684845, -0.029643457382917404, 0.0396546870470047, 0.05486753582954407, -0.005494393408298492, -0.03159952163696289, -0.08417948335409164, -0.03780872002243996, -0.0558522567152977, 0.10357940942049026, -0.0005975535605102777, -0.019136739894747734, -0.022534873336553574, -0.02779971994459629, -0.039670780301094055, 0.024412745609879494, -0.04678240790963173, 0.003853818168863654, -0.009242856875061989, 0.06308889389038086, -0.003803797299042344, 0.002486377488821745, -0.008404864929616451, 0.025601381435990334, 0.0011097273090854287, 0.018118133768439293, 0.041759975254535675, -0.05312122777104378, -0.02325262501835823, 0.031059129163622856, -0.023690668866038322, 0.02923695370554924, 0.0020188812632113695, -0.003601845819503069, -0.056829847395420074, -0.03028092160820961, 0.00815342366695404, 0.061572685837745667, 0.03438184782862663, -0.051963698118925095, 0.012243175879120827, 0.011819505132734776, 0.0909891426563263, -0.07390875369310379, 0.04539191722869873, 0.0476534441113472, -0.07045654207468033, -0.02668728493154049, 0.03928278014063835, -0.037101224064826965, -0.011526636779308319, 0.044130124151706696], metadata={'file_path': '/content/data/persona_10.txt', 'file_name': 'persona_10.txt', 'file_type': 'text/plain', 'file_size': 207, 'creation_date': '2025-05-16', 'last_modified_date': '2025-05-16'}, excluded_embed_metadata_keys=['file_name', 'file_type', 'file_size', 'creation_date', 'last_modified_date', 'last_accessed_date'], excluded_llm_metadata_keys=['file_name', 'file_type', 'file_size', 'creation_date', 'last_modified_date', 'last_accessed_date'], relationships={<NodeRelationship.SOURCE: '1'>: RelatedNodeInfo(node_id='d6de8897-4d81-439e-a263-672500e43b12', node_type=<ObjectType.DOCUMENT: '4'>, metadata={'file_path': '/content/data/persona_10.txt', 'file_name': 'persona_10.txt', 'file_type': 'text/plain', 'file_size': 207, 'creation_date': '2025-05-16', 'last_modified_date': '2025-05-16'}, hash='74ade10ba74d10bbc664255917db7aa08e670803ca080c8338edc396a817cd8b')}, metadata_template='{key}: {value}', metadata_separator='\\n', text='A social justice educator or activist focused on diversity, equity, and inclusion, likely working with families and communities to promote empathy and understanding of intersectional identity and oppression.', mimetype='text/plain', start_char_idx=0, end_char_idx=207, metadata_seperator='\\n', text_template='{metadata_str}\\n\\n{content}'),\n",
       " TextNode(id_='5a397e52-b446-4121-b78e-df74d617f2a5', embedding=[-0.0033537556882947683, 0.04548278823494911, 0.017711564898490906, 0.022697143256664276, 0.03110692836344242, -0.04073763266205788, 0.008566166274249554, 0.03050854243338108, -0.028474653139710426, 0.03533022105693817, -0.022924499586224556, -0.030612686648964882, 9.584054350852966e-05, 0.0493619441986084, 0.027061158791184425, 0.04382409155368805, 0.046850547194480896, 0.08556737005710602, 0.004474146291613579, 0.037128012627363205, 0.025490662083029747, -0.028428329154849052, -0.04855584725737572, -0.0654522255063057, -0.011334005743265152, -0.018477190285921097, 0.03565013408660889, -0.016274506226181984, -0.005684588570147753, -0.12178516387939453, -0.05691501498222351, 0.00424899160861969, -0.026613470166921616, 0.028986232355237007, 0.018040606752038002, 0.07500724494457245, 0.05260399356484413, -0.01879492588341236, -0.03856987506151199, 0.004721345379948616, 0.019921155646443367, 0.011820736341178417, -0.009112549014389515, 0.007939394563436508, 0.018730664625763893, -0.0407833531498909, -0.010995912365615368, -0.07408387213945389, -0.04139634221792221, -0.11557868123054504, -0.008807552978396416, -0.009955610148608685, -0.05353974923491478, 0.047166239470243454, 0.044568222016096115, 0.005169294774532318, 0.0616498626768589, 0.04797273129224777, 0.04776310548186302, 0.004178439732640982, 0.06424488872289658, 0.04660315066576004, -0.1760152131319046, 0.10262405872344971, 0.010694289579987526, 0.03165830671787262, -0.018749138340353966, -0.04004337638616562, 0.06608688831329346, -0.07522822916507721, -0.09122894704341888, 0.02323799394071102, -0.03145040199160576, 0.051633868366479874, 0.06994924694299698, -0.04529082402586937, -0.09404680877923965, 0.050710346549749374, -0.06473720073699951, -0.0033477921970188618, 0.0854611024260521, 0.02050214633345604, -0.0376303493976593, -0.04986366257071495, 0.027707578614354134, -0.00696058664470911, 0.004966180305927992, -0.0001157734077423811, -0.006904722191393375, 0.027879120782017708, -0.01557884644716978, -0.015919853001832962, 0.11371053755283356, -0.03514993563294411, 0.002201241673901677, -0.002542848465964198, 0.0044375695288181305, 0.034596942365169525, -0.05436002463102341, 0.38735848665237427, -0.03953897953033447, 0.010582821443676949, 0.07150118798017502, 0.016402194276452065, 0.03750592842698097, 0.001497697550803423, 0.02361196093261242, -0.03753214329481125, 0.039559897035360336, 0.044823914766311646, 0.02685684710741043, -0.0803203135728836, -0.0010728163179010153, 0.004575653932988644, 0.08154961466789246, -0.002290101954713464, -3.0690971470903605e-05, 0.04582463204860687, -0.04104609042406082, 0.010509541258215904, -0.03307923674583435, -0.031209886074066162, 0.02418048121035099, 0.015370276756584644, 0.030440770089626312, 0.011389777064323425, 0.02599690482020378, 0.06150589883327484, 0.0238175205886364, 0.01013868860900402, 0.020457414910197258, -0.005856262519955635, 0.00012311208411119878, -0.011569356545805931, -0.03502949699759483, -0.025060312822461128, -0.04240593686699867, -0.033471979200839996, -0.060564298182725906, 0.03021439164876938, -0.04437585920095444, 0.04829457774758339, -0.05184309184551239, -0.0589137077331543, -0.09703202545642853, 0.06484600901603699, 0.020236661657691002, -0.02622547186911106, 0.005971340928226709, 0.03573020175099373, -0.011075499467551708, -0.0014657388674095273, -0.0035933940671384335, 0.00014893569459673017, 0.09062113612890244, 0.0338636115193367, 0.047942258417606354, 0.011084997095167637, -0.018758481368422508, 0.02929774858057499, 0.0007573243929073215, -0.058575086295604706, -0.01945098303258419, 0.03479394689202309, 0.10370790213346481, -0.031410038471221924, 0.019598940387368202, -0.021978450939059258, 0.013774067163467407, 0.02762599103152752, 0.011733923107385635, 0.008766915649175644, 0.004120773170143366, -0.017763983458280563, 0.047820575535297394, -0.01139733474701643, -0.03801536187529564, -0.016564376652240753, -0.01598075032234192, -0.0014174210373312235, -0.015179152600467205, -0.0368569940328598, -0.02758350782096386, -0.011686349287629128, 0.00667087035253644, 0.005296453833580017, -0.03978900983929634, -0.02675165794789791, -0.02412036433815956, 0.035306014120578766, 0.008606480434536934, 0.013746827840805054, 0.02754982002079487, -0.03798897936940193, 0.013648436404764652, -0.01345003955066204, 0.03627341613173485, -0.00693548284471035, 0.0018342140829190612, 0.010843117721378803, -0.017000911757349968, 0.022957652807235718, -0.028467774391174316, 0.00262635899707675, 0.008046797476708889, 0.019315185025334358, 0.005231295246630907, 0.008781194686889648, 0.05059415102005005, 0.06125891953706741, -0.019044863060116768, 0.02817464806139469, -0.06921733170747757, 0.04790552705526352, -0.0037677783984690905, -0.0013065297389402986, 0.05627264454960823, -0.022204099223017693, 0.09209971874952316, 0.0615282878279686, 0.01065997313708067, -0.053035106509923935, -0.1083819568157196, -0.30349037051200867, -0.059629641473293304, -0.08478712290525436, -0.009610341861844063, 0.012225150130689144, 0.005371111445128918, -0.03659357130527496, -0.010604266077280045, -0.0248167272657156, 0.06499291211366653, -0.01810445450246334, -0.033925611525774, 0.07996591180562973, 0.04932833090424538, -0.002789268735796213, -0.0007018539472483099, 0.06583841145038605, -0.03754640743136406, -0.039566464722156525, 0.011591576039791107, 0.03218677639961243, -0.029099654406309128, -0.04924871027469635, -0.027954744175076485, 0.031328026205301285, -0.017546286806464195, 0.10732273012399673, 0.0746946856379509, -0.005115123465657234, 0.016699964180588722, -0.009075317531824112, 0.04279961436986923, -0.035276949405670166, -0.14822226762771606, 0.011322056874632835, -0.009682801552116871, -0.015536858700215816, -0.061407338827848434, -0.0505358912050724, -0.020125970244407654, 0.06467156857252121, 0.06768860667943954, -0.013418391346931458, 0.004006575793027878, -0.06520974636077881, 0.005313310772180557, -0.01296904869377613, 0.027062680572271347, -0.05355246737599373, -0.005665433593094349, 0.028365112841129303, 0.032211653888225555, 0.04537336155772209, -0.03311173617839813, -0.022287486121058464, 0.046523481607437134, -0.043128419667482376, 0.04179196432232857, -0.013836249709129333, -0.029043056070804596, 0.05827546864748001, -0.013352185487747192, 0.036776281893253326, 0.04828916862607002, -0.01239213440567255, -0.0552813895046711, -0.00707836402580142, -0.013932740315794945, 0.03522859141230583, -0.06246720999479294, 0.015114515088498592, 0.018437396734952927, -0.057877689599990845, -0.03707197681069374, 0.05869867280125618, -0.024907143786549568, 0.008299280889332294, 0.0019903110805898905, -0.04643391817808151, -0.018869437277317047, 0.03109818510711193, -0.007408014498651028, -0.034431930631399155, -0.025042258203029633, -0.030408386141061783, 0.028370533138513565, -0.013271661475300789, -0.05108031630516052, -0.01789032109081745, 0.007750940974801779, 0.01748630777001381, 0.052847377955913544, -0.07356161624193192, -0.022336510941386223, 0.062346044927835464, 0.006955325603485107, -0.27326181530952454, -0.02109348401427269, -0.03841120004653931, -0.011410245671868324, -0.01966768130660057, 0.038163866847753525, 0.013994336128234863, 0.03468095883727074, -0.008105423301458359, 0.013223081827163696, 0.012483861297369003, 0.04823250696063042, -0.010489779524505138, 0.07422737032175064, -0.004990816581994295, 0.015337646007537842, -0.01657094806432724, 0.010184668004512787, 0.008339502848684788, -0.023647967725992203, 0.0022336964029818773, -0.015311653725802898, 0.15672248601913452, -0.02732449397444725, -0.0092170936986804, 0.014562073163688183, -0.04150785878300667, -0.005383326206356287, 0.004920590203255415, -0.04558834433555603, 0.03706567734479904, -0.013973763212561607, 0.10962308943271637, -0.06922420114278793, -0.006413369905203581, 0.053782492876052856, 0.00020299616153351963, 0.012192928232252598, 0.01813480444252491, -0.07859408855438232, 0.034281060099601746, -0.008551566861569881, 0.07117805629968643, -1.344075735687511e-05, 0.0298211257904768, -0.0032295077107846737, 0.019742632284760475, -0.013366748578846455, -0.033210333436727524, 0.07109320908784866, -0.0009752951445989311, 0.006359718274325132, -0.04205046966671944, -0.026729559525847435, -0.001805843086913228, 0.034599512815475464, -0.01122988574206829, -0.010928339324891567, -0.01581173948943615, -0.03466570004820824, -0.020000789314508438, -0.08545096218585968, -0.06076806038618088, -0.019660446792840958, 0.06789503991603851], metadata={'file_path': '/content/data/persona_100.txt', 'file_name': 'persona_100.txt', 'file_type': 'text/plain', 'file_size': 107, 'creation_date': '2025-05-16', 'last_modified_date': '2025-05-16'}, excluded_embed_metadata_keys=['file_name', 'file_type', 'file_size', 'creation_date', 'last_modified_date', 'last_accessed_date'], excluded_llm_metadata_keys=['file_name', 'file_type', 'file_size', 'creation_date', 'last_modified_date', 'last_accessed_date'], relationships={<NodeRelationship.SOURCE: '1'>: RelatedNodeInfo(node_id='f63a3aad-706f-4329-b588-bf41a7014a6f', node_type=<ObjectType.DOCUMENT: '4'>, metadata={'file_path': '/content/data/persona_100.txt', 'file_name': 'persona_100.txt', 'file_type': 'text/plain', 'file_size': 107, 'creation_date': '2025-05-16', 'last_modified_date': '2025-05-16'}, hash='0884a69bac84ff583abc447b13b31afe141e0e416ef5cace6fe82113f28ce74f')}, metadata_template='{key}: {value}', metadata_separator='\\n', text='An environmental conservationist focused on wetland ecosystems and their role in mitigating climate change.', mimetype='text/plain', start_char_idx=0, end_char_idx=107, metadata_seperator='\\n', text_template='{metadata_str}\\n\\n{content}'),\n",
       " TextNode(id_='6b975a98-1114-4483-a05c-4413ccfbe41d', embedding=[-0.010543626733124256, 0.06430502980947495, 0.0231026578694582, -0.04603038728237152, -0.013166435062885284, -0.06519319862127304, 0.1195562481880188, 0.02164013311266899, -0.05769067257642746, 0.05027131736278534, -0.046040307730436325, -0.07321535050868988, -0.0005983564187772572, 0.022795990109443665, 0.0010782318422570825, 0.032322850078344345, 0.044313449412584305, 0.027975112199783325, 0.0012020556023344398, 0.10411517322063446, 0.023946888744831085, 0.04856225848197937, -0.019481344148516655, -0.05552593991160393, -0.0110637741163373, 0.029702192172408104, 0.046997781842947006, -0.06176385655999184, -0.03201988339424133, -0.04332898557186127, -0.0073672812432050705, -0.02931196801364422, -0.005877429619431496, 0.046019766479730606, 0.011673256754875183, 0.00025481742341071367, 0.02978302352130413, 0.05542944744229317, -0.03859732300043106, 0.06466367095708847, -0.02771485410630703, -0.022604865953326225, 0.03310830146074295, 0.03992128744721413, 0.021123183891177177, -0.07778632640838623, -0.06631562858819962, -0.028079316020011902, 0.021688958629965782, -0.08112527430057526, -0.021502463147044182, 0.014815702103078365, -0.013076556846499443, 0.04181351140141487, -0.009760917164385319, -0.05114467442035675, 0.060311634093523026, 0.0007925920654088259, -0.021421853452920914, 0.008016787469387054, 3.64882180292625e-05, 0.04945245012640953, -0.1324375718832016, 0.07250884920358658, 0.0149651188403368, 0.04226306825876236, 0.0060248891822993755, -0.052058145403862, 0.01609070599079132, -0.06544500589370728, -0.01413060910999775, 0.0024129583034664392, -0.034825824201107025, 0.09315627068281174, -0.0146565493196249, 0.012945139780640602, -0.02433071658015251, -0.03543649613857269, -0.010673655197024345, 0.08398127555847168, 0.008284036070108414, -0.010830276645720005, -0.05613401532173157, -0.09642745554447174, -0.0056929257698357105, -0.01223084982484579, 0.0095700453966856, -0.07220801711082458, -0.04368553310632706, 0.0062187789008021355, -0.007071657571941614, -0.03327805921435356, -0.014938193373382092, 0.08802248537540436, -0.023514820262789726, -0.03968694433569908, 0.024011118337512016, 0.034754518419504166, -0.019899651408195496, 0.37995266914367676, -0.008360969834029675, -0.01585841365158558, 0.06803086400032043, -0.0013136019697412848, 0.04128978028893471, 0.0037124373484402895, -0.03817432001233101, -0.021905427798628807, -0.039490312337875366, -0.008827731013298035, -0.00824145320802927, 0.015050150454044342, -0.020113850012421608, -0.017696278169751167, 0.04518809914588928, 0.07240503281354904, -0.0025352961383759975, 0.06723228096961975, -0.027310693636536598, 0.01928032748401165, -0.03573780134320259, -0.007947064004838467, 0.05166896805167198, 0.035903479903936386, 0.024111604318022728, 0.0064333523623645306, -0.009623777121305466, 0.06290625780820847, 0.0199845302850008, 0.07927534729242325, 0.10527968406677246, 0.08324670791625977, -0.04063842445611954, -0.009143585339188576, -0.003384897718206048, -0.0191444531083107, 0.023085687309503555, 0.0019015336874872446, -0.020747110247612, 0.06301480531692505, -0.020931076258420944, 0.0006420299760065973, -0.024964625015854836, -0.021784471347928047, -0.11204876750707626, 0.06262625008821487, -0.08116888254880905, 0.06810905039310455, 0.0009400737471878529, 0.022650063037872314, -0.0160312931984663, -0.009246383793652058, -0.05611482262611389, -0.007287780754268169, 0.04381624981760979, -0.010026546195149422, 0.0699395164847374, 0.020787956193089485, 0.011851989664137363, -0.005462918430566788, -0.0051583959721028805, -0.07823698967695236, 0.015952622517943382, 0.033792562782764435, 0.020522205159068108, -0.07392724603414536, -0.006788457278162241, -0.00425528222694993, 0.030926547944545746, -0.011667804792523384, 0.024060215801000595, -0.013762962073087692, -0.013119934126734734, -0.03985210135579109, 0.06467407941818237, 0.03591528907418251, 0.02637839876115322, -0.0025592923630028963, -0.012911061756312847, -0.01318272203207016, 0.024313854053616524, 0.03421108052134514, 0.06678944826126099, -0.05000479519367218, 0.01685277372598648, 0.012761273421347141, -0.02020447701215744, 0.01379733718931675, 0.057124629616737366, -0.0075149754993617535, 0.009505923837423325, 0.03054136410355568, -0.05715649574995041, -0.07972457259893417, 0.025698846206068993, -0.028507204726338387, -0.023631323128938675, 0.012345310300588608, -0.013209730386734009, -0.019026413559913635, 0.007478104438632727, 0.038794420659542084, -0.02010571025311947, 0.060176536440849304, -0.03605673462152481, 0.008904713205993176, 0.035607315599918365, 0.03924150392413139, 0.058557383716106415, -0.02720480039715767, 0.007390027400106192, -0.02810918353497982, -0.03932097181677818, 0.010420352220535278, -0.06477329879999161, 0.004085262771695852, -0.011520552448928356, -0.0009684390388429165, 0.04475308954715729, 0.014801034703850746, -0.034584105014801025, 0.034716278314590454, -0.025284312665462494, -0.31248244643211365, 0.024051876738667488, -0.023404277861118317, -0.018878523260354996, 0.016762545332312584, 0.04849500209093094, 0.010724476538598537, 0.06093292310833931, -0.02588193118572235, -0.020067229866981506, 0.0472436286509037, -0.033866409212350845, 0.003506315406411886, 0.0451120063662529, -0.0019045919179916382, 0.05372948199510574, 0.0701417326927185, -0.05360635742545128, -0.011713450774550438, -0.04996781796216965, 0.05847188085317612, -0.01685948297381401, -0.015337828546762466, -0.05409427732229233, -0.03260466083884239, -0.007361880037933588, 0.10108832269906998, 0.04669073969125748, 0.013749973848462105, 0.032947883009910583, 0.02447454445064068, -0.041884031146764755, -0.021344441920518875, -0.12187217175960541, 0.0020355370361357927, -0.05099295824766159, -0.02910757064819336, -0.01575654186308384, -0.047165397554636, -0.026937901973724365, -0.058282628655433655, 0.009319277480244637, -0.04522879049181938, 0.022065144032239914, -0.06948339194059372, 0.03789552301168442, -0.007090587168931961, 0.06451255083084106, -0.055465951561927795, 0.03234856575727463, 0.027003053575754166, 0.012507546693086624, -0.030032088980078697, -0.015558084473013878, 0.02168315462768078, -0.009144461713731289, -0.038187168538570404, 0.007835826836526394, -0.056574612855911255, 0.04067695885896683, -0.012698324397206306, -0.06589175760746002, -0.0035256659612059593, 0.02232804335653782, -0.050986070185899734, -0.05362429842352867, 0.007590907160192728, 0.02647237293422222, 0.07731027901172638, -0.06099241226911545, -0.043668314814567566, 0.05694161355495453, -0.07341882586479187, -0.0018734982004389167, 0.0046311053447425365, 0.016073914244771004, 0.023118585348129272, -0.07206320762634277, -0.02864968590438366, -0.024661889299750328, 0.034948352724313736, -0.004681918770074844, -0.008597088977694511, -0.0003531101974658668, -0.00921197421848774, -0.04447357729077339, 0.009109768085181713, -0.022742152214050293, -0.025386793538928032, 0.03131850063800812, -0.06235479936003685, -0.006670455448329449, -0.016039693728089333, -0.06210600957274437, -0.0039239008910954, 0.00018970479140989482, -0.28240182995796204, 0.02409457601606846, -0.043035030364990234, 0.028601454570889473, 0.0006888815551064909, 0.03650832921266556, -0.05930458381772041, -0.011132239364087582, 0.02526400424540043, -0.037503037601709366, 0.12033333629369736, -0.004920576233416796, 0.008933751843869686, 0.0040507190860807896, -0.020759226754307747, 0.019019540399312973, 0.03633255884051323, 0.007576442323625088, 0.06688906997442245, 0.010939985513687134, 0.05156092718243599, -0.036270491778850555, 0.1601049154996872, 0.01531671267002821, 0.014069341123104095, -0.03451591730117798, -0.04928891360759735, -0.0011781926732510328, 0.020602799952030182, -0.0036926050670444965, 0.10350234061479568, -0.05925654619932175, 0.0694565623998642, -0.01793661154806614, 0.0014436920173466206, 0.03719945624470711, -0.019470568746328354, 0.058563049882650375, 0.027516352012753487, 0.003600761527195573, -0.062100499868392944, -0.06934135407209396, 0.014333645813167095, -0.02761261910200119, 0.09211454540491104, 0.028929315507411957, -0.01941395364701748, -0.04094218835234642, -0.00867927260696888, 0.03062734380364418, 0.016692591831088066, 0.02517079934477806, 0.021415622904896736, 0.04313921555876732, 0.01490031648427248, 0.05964634567499161, 0.005893127992749214, -0.004167806822806597, 0.02299073524773121, -0.10549554228782654, -0.024307265877723694, -0.00833548977971077, 0.0081257876008749, 0.032503094524145126, 0.04946061968803406], metadata={'file_path': '/content/data/persona_1000.txt', 'file_name': 'persona_1000.txt', 'file_type': 'text/plain', 'file_size': 133, 'creation_date': '2025-05-16', 'last_modified_date': '2025-05-16'}, excluded_embed_metadata_keys=['file_name', 'file_type', 'file_size', 'creation_date', 'last_modified_date', 'last_accessed_date'], excluded_llm_metadata_keys=['file_name', 'file_type', 'file_size', 'creation_date', 'last_modified_date', 'last_accessed_date'], relationships={<NodeRelationship.SOURCE: '1'>: RelatedNodeInfo(node_id='c03e5956-5cd9-456b-975f-507a67b97e54', node_type=<ObjectType.DOCUMENT: '4'>, metadata={'file_path': '/content/data/persona_1000.txt', 'file_name': 'persona_1000.txt', 'file_type': 'text/plain', 'file_size': 133, 'creation_date': '2025-05-16', 'last_modified_date': '2025-05-16'}, hash='bb5586c9cfd9972badf68670ac7494371fd751c3410a038b5a6019f69bc0b100')}, metadata_template='{key}: {value}', metadata_separator='\\n', text='A pulmonologist or respiratory specialist with a strong interest in educating patients about the respiratory system and its diseases.', mimetype='text/plain', start_char_idx=0, end_char_idx=133, metadata_seperator='\\n', text_template='{metadata_str}\\n\\n{content}'),\n",
       " TextNode(id_='97fa3c65-5fa9-4511-9f1d-6d71cc3af5f7', embedding=[-0.04245884716510773, 0.0029833761509507895, 0.0044707246124744415, -0.08153047412633896, -0.017179951071739197, -0.02973073162138462, 0.011951996013522148, 0.052448876202106476, 0.00034141619107685983, -0.024674303829669952, 0.06808187067508698, -0.01752898469567299, 0.010076850652694702, -0.00607202248647809, 0.01794259063899517, 0.06571020931005478, -0.006754465401172638, -0.00910534244030714, 0.0021720058284699917, 0.05152316391468048, 0.06532362103462219, -0.05038037523627281, -0.007470214739441872, -0.0975191593170166, 0.007165498565882444, -0.0003035572008229792, 0.01289102528244257, -0.028084222227334976, -0.0017498584929853678, -0.05046208202838898, -0.018631983548402786, -0.018621383234858513, 0.017991377040743828, 0.027815481647849083, 0.019789524376392365, 0.023173904046416283, 0.03566134348511696, 0.03780055791139603, -0.01356897596269846, 0.018799033015966415, -0.006855629850178957, -0.019783295691013336, -0.02662881277501583, 0.04365941137075424, 0.020846199244260788, -0.0068334853276610374, -0.01970784179866314, -0.06724777072668076, -0.022493800148367882, -0.06173700839281082, -0.0417652428150177, -0.01392148993909359, 0.012258521281182766, 0.01220011431723833, -0.002173427026718855, -0.023755164816975594, 0.04684083163738251, 0.04744362831115723, -0.009026735089719296, 0.04395433887839317, 0.012551904655992985, 0.011596695519983768, -0.08080051094293594, 0.06497915834188461, 0.013338028453290462, 0.06146533042192459, -0.05705031007528305, -0.014676742255687714, -0.026478994637727737, -0.050962503999471664, -0.05342031270265579, 0.0353841669857502, -0.08055546134710312, 0.09455521404743195, 0.0049641807563602924, -0.047663602977991104, -0.0020235013216733932, 0.005207037087529898, -0.009837099350988865, 0.043297287076711655, 0.0014516611117869616, 0.0042341602966189384, -0.021692899987101555, -0.03339641913771629, -0.009065945632755756, 0.041902635246515274, 0.03196330368518829, -0.009289922192692757, 0.0022594118490815163, -0.0018129926174879074, -0.06434578448534012, -0.07021211087703705, 0.021218832582235336, 0.02985137701034546, -0.005487950053066015, -0.049842655658721924, 0.004141243174672127, 0.057163164019584656, 0.03450356423854828, 0.418124258518219, -0.060350675135850906, -0.008830235339701176, 0.09978540241718292, 0.007189776748418808, 0.05702028423547745, 0.040551744401454926, 0.0872347503900528, 0.015327359549701214, 0.01976393721997738, -0.00611664867028594, -0.03168102353811264, -0.028921296820044518, -0.018264170736074448, -0.059611085802316666, 0.07297404110431671, -0.026499776169657707, -0.07602541148662567, 0.04560219869017601, 0.0013889322290197015, 0.02725980058312416, 0.017780227586627007, -0.007601443212479353, 0.07030438631772995, 0.0024624597281217575, -0.03667499125003815, 0.0037366768810898066, 0.008277005515992641, 0.035991404205560684, 0.021737702190876007, 0.05156111717224121, 0.00015100093150977045, 0.06971728801727295, -0.06548597663640976, 0.006818696856498718, -0.03456197679042816, 0.029800480231642723, -6.128469976829365e-05, 0.01617003232240677, -0.05314489081501961, 0.00993818324059248, -0.04668246954679489, 0.052999548614025116, 0.004535254091024399, 0.012088380753993988, -0.06619211286306381, 0.07010016590356827, -0.0195155069231987, 0.06307855248451233, -0.0013188928132876754, 0.03778703138232231, -0.014141563326120377, 0.019867658615112305, -0.0254671610891819, -0.0005814211908727884, -0.04042857140302658, 0.022102748975157738, 0.07218246906995773, -0.029489237815141678, 0.004527286626398563, -0.020212089642882347, 0.0005394438630901277, -0.056936074048280716, -0.02361232414841652, 0.057005662471055984, 0.04151979461312294, -0.08445409685373306, -0.03190312534570694, 0.012239056639373302, 0.034769896417856216, -0.0022103593219071627, 0.030372854322195053, -0.008988961577415466, -0.02847444638609886, -0.013185598887503147, 0.05221614986658096, -0.02668103575706482, -0.020096193999052048, 0.034012649208307266, -0.0038603434804826975, 0.01389245130121708, 0.07866416871547699, -2.2118214474176057e-05, -0.014609139412641525, 0.0126509303227067, -0.058837100863456726, 0.0207366943359375, -0.016387861222028732, 0.012311377562582493, 0.049188900738954544, 0.014548066072165966, -0.019267050549387932, 0.014627953059971333, -0.06196676939725876, -0.0813925564289093, -0.0012269027065485716, 0.017214518040418625, 0.022564787417650223, -0.029952310025691986, -0.013330075889825821, -0.079134501516819, 0.05147121846675873, 0.04606018215417862, 0.0003142832429148257, 0.031742535531520844, -0.039014432579278946, 0.020684557035565376, 0.05297984927892685, -0.017705662176012993, 0.017176106572151184, -0.030119283124804497, -0.057037241756916046, -0.021659523248672485, 0.012915086932480335, 0.004300285596400499, 0.013060123659670353, -0.020144857466220856, 0.001949291443452239, 0.03324773907661438, 0.05678067356348038, 0.09708364307880402, -0.03790270537137985, -0.030300816521048546, -0.03373109549283981, -0.2867323160171509, -0.004174703266471624, 0.002032884629443288, -0.011693288572132587, -0.00813670177012682, 0.05521443486213684, -0.009993636049330235, 0.017525682225823402, -0.017313003540039062, 0.006274014245718718, 0.07255543023347855, -0.04636327922344208, 0.02831857092678547, 0.012011779472231865, -0.03129707649350166, -0.008142140693962574, 0.046364106237888336, -0.059832971543073654, -0.04101793095469475, -0.08067530393600464, -0.00862086657434702, -0.020005395635962486, -0.036465130746364594, -0.06486436724662781, 0.032871004194021225, 0.011496143415570259, 0.0939864069223404, 0.09459681063890457, 0.035339005291461945, -0.042570561170578, 0.039321862161159515, 0.05091416463255882, -0.027826441451907158, -0.13276489078998566, 0.0027750409208238125, -0.049352772533893585, 0.011468256823718548, -0.06096712499856949, -0.019291898235678673, -0.004298854619264603, 0.016462713479995728, -0.00229682307690382, 0.01841234602034092, -0.04401801526546478, -0.049855850636959076, -0.034053560346364975, -0.004215042572468519, -0.010973896831274033, 9.040583245223388e-05, 0.03833731263875961, 0.009064688347280025, -0.0016927665565162897, 0.03000142052769661, 0.046781040728092194, -0.008110901340842247, -0.013886142522096634, -0.04640395939350128, 0.06132572144269943, 0.0031219853553920984, 0.025297921150922775, 0.02524716779589653, -0.10792137682437897, 0.03392444923520088, 0.012078892439603806, -0.024897128343582153, -0.01269440446048975, -0.01973596215248108, -0.04082803428173065, 0.09521917253732681, -0.05597949028015137, -0.005480916704982519, 0.0844586119055748, 0.00512906676158309, -0.009862727485597134, 0.011460816487669945, -0.04698684439063072, -0.011625819839537144, -0.0665288120508194, 0.020194783806800842, -0.021920468658208847, 0.021462827920913696, 0.028494475409388542, 0.031078727915883064, -0.011130053550004959, 0.017977111041545868, -0.06953231990337372, 0.0468742772936821, -0.048111692070961, 0.015153852291405201, 0.0032978677190840244, -0.06777888536453247, 0.04772508889436722, -0.04693093150854111, -0.06720118224620819, -0.026842577382922173, -0.032812368124723434, -0.3178209662437439, -0.014644498005509377, -0.005298294126987457, 0.054962851107120514, 0.046003036201000214, 0.05141280218958855, 0.01129989605396986, 0.02846623957157135, -0.04632893204689026, 0.053312383592128754, 0.05247010290622711, 0.004982856102287769, 0.018142465502023697, -0.05909113585948944, 0.02661268599331379, 0.024476516991853714, 0.026738550513982773, -0.008792782202363014, 0.0096350172534585, 0.0026237170677632093, 0.01595311611890793, -0.020893167704343796, 0.17343273758888245, -0.019700389355421066, 0.021497709676623344, -0.027314318343997, -0.04514790698885918, -0.02544104866683483, 0.10162737220525742, 0.012797443196177483, -0.009467538446187973, 0.024703146889805794, 0.09709664434194565, 0.007701792288571596, -0.022621000185608864, 0.037088289856910706, -0.007388588041067123, -0.008541892282664776, 0.0011848686262965202, -0.03724659979343414, -0.030839301645755768, -0.0901869386434555, -0.038007915019989014, -0.013372362591326237, 0.07652550935745239, 0.04517170414328575, 0.009976276196539402, -0.0364668034017086, -0.04630362614989281, -0.03821196034550667, 8.367708505829796e-05, -0.0012185494415462017, -0.019446756690740585, 0.033584047108888626, -0.001373355626128614, 0.0763041153550148, -0.003631436498835683, -0.01641802303493023, 0.01556004211306572, -0.06481964141130447, -0.03977248817682266, 0.07479164004325867, 0.08032528311014175, -0.00940229743719101, 0.027141215279698372], metadata={'file_path': '/content/data/persona_1001.txt', 'file_name': 'persona_1001.txt', 'file_type': 'text/plain', 'file_size': 157, 'creation_date': '2025-05-16', 'last_modified_date': '2025-05-16'}, excluded_embed_metadata_keys=['file_name', 'file_type', 'file_size', 'creation_date', 'last_modified_date', 'last_accessed_date'], excluded_llm_metadata_keys=['file_name', 'file_type', 'file_size', 'creation_date', 'last_modified_date', 'last_accessed_date'], relationships={<NodeRelationship.SOURCE: '1'>: RelatedNodeInfo(node_id='c5c3889c-0e08-4cf7-9efb-d5ab2e2666ac', node_type=<ObjectType.DOCUMENT: '4'>, metadata={'file_path': '/content/data/persona_1001.txt', 'file_name': 'persona_1001.txt', 'file_type': 'text/plain', 'file_size': 157, 'creation_date': '2025-05-16', 'last_modified_date': '2025-05-16'}, hash='246e687d00962bbb851dcfb56e6e2744d4ecb8e7e1c2e13d266d413c67c621a8')}, metadata_template='{key}: {value}', metadata_separator='\\n', text='A web developer or a web development student, likely in the early stages of their learning or career, with a strong focus on HTML, CSS, and website building.', mimetype='text/plain', start_char_idx=0, end_char_idx=157, metadata_seperator='\\n', text_template='{metadata_str}\\n\\n{content}'),\n",
       " TextNode(id_='1548c402-1e8f-4d7e-be84-c281b20879ac', embedding=[0.0004281403380446136, -0.005953300278633833, 0.058938056230545044, 0.022401148453354836, 0.07433067262172699, -0.07205170392990112, 0.05908263474702835, 0.030566565692424774, -0.06076982989907265, 0.03718138113617897, 0.005467251408845186, -0.07357215136289597, -0.004533791448920965, 0.011325118131935596, 0.031458012759685516, 0.016618404537439346, 0.02124469168484211, 0.05733875930309296, 0.04618587717413902, 0.005825892556458712, -0.010808555409312248, 0.022591786459088326, -0.027743790298700333, -0.06934677809476852, -0.011872438713908195, 0.020161082968115807, -0.013567281886935234, 0.007479064166545868, -0.07073219120502472, -0.08873870223760605, -0.03160150349140167, 0.027459904551506042, -0.0007379605667665601, 0.01955132558941841, 0.03006325662136078, 0.0456848181784153, 0.017717929556965828, 0.004724431317299604, -0.01821989007294178, 0.027558958157896996, 0.02985166385769844, 0.015058143995702267, 0.011190669611096382, -0.009529579430818558, -0.033640969544649124, -0.06963475793600082, 0.01740032620728016, -0.030478762462735176, -0.08228933066129684, -0.06212702393531799, 0.0024171031545847654, -0.067042775452137, -0.07486123591661453, 0.025309128686785698, 0.0005203661858104169, -0.0006182058132253587, 0.08317560702562332, 0.03611002862453461, 0.020891303196549416, 0.025442073121666908, 0.02357150800526142, 0.006954268552362919, -0.1620441973209381, 0.05389135703444481, 0.029651131480932236, 0.025511564686894417, -0.08168856054544449, -0.06788256019353867, 0.05028226971626282, -0.05095783621072769, -0.0632614940404892, 0.03311721235513687, -0.04435820132493973, 0.038434259593486786, 0.059409670531749725, -0.012965815141797066, -0.06999514251947403, 0.037804245948791504, -0.024156533181667328, 0.005907601676881313, 0.06517712026834488, -0.008360777981579304, -0.0831909254193306, -0.1018153578042984, 0.052376601845026016, -0.005096644628793001, -0.004080309998244047, -0.01474347710609436, -0.014930883422493935, -7.379287853837013e-05, 0.024606473743915558, -0.046366311609745026, 0.04500064626336098, -0.05147853493690491, -0.00021436469978652894, -0.006677237339317799, 0.05127299949526787, 0.01054511871188879, -0.0025956020690500736, 0.39810341596603394, -0.023369740694761276, 0.005697580520063639, 0.03212855011224747, 0.06758340448141098, 0.004938500002026558, 0.00627927016466856, -0.024220971390604973, -0.06501363217830658, 0.002112187910825014, 0.032798800617456436, -0.005738881882280111, -0.04775507375597954, -0.01721886172890663, 0.08113488554954529, 0.0754084587097168, -0.021016260609030724, -0.01609867811203003, 0.05871595814824104, -0.012840681709349155, 0.03692253306508064, -0.058250218629837036, 0.057674605399370193, 0.03697666525840759, 0.017585216090083122, 0.02701573073863983, 0.01924358494579792, 0.0453738197684288, 0.06058808043599129, 0.017015540972352028, 0.02890338934957981, 0.06611664593219757, 0.04870650917291641, -0.04324311017990112, 0.022322243079543114, -0.008426188491284847, -0.0029516995418816805, 0.027577944099903107, -0.024941395968198776, -0.03399944305419922, 0.09271270781755447, -0.0026904090773314238, 0.03894101828336716, -0.054622914642095566, -0.05249837413430214, -0.04496987909078598, 0.08673970401287079, 0.023032328113913536, 0.03913344815373421, -0.038755230605602264, 0.039403192698955536, -0.03740113228559494, -0.0011073836358264089, -0.012920811772346497, 0.012048676609992981, 0.07093861699104309, 0.04597073793411255, 0.0713057592511177, -0.022948721423745155, -0.012820709496736526, -0.016599243506789207, 0.02765345200896263, -0.003411894664168358, 0.043062884360551834, 0.05143504589796066, 0.08282971382141113, -0.03244507685303688, 0.005529968999326229, 0.00374761619605124, -0.004129005130380392, 0.021875159814953804, 0.031829845160245895, 0.05423982813954353, 0.01309935562312603, -0.032152269035577774, 0.05026599392294884, -0.029496952891349792, 0.0022393243853002787, 0.019365455955266953, -0.01652434654533863, -0.07637878507375717, 0.042940378189086914, 0.04790860787034035, 0.019129402935504913, -0.010149774141609669, -0.008633452467620373, 0.005494136828929186, -0.056329395622015, 0.021542921662330627, -0.039278171956539154, -0.019267955794930458, -0.007977086119353771, 0.04638182744383812, 0.04481324553489685, -0.03505243733525276, -0.010093632154166698, -0.061311688274145126, 0.0021974891424179077, -0.023326780647039413, -0.010712678544223309, -0.021969899535179138, -0.009513426572084427, 0.03401629626750946, -0.004886501003056765, -0.0036498536355793476, -0.04028435796499252, -0.007622626144438982, 0.008476837538182735, -0.019323602318763733, 0.03124949149787426, 0.0033482802100479603, -0.0012995487777516246, 0.006122945807874203, -0.03300068899989128, 0.04041454941034317, -0.05190453305840492, 0.01111721619963646, 0.024188166484236717, 0.013159217312932014, 0.0876125916838646, 0.05851965397596359, 0.020762411877512932, -0.043711334466934204, -0.04127584397792816, -0.31597834825515747, -0.057424601167440414, -0.06279199570417404, 0.015136072412133217, -0.006736683193594217, 0.046236440539360046, -0.0394756942987442, -0.00726253492757678, 0.00012283783871680498, 0.04300872981548309, -0.02297557145357132, 0.009273560717701912, 0.07140980660915375, 0.01973820850253105, 0.038519129157066345, -0.014658025465905666, 0.07223958522081375, -0.03302638605237007, -0.09536071866750717, -0.01802120730280876, 0.01497980672866106, 0.03264002501964569, -0.029745707288384438, -0.053204502910375595, 0.02305232174694538, -0.005753219593316317, 0.08703716099262238, 0.04415590316057205, -0.027941273525357246, -0.04819824546575546, -0.0501728355884552, 0.009982485324144363, 0.0068398285657167435, -0.12272170186042786, -0.010213786736130714, -0.030127177014946938, -0.02040204033255577, -0.045305222272872925, -0.044247061014175415, -0.011011077091097832, 0.07709594070911407, 0.030128415673971176, -0.003584939055144787, 0.031206198036670685, -0.0359443798661232, 0.030393965542316437, 0.015341546386480331, 0.03974561765789986, -0.04795052483677864, -0.025133641436696053, 0.005868482869118452, 0.049628522247076035, -0.00012239968054927886, 0.02308146096765995, 0.019049525260925293, 0.009005929343402386, -0.04046929255127907, 0.03071434423327446, -0.024266542866826057, -0.044025029987096786, 0.05439366400241852, -0.060117095708847046, 0.0013697071699425578, 0.044158440083265305, -0.0009273767354898155, 0.0008654264383949339, 0.0225227028131485, -0.05763476341962814, 0.03865798935294151, -0.11087927967309952, 0.010923211462795734, 0.038743291050195694, -0.04613269120454788, -0.04822620749473572, -0.027212977409362793, -0.008348820731043816, 0.021609144285321236, -0.03814658522605896, -0.0556555837392807, -0.04169785603880882, 0.08584611862897873, -0.021623337641358376, 0.0005349171115085483, 0.01752380281686783, -0.013969979248940945, -0.013000310398638248, -0.04301656037569046, -0.05501090735197067, 0.025456039234995842, 0.012499033473432064, -0.008063670247793198, 0.004898911342024803, -0.0554039366543293, -0.055542539805173874, 0.030818583443760872, 0.015007189474999905, -0.2585785686969757, 0.016168726608157158, -0.029622068628668785, -0.05215100571513176, 0.004759121686220169, 0.026475144550204277, -0.039760492742061615, -0.010373448021709919, 0.005164060276001692, -0.007286740932613611, 0.02921692468225956, 0.022904248908162117, 0.0021171022672206163, 0.05221734941005707, 0.0012263034004718065, 0.047997329384088516, 0.024530788883566856, 0.01714623160660267, 0.02206164039671421, -0.023978784680366516, 0.029961060732603073, 0.008000623434782028, 0.17166568338871002, 0.000547181349247694, -0.0008424125262536108, 0.006291569676250219, -0.023779533803462982, -0.055686045438051224, 0.05650787055492401, -0.018017636612057686, 0.07041313499212265, 0.015365967527031898, 0.09952417761087418, -0.07748902589082718, 0.01881481520831585, 0.04812367260456085, 0.02840147167444229, -0.0035705568734556437, 0.016813546419143677, -0.04050745815038681, -0.016567375510931015, -0.036205779761075974, 0.026631848886609077, -0.0038117622025310993, 0.0531734861433506, -0.010449786670506, -0.013586372137069702, -0.08021658658981323, -0.06185227259993553, 0.08877589553594589, -0.019051311537623405, 0.03936488926410675, -0.04949772730469704, 0.008040549233555794, -0.011204893700778484, 0.01467637438327074, 0.017974048852920532, -0.004398509860038757, -0.03087158128619194, -0.052803538739681244, 0.019806578755378723, -0.041100382804870605, -0.10163932293653488, -0.00026298247394151986, 0.04474630206823349], metadata={'file_path': '/content/data/persona_1002.txt', 'file_name': 'persona_1002.txt', 'file_type': 'text/plain', 'file_size': 122, 'creation_date': '2025-05-16', 'last_modified_date': '2025-05-16'}, excluded_embed_metadata_keys=['file_name', 'file_type', 'file_size', 'creation_date', 'last_modified_date', 'last_accessed_date'], excluded_llm_metadata_keys=['file_name', 'file_type', 'file_size', 'creation_date', 'last_modified_date', 'last_accessed_date'], relationships={<NodeRelationship.SOURCE: '1'>: RelatedNodeInfo(node_id='a4d57192-7077-46e3-a8fa-2acfbeab95d3', node_type=<ObjectType.DOCUMENT: '4'>, metadata={'file_path': '/content/data/persona_1002.txt', 'file_name': 'persona_1002.txt', 'file_type': 'text/plain', 'file_size': 122, 'creation_date': '2025-05-16', 'last_modified_date': '2025-05-16'}, hash='d35c0a3819d30ec979b986bfaf59160e0af60bf80dc64139747499aaa5d6630b')}, metadata_template='{key}: {value}', metadata_separator='\\n', text='An ecologist specializing in climate change impacts on regional ecosystems, particularly those with diverse plant species.', mimetype='text/plain', start_char_idx=0, end_char_idx=122, metadata_seperator='\\n', text_template='{metadata_str}\\n\\n{content}'),\n",
       " TextNode(id_='8fd04bb5-b14a-4bcb-8a73-9d86c17be304', embedding=[-0.013281866908073425, 0.05426708608865738, 0.06306111067533493, -0.029816195368766785, -0.024994980543851852, -0.0566367544233799, 0.09279123693704605, 0.04908592998981476, -0.022996295243501663, -0.001987248891964555, 0.03846629336476326, -0.025103367865085602, -0.013863069005310535, -0.017900465056300163, 0.05386365205049515, 0.04465189948678017, 0.019106047227978706, 0.019292157143354416, 0.005385898519307375, 0.057544976472854614, 0.13347968459129333, 0.023517167195677757, 0.0018115314887836576, -0.04680787771940231, 0.003123920178040862, -0.020130611956119537, 0.014200235716998577, -0.07238150388002396, -0.01315061654895544, -0.05645718052983284, -0.017320923507213593, -0.0065895444713532925, 0.02308337762951851, 0.014735781587660313, -0.009513861499726772, 0.015952108427882195, 0.003777091158553958, 0.012405406683683395, -0.01721084676682949, -0.014505041763186455, -0.026245122775435448, -0.08292915672063828, -0.042894091457128525, 0.007612103596329689, -0.035586804151535034, -0.03225450590252876, -0.08109995722770691, -0.07886014878749847, -0.020335158333182335, -0.08352559059858322, -0.014805739745497704, -0.025051089003682137, 0.037025757133960724, 0.04931832104921341, -0.010803282260894775, 0.0077203852124512196, 0.0065271854400634766, 0.019005822017788887, 0.008375362493097782, 0.013261823914945126, -0.00044715599506162107, 0.07131327688694, -0.12362534552812576, 0.0862141102552414, 0.004306391812860966, 0.07335370779037476, -0.018730122596025467, -0.04066285863518715, 0.04187030717730522, -0.08942469209432602, -0.0172711368650198, 0.030606240034103394, -0.031138243153691292, 0.09934695065021515, 0.0383872389793396, -0.010447138920426369, -0.011673159897327423, -0.02518310211598873, -0.005847468972206116, 0.052502308040857315, 0.010264580138027668, -0.06018901616334915, -0.021279683336615562, -0.0673479288816452, 0.03519284725189209, -0.0038355516735464334, 0.014897027984261513, -0.03506188467144966, 0.005253639537841082, -0.01704641431570053, -0.0358244851231575, -0.02163340523838997, 0.024788150563836098, 0.0073645347729325294, 0.013205106370151043, -0.06363007426261902, -0.009402723982930183, -0.015042394399642944, -0.05473294481635094, 0.38676151633262634, 0.0002136643452104181, 0.012011737562716007, 0.09859510511159897, 0.028981922194361687, 0.04972713813185692, 0.05514718219637871, 0.017344385385513306, -0.04322703555226326, -0.025367306545376778, -0.02649986930191517, -0.036689817905426025, -0.013050587847828865, -0.0449044406414032, -0.004786214791238308, 0.019694887101650238, 0.02963060326874256, -0.05125586688518524, -0.013649150729179382, 0.061721283942461014, 0.021427620202302933, -0.04937448352575302, 0.010730305686593056, 0.03704766556620598, -0.015358050353825092, -0.009565937332808971, -0.011630059219896793, 0.011346817016601562, 0.05415039509534836, 0.012994775548577309, 0.08837911486625671, 0.0638766810297966, -0.004744039382785559, -0.06968552619218826, 0.007612801156938076, -0.018404169008135796, 0.03375759348273277, 0.020176980644464493, -0.026197757571935654, -0.012155069969594479, 0.06066284701228142, -0.031929902732372284, 0.02890152856707573, -0.048255547881126404, -0.003128283889964223, -0.02728269435465336, 0.06344593316316605, -0.11120884865522385, 0.04926634207367897, 0.00866884458810091, 0.09956035017967224, 0.01329923514276743, 0.008679773658514023, -0.04900747165083885, 0.03988952189683914, 0.033951159566640854, 0.016540635377168655, 0.14198100566864014, -0.02398199401795864, -0.033271756023168564, -0.012474115937948227, -0.0037527817767113447, -0.061028167605400085, -0.022053273394703865, 0.033199094235897064, 0.06124516949057579, -0.05208050459623337, -0.037352245301008224, 0.059370256960392, -0.019768351688981056, -0.04454174265265465, 0.035486169159412384, 0.03965899720788002, 0.012223857454955578, 0.0006378169055096805, 0.038821399211883545, -0.011514183133840561, -0.010434027761220932, 0.022039249539375305, -0.0107179069891572, 0.007387934718281031, 0.04555457457900047, -0.0655624195933342, -0.006044798530638218, -0.009185473434627056, -0.06813584268093109, 0.044303953647613525, 0.07426253706216812, -0.010569855570793152, 0.05242867395281792, 0.05472693592309952, 0.007596617564558983, 0.005651939194649458, -0.0944506898522377, -0.06534279137849808, 0.03319936245679855, 0.02292690798640251, 0.009619342163205147, -0.057377830147743225, -0.02183692716062069, -0.039683956652879715, -0.001127188908867538, 0.0593271404504776, -0.023402947932481766, 0.05084366723895073, -0.028923019766807556, 0.04904147982597351, 0.028955833986401558, -0.008862621150910854, 0.03908488526940346, -0.015746397897601128, -0.02623676508665085, -0.009536965750157833, -0.010976391844451427, -0.034793440252542496, -0.04212985187768936, -0.00849582627415657, 0.001121535082347691, 0.06485339999198914, 0.026686813682317734, 0.023920703679323196, -0.018018199130892754, 0.018412310630083084, -0.02230050228536129, -0.2805720567703247, 0.018323348835110664, 0.006713761482387781, -0.039915066212415695, -0.020729541778564453, 0.04247642681002617, -0.03640636056661606, 0.06292854994535446, -0.04294557496905327, 0.004218829330056906, 0.06432667374610901, 0.008579951710999012, 0.03925497457385063, 0.05310871824622154, 0.012982377782464027, -0.013167208060622215, 0.024017447605729103, -0.02858438342809677, -0.017485592514276505, -0.027634013444185257, 0.04184683784842491, 0.031859759241342545, 0.0005120913847349584, -0.012111608870327473, -0.0012765214778482914, 0.004811921622604132, 0.07501515746116638, 0.017217373475432396, 0.06280212849378586, -0.09455268085002899, -0.03603477403521538, 0.018490565940737724, -0.02824587933719158, -0.10347545146942139, -0.00041929949657060206, -0.06426109373569489, -0.04879963397979736, -0.016265960410237312, -0.00011735284351743758, -0.0496826209127903, -0.045872606337070465, 0.0065531255677342415, 0.002285553840920329, -0.02992180362343788, -0.035047005861997604, -0.02174445427954197, 0.048590321093797684, -0.012301549315452576, 0.0027118739672005177, 0.07033047825098038, 0.021581977605819702, -0.08403974026441574, -0.0442955419421196, 0.04825572669506073, -0.04505098983645439, 0.021019181236624718, -0.05623483657836914, 0.07683906704187393, -0.05809955298900604, -0.02506394498050213, 0.03641309589147568, -0.05603645741939545, 0.011522534303367138, 0.02777678333222866, -0.02610146626830101, -0.00211464730091393, 0.01237633265554905, 0.05441966652870178, 0.031388185918331146, -0.0604315921664238, -0.006947199814021587, 0.0629943385720253, -0.0014902984257787466, -0.010308201424777508, -0.03964594751596451, -6.852744263596833e-05, 0.060689449310302734, -0.03478144854307175, 0.0036288632545620203, -0.01969246007502079, 0.05754300579428673, -0.004672483541071415, -0.030263148248195648, 0.003175988094881177, 0.061537742614746094, -0.0434868298470974, 0.04979616403579712, -0.04679836705327034, 0.015290869399905205, 0.008853078819811344, -0.028594154864549637, 0.026998136192560196, 0.011267689988017082, -0.04511135444045067, 0.01584928296506405, -0.056082773953676224, -0.27547818422317505, 0.010874084196984768, -0.01925281062722206, -0.03261859714984894, 0.012462749145925045, 0.06269178539514542, -0.05290284752845764, 0.0064766984432935715, -0.04025714099407196, -0.02858569286763668, 0.058339592069387436, -0.006515333894640207, -0.029386568814516068, -0.005889329127967358, -0.0472695492208004, 0.028416769579052925, 0.09521713107824326, -0.019428374245762825, 0.008655183017253876, -0.0871882513165474, -0.0051166289485991, 0.01176142506301403, 0.156891331076622, 0.010016960091888905, -0.002855709521099925, -0.04732494056224823, -0.04391716048121452, -0.0044012246653437614, 0.09827420115470886, -0.06648256629705429, 0.0684870108962059, -0.017076926305890083, 0.04118475690484047, -0.006015774328261614, 0.048988454043865204, 0.03904819115996361, 0.04029512032866478, 0.029177039861679077, 0.028803987428545952, 0.02635941654443741, -0.0047365957871079445, -0.07842498272657394, -0.035832636058330536, -0.026885513216257095, 0.07511304318904877, 0.047161854803562164, -0.008045638911426067, -0.08534769713878632, -0.04193542152643204, -0.03474195674061775, 0.04125789552927017, -0.0054627228528261185, -0.0378447100520134, 0.037449806928634644, -0.003787523601204157, 0.07539407908916473, -0.0030144730117172003, 0.015562104061245918, -0.015954144299030304, -0.055576350539922714, 0.01823657564818859, -0.02492750622332096, 0.02378719486296177, 0.02154141664505005, 0.05078846588730812], metadata={'file_path': '/content/data/persona_1003.txt', 'file_name': 'persona_1003.txt', 'file_type': 'text/plain', 'file_size': 170, 'creation_date': '2025-05-16', 'last_modified_date': '2025-05-16'}, excluded_embed_metadata_keys=['file_name', 'file_type', 'file_size', 'creation_date', 'last_modified_date', 'last_accessed_date'], excluded_llm_metadata_keys=['file_name', 'file_type', 'file_size', 'creation_date', 'last_modified_date', 'last_accessed_date'], relationships={<NodeRelationship.SOURCE: '1'>: RelatedNodeInfo(node_id='2d9afc8d-b070-42a2-b8ba-0ed1a3d693b5', node_type=<ObjectType.DOCUMENT: '4'>, metadata={'file_path': '/content/data/persona_1003.txt', 'file_name': 'persona_1003.txt', 'file_type': 'text/plain', 'file_size': 170, 'creation_date': '2025-05-16', 'last_modified_date': '2025-05-16'}, hash='891de92170373865a6e4631b591d786749793b0ca33fe6d02888ce96ee9ce48b')}, metadata_template='{key}: {value}', metadata_separator='\\n', text='A special education teacher or instructional specialist focused on inclusive education and assistive technology, likely working with students with diverse learning needs.', mimetype='text/plain', start_char_idx=0, end_char_idx=170, metadata_seperator='\\n', text_template='{metadata_str}\\n\\n{content}'),\n",
       " TextNode(id_='3c883a6c-1cc6-4d69-923a-963245fef96b', embedding=[0.008954815566539764, 0.01747029647231102, 0.04997021704912186, 0.0032794729340821505, 0.04242498800158501, -0.032704032957553864, 0.028681201860308647, 0.025600749999284744, -0.05926698073744774, 0.015584195032715797, -0.024327080696821213, -0.032481804490089417, -0.0324864536523819, 0.01649477146565914, -0.008759573101997375, 0.04152641445398331, -0.07574546337127686, 0.08238618075847626, 0.07781079411506653, 0.021674564108252525, 0.05090132728219032, -0.024995796382427216, -0.029679641127586365, -0.01681715063750744, -0.012298294343054295, 0.015688622370362282, -0.007409187033772469, -0.007630746811628342, -0.04551132395863533, -0.0671338140964508, -0.0351734533905983, -0.0031032608821988106, -0.029393335804343224, 0.06697043776512146, 0.015313978306949139, 0.06189849600195885, 0.046492427587509155, 0.08015725016593933, -0.02277505211532116, 0.046088967472314835, -0.03012734279036522, 0.01225757971405983, 0.018127407878637314, 0.032132428139448166, 0.0031080772168934345, -0.03264520689845085, 0.041966862976551056, -0.08339846134185791, -0.07510577142238617, -0.0934518352150917, 0.04356582835316658, -0.02499653771519661, -0.07675309479236603, 0.04399937763810158, 0.030493173748254776, 0.03918862342834473, 0.07716074585914612, 0.039328671991825104, 0.0055459532886743546, 0.0052817268297076225, 0.025244273245334625, 0.013371848501265049, -0.1874469518661499, 0.08798760175704956, -0.023875242099165916, -0.01084162387996912, -0.08763401210308075, -0.018537020310759544, -0.005796161480247974, -0.07000908255577087, -0.04081409052014351, -0.02066856063902378, -0.04456443339586258, 0.03982171416282654, 0.047431014478206635, -0.028687190264463425, -0.028037920594215393, 0.02931526117026806, -0.030476346611976624, -0.003690328449010849, 0.026789890602231026, 0.002114518778398633, -0.013008784502744675, -0.052552539855241776, 0.013085576705634594, 0.02619188092648983, -0.01841050013899803, 0.0017362134531140327, 0.02691657841205597, 0.007469256408512592, -0.015596323646605015, -0.029789550229907036, 0.08216826617717743, -0.034699663519859314, 0.00382607732899487, -0.026480205357074738, 0.06424180418252945, 0.047676101326942444, 0.0058684805408120155, 0.40809279680252075, -0.04674801602959633, 0.06204645708203316, 0.05049508437514305, 0.056249044835567474, 0.03575447201728821, -0.024262217804789543, -0.04988856986165047, -0.07080667465925217, -0.0208375733345747, -0.017755325883626938, -0.0590638741850853, -0.012928517535328865, -0.01028148178011179, 0.07155003398656845, 0.13299405574798584, -0.044019244611263275, -0.016759974882006645, 0.06162537634372711, -0.04081926867365837, 0.030439741909503937, -0.011932602152228355, -0.05904107913374901, 0.052203308790922165, 0.061583783477544785, 0.04697823524475098, 0.023563425987958908, 0.04383189231157303, 0.0017670454690232873, 0.047620754688978195, 0.004180276766419411, 0.01718827337026596, 0.04327238351106644, -0.06474821269512177, 0.04593157768249512, -0.023312082514166832, -0.03461051732301712, 0.0001780501625034958, -0.04127294197678566, -0.02414913848042488, 0.036118391901254654, -0.04145846143364906, 0.07716270536184311, -0.05429181084036827, -0.03616134449839592, -0.09565266221761703, 0.06190983206033707, 0.01644865982234478, -0.00920796487480402, 0.006629879120737314, 0.031190263107419014, -0.031814590096473694, -0.02654954604804516, 0.028578491881489754, 0.0048658172599971294, 0.022286320105195045, 0.03121260553598404, 0.048688773065805435, 0.028400801122188568, 0.017040500417351723, 0.029379915446043015, 0.01660892926156521, -0.039302561432123184, 0.021682271733880043, 0.06874249130487442, 0.023977676406502724, -0.08827854692935944, -0.04104486107826233, 0.0005314993904903531, 0.029353145509958267, 0.0030796651262789965, 0.03959142044186592, 0.015755975618958473, 0.029975449666380882, 0.02691429667174816, 0.07946056872606277, 0.01024668850004673, 0.005614197812974453, 0.04297706484794617, -0.014724192209541798, -0.018349042162299156, 0.035406693816185, -0.037112753838300705, -0.061504412442445755, -0.0079276068136096, -0.01172189973294735, 0.007418252993375063, -0.043542295694351196, -0.006455317605286837, 0.0037110717967152596, 0.05792487785220146, -0.006132972426712513, 0.021482909098267555, 0.023563863709568977, -0.04187007620930672, 0.0007667143945582211, -0.0406799353659153, -0.0038526856806129217, -0.036731623113155365, 0.0007030183332972229, -0.03498155623674393, -0.047509077936410904, -0.016527239233255386, -0.04289761558175087, 0.03714359924197197, 0.0013766646152362227, 0.03339262679219246, 0.0020976802334189415, -0.014385920949280262, 0.04739908128976822, -0.012884639203548431, -0.022174106910824776, 0.041656963527202606, 0.004970330744981766, -0.008842198178172112, 0.031932659447193146, 0.03208028897643089, 0.022400859743356705, -0.0089703518897295, 0.0813283696770668, 0.03927777335047722, -0.020109284669160843, -0.056777119636535645, -0.0626755878329277, -0.28962090611457825, -0.05590638518333435, -0.1020246148109436, 0.013512156903743744, -0.07427766919136047, 0.021607989445328712, -0.01866046153008938, -0.015360632911324501, -0.05645466968417168, 0.06401505321264267, -0.002445576246827841, -0.04416045919060707, 0.047219373285770416, 0.07239305227994919, 0.022858912125229836, 0.025583971291780472, 0.06355118751525879, -0.05391429364681244, -0.06847524642944336, 0.0033147407229989767, 0.057931628078222275, -0.04905727878212929, -0.03545614331960678, -0.050660405308008194, 0.017386002466082573, -0.0027518474962562323, 0.1084514856338501, 0.00645039975643158, 0.009640351869165897, -0.0019242618000134826, -0.009418167173862457, 0.007819654420018196, -0.024918539449572563, -0.13024508953094482, -0.029543383046984673, -0.013866412453353405, -0.006576342973858118, -0.0019601527601480484, -0.06104026362299919, -0.009124466218054295, -0.01065274327993393, 0.03871633857488632, -0.03851485252380371, 0.01805255375802517, -0.08829954266548157, -0.0047127376310527325, -0.019357778131961823, 0.03275204822421074, 0.01508009247481823, -0.011877913028001785, -0.012444869615137577, -0.030949817970395088, -0.010876791551709175, 0.0032044057734310627, 0.002931375754997134, 0.04027620330452919, -0.043587423861026764, 0.026231180876493454, -0.023905467242002487, -0.0032434496097266674, 0.00403223093599081, -0.05838631093502045, 0.0331558994948864, 0.06717423349618912, 0.02862655557692051, 0.01362055167555809, -0.032329317182302475, -0.01684379391372204, 0.027839280664920807, -0.056755464524030685, -0.0013719217386096716, 0.08402545005083084, -0.04829820245504379, -0.10913192480802536, 0.027359500527381897, -0.027734875679016113, -0.009364201687276363, -0.02582479827105999, 0.007366860751062632, -0.029673663899302483, 0.04480534419417381, -0.029110684990882874, 0.028377611190080643, -0.022701101377606392, -0.014455342665314674, 0.012554165907204151, 0.0049603404477238655, -0.041239961981773376, 0.01465047150850296, 0.004827665165066719, 0.032627172768116, 0.02447916567325592, -0.03668868541717529, -0.044991787523031235, 0.06378034502267838, -0.007078326772898436, -0.2913357615470886, -0.0004902302753180265, 0.016623906791210175, 0.020286191254854202, 0.02834392338991165, -0.0003112412814516574, -0.020928682759404182, 0.034259334206581116, 0.033690210431814194, 0.017621470615267754, 0.08524663001298904, -0.007214761339128017, -0.013466079719364643, 0.0016066161915659904, 0.007326002698391676, -0.0051661268807947636, -0.0016536476323381066, 0.05333926901221275, -0.024128001183271408, -0.02451275661587715, -0.0005516476230695844, -0.010221789591014385, 0.1402718722820282, -0.01116207242012024, 0.015010830014944077, -0.013834225945174694, -0.05093211308121681, 0.023619307205080986, 0.05100204795598984, -0.013141334056854248, 0.0630674883723259, -0.02536805160343647, 0.09894275665283203, -0.014584522694349289, 0.0040213377214968204, 0.01730918698012829, 0.006525448057800531, 0.05102170258760452, -0.011254914104938507, -0.04965946078300476, -0.022271666675806046, -0.028692323714494705, 0.014306921511888504, -0.028827067464590073, 0.0604737363755703, 0.018213560804724693, 0.01714758388698101, -0.011586641892790794, -0.07017827033996582, 0.050078053027391434, -0.02483862265944481, -0.02426476962864399, -0.0460396483540535, -0.0063089937902987, 0.022126488387584686, 0.047147247940301895, 0.015167493373155594, -0.03574860841035843, 0.006285373121500015, 0.003932035993784666, -0.023701123893260956, 0.006705650128424168, 0.0031579332426190376, 0.0037834986578673124, 0.05502535402774811], metadata={'file_path': '/content/data/persona_1004.txt', 'file_name': 'persona_1004.txt', 'file_type': 'text/plain', 'file_size': 160, 'creation_date': '2025-05-16', 'last_modified_date': '2025-05-16'}, excluded_embed_metadata_keys=['file_name', 'file_type', 'file_size', 'creation_date', 'last_modified_date', 'last_accessed_date'], excluded_llm_metadata_keys=['file_name', 'file_type', 'file_size', 'creation_date', 'last_modified_date', 'last_accessed_date'], relationships={<NodeRelationship.SOURCE: '1'>: RelatedNodeInfo(node_id='2fcd2332-6ee9-4203-b7f3-3acb958786f0', node_type=<ObjectType.DOCUMENT: '4'>, metadata={'file_path': '/content/data/persona_1004.txt', 'file_name': 'persona_1004.txt', 'file_type': 'text/plain', 'file_size': 160, 'creation_date': '2025-05-16', 'last_modified_date': '2025-05-16'}, hash='972271b5bacd7c4b426a26d78a923e5e6afde89fab4c7f49ddeb32ebeb469d04')}, metadata_template='{key}: {value}', metadata_separator='\\n', text='An environmental historian or urban planner focused on ecological conservation and sustainability, likely working in local government or a related organization.', mimetype='text/plain', start_char_idx=0, end_char_idx=160, metadata_seperator='\\n', text_template='{metadata_str}\\n\\n{content}'),\n",
       " TextNode(id_='fddfe4de-9a97-4530-bafa-ff42f30154c9', embedding=[-0.0124453604221344, 0.05310848727822304, 0.0499267652630806, -0.04984243959188461, -0.0036682242061942816, -0.03666364401578903, -0.007771281059831381, -0.005793575197458267, -0.0944489985704422, -0.04604765772819519, -0.03409234806895256, -0.02690761350095272, -0.04088398441672325, 0.03001224622130394, 0.03883124142885208, 0.0304819718003273, -0.04592524468898773, 0.0713319256901741, 0.024208413437008858, 0.045643627643585205, -0.03103342093527317, -0.03711312636733055, 0.03950287774205208, 0.016350282356142998, -0.0024881281424313784, -0.01933547481894493, 0.04712210223078728, -0.015302631072700024, -0.05895312502980232, -0.14504456520080566, -0.02531898021697998, -0.017515011131763458, -0.018437091261148453, 0.034828945994377136, 0.06626468896865845, -0.027314452454447746, 0.03194112330675125, 0.03301243484020233, 0.03338637202978134, 0.031615596264600754, -0.004836196079850197, 0.016775578260421753, 0.04444393143057823, 0.04193096607923508, 0.08146394789218903, 0.05077209696173668, 0.016937561333179474, 0.026473771780729294, -0.001695067505352199, -0.03663730248808861, -0.03472963348031044, 0.012066921219229698, -0.01730848290026188, -0.015231715515255928, 0.1074293702840805, 0.06649038195610046, 0.058666590601205826, 0.0009689694852568209, 0.0026879077777266502, 0.030929118394851685, 0.023100389167666435, 0.05861552432179451, -0.1983770728111267, 0.038227587938308716, 0.01023823395371437, 0.045020975172519684, 0.006037842947989702, -0.005909554194658995, -0.021745877340435982, -0.04612528532743454, -0.09334547817707062, 0.027109451591968536, -0.0581720732152462, 0.004174513276666403, 0.024392087012529373, -0.06168610602617264, -0.0021724242251366377, 0.013604012317955494, -0.061632655560970306, 0.012533189728856087, 0.06163419038057327, 0.02219320274889469, 0.008194305002689362, -0.03195805475115776, -0.006462876684963703, -0.029337473213672638, -0.04410577192902565, -0.047137245535850525, -0.0074569969438016415, -0.018814943730831146, -0.03811665624380112, -0.07416719198226929, 0.07248079776763916, -0.037243641912937164, -6.604825466638431e-05, -0.0016726492904126644, -0.018106186762452126, 0.05138145387172699, 0.0063095479272305965, 0.38077062368392944, -0.047762431204319, 0.06262852996587753, 0.04089169576764107, -0.005633468274027109, 0.009802074171602726, 0.028149843215942383, 0.012840908952057362, -0.05232449993491173, -0.041044723242521286, -0.02542806603014469, -0.021497610956430435, -0.0020415037870407104, -0.03434426710009575, -0.011365787126123905, 0.1554689258337021, -0.05920898914337158, 0.01856369711458683, 2.7806088837678544e-05, -0.02183534950017929, 0.027407022193074226, -0.009408976882696152, 0.025226352736353874, 0.0497707836329937, -0.0076603963971138, -0.0001639355468796566, -0.00294828531332314, 0.050896670669317245, 0.03265833109617233, 0.04699399322271347, -0.041404176503419876, -0.05859820544719696, 0.020026326179504395, -0.04737859219312668, -0.025854971259832382, 0.017028991132974625, -0.009161834605038166, 0.014220744371414185, -0.035228755325078964, 0.03474622964859009, -0.010024534538388252, -0.04379401355981827, -0.03690969571471214, -0.04998171702027321, 0.02829013764858246, -0.10784140974283218, 0.05180346965789795, 0.0017220908775925636, 0.0038237713743001223, 0.02885272726416588, 0.0485825389623642, 0.034514255821704865, -0.020957650616765022, -0.056499142199754715, -0.035371460020542145, -0.021190010011196136, 0.049476176500320435, 0.04985983297228813, 0.047575291246175766, -0.024569803848862648, -0.01035827025771141, -0.05162600055336952, -0.09862004220485687, 0.031528040766716, 0.049497466534376144, 0.01706754043698311, -0.11434103548526764, -0.04025080427527428, 0.014124352484941483, 0.006025242619216442, -0.0025591852609068155, 0.08807522058486938, -0.016368279233574867, -0.06075263395905495, 0.03428129479289055, 0.054921954870224, 0.04072311893105507, 0.030218349769711494, 0.014256085269153118, -0.014434904791414738, -0.033479414880275726, 0.06841538846492767, -0.06339731812477112, -0.024779314175248146, -0.020970836281776428, -0.008433696813881397, 0.06882450729608536, 0.03106425702571869, 0.025763392448425293, 0.023582369089126587, 0.020473523065447807, 0.019974367693066597, 0.055996086448431015, -0.033687591552734375, -0.04638182744383812, -0.03792092576622963, -0.04915836825966835, 0.016261206939816475, -0.0061056348495185375, 0.025456495583057404, -0.02862001210451126, -0.061065517365932465, -0.01609700731933117, -0.019230052828788757, 0.030737027525901794, -0.006594894919544458, 0.024123696610331535, -0.020349759608507156, -0.010777683928608894, 0.025628719478845596, -0.06314035505056381, -0.01674281246960163, 0.02118953876197338, -0.050119198858737946, -0.08377472311258316, 0.009281792677938938, -0.07012316584587097, -0.004800586961209774, -0.01713285781443119, 0.03688410297036171, 0.05031764507293701, -0.042634714394807816, -0.07818882912397385, -0.08193132281303406, -0.3023630380630493, -0.03444253280758858, -0.06153957173228264, -0.013429991900920868, 0.014862092211842537, -0.02497963234782219, 0.012029346078634262, 0.020337527617812157, -0.054517876356840134, 0.09152786433696747, -0.073349729180336, -0.011291689239442348, 0.023830536752939224, 0.04747086763381958, 0.027687497437000275, 0.01175745204091072, 0.0028287633322179317, -0.005520010832697153, -0.05011805519461632, 0.03388454020023346, 0.033632922917604446, -0.012272821739315987, -0.015027374029159546, -0.09191098064184189, 0.04273287579417229, 0.016691647469997406, 0.11332941800355911, 0.026043042540550232, 0.01638389751315117, -0.022426629438996315, -0.025183387100696564, -0.0034143284428864717, -0.02749081514775753, -0.05765899270772934, 0.014970486983656883, 0.0236267801374197, 0.10252609103918076, 0.055522434413433075, 0.01583239436149597, 0.020921535789966583, -0.00500088045373559, 0.026521697640419006, 0.012626695446670055, 0.01976778171956539, -0.07080526649951935, -0.00032192282378673553, 0.019944164901971817, -0.012502885423600674, -0.01179949939250946, -0.01937057077884674, 0.031110752373933792, -0.008613670244812965, 0.026888085529208183, 0.045006636530160904, -0.04020116478204727, -0.016097133979201317, -0.03568993881344795, 0.030868491157889366, 0.039309144020080566, 0.060365941375494, -0.01152943354099989, -0.0030172255355864763, 0.00686448672786355, -0.021115679293870926, 0.001995044993236661, 0.05663469061255455, -0.030268914997577667, -0.0061760409735143185, 0.034374918788671494, 0.014552189968526363, 0.018713396042585373, 0.03715166822075844, -0.10046647489070892, -0.05914732441306114, 0.060110580176115036, 0.038722842931747437, -0.005118324887007475, 0.007388188969343901, -0.05336081609129906, 0.0015763588016852736, 0.04942968115210533, 0.01594783179461956, -0.001381083158776164, -0.005974406376481056, -0.008157901465892792, -0.03528396785259247, -0.001787216984666884, -0.018073828890919685, 0.021150261163711548, 0.014593904837965965, 0.004584600683301687, -0.0038501459639519453, -0.04972212389111519, 0.04433142766356468, -0.010272404178977013, -0.034728460013866425, -0.28189000487327576, -0.0071478113532066345, 0.058750174939632416, 0.0883992537856102, 0.05495959147810936, 0.042295608669519424, -0.013540125451982021, -0.008411952294409275, -0.03300005570054054, -0.013843161053955555, 0.08041062206029892, 0.05306234583258629, 0.0022352857049554586, -0.011847281828522682, 0.012952609919011593, -0.022984838113188744, 0.0007626982405781746, 0.045068543404340744, -0.0693737342953682, 0.00576072046533227, 0.013577607460319996, 0.008911470882594585, 0.11051896214485168, -0.03125125169754028, -0.011172905564308167, -0.0419398695230484, 0.01254673209041357, 0.05821632593870163, 0.014430510811507702, -0.03487157076597214, 0.05606527626514435, -0.028285782784223557, 0.059083983302116394, -0.04683670774102211, -0.016568154096603394, 0.03857424110174179, -0.013106328435242176, 0.0171398613601923, -0.03487591817975044, -0.047609180212020874, -0.018656598404049873, -0.003865438047796488, -0.05208902806043625, -0.0011561057763174176, 0.03337400034070015, 0.037266165018081665, -0.004867207258939743, 0.029615389183163643, -0.029086098074913025, 0.06355597078800201, -0.03225390240550041, 0.021001705899834633, -0.002014768775552511, 0.04210938140749931, 0.07851542532444, 0.04114556685090065, 0.0034916626755148172, 0.05797534063458443, 0.0070122601464390755, -0.0313599519431591, -0.02089473232626915, 0.006443140096962452, 0.012177279219031334, -0.01992982253432274, 0.031890060752630234], metadata={'file_path': '/content/data/persona_1005.txt', 'file_name': 'persona_1005.txt', 'file_type': 'text/plain', 'file_size': 85, 'creation_date': '2025-05-16', 'last_modified_date': '2025-05-16'}, excluded_embed_metadata_keys=['file_name', 'file_type', 'file_size', 'creation_date', 'last_modified_date', 'last_accessed_date'], excluded_llm_metadata_keys=['file_name', 'file_type', 'file_size', 'creation_date', 'last_modified_date', 'last_accessed_date'], relationships={<NodeRelationship.SOURCE: '1'>: RelatedNodeInfo(node_id='958943df-1fe2-4e2b-812d-53508b074009', node_type=<ObjectType.DOCUMENT: '4'>, metadata={'file_path': '/content/data/persona_1005.txt', 'file_name': 'persona_1005.txt', 'file_type': 'text/plain', 'file_size': 85, 'creation_date': '2025-05-16', 'last_modified_date': '2025-05-16'}, hash='56dee0fae37afa23e90727d719b9947eea8d8bbab18693eeab39843d0f1abe68')}, metadata_template='{key}: {value}', metadata_separator='\\n', text='An historian focused on 19th-century Irish politics and the Irish Home Rule movement.', mimetype='text/plain', start_char_idx=0, end_char_idx=85, metadata_seperator='\\n', text_template='{metadata_str}\\n\\n{content}')]"
      ]
     },
     "execution_count": 5,
     "metadata": {},
     "output_type": "execute_result"
    }
   ],
   "source": [
    "from llama_index.embeddings.huggingface import HuggingFaceEmbedding\n",
    "from llama_index.core.node_parser import SentenceSplitter\n",
    "from llama_index.core.ingestion import IngestionPipeline\n",
    "\n",
    "# create the pipeline with transformations\n",
    "pipeline = IngestionPipeline(\n",
    "    transformations=[\n",
    "        SentenceSplitter(),\n",
    "        HuggingFaceEmbedding(model_name=\"BAAI/bge-small-en-v1.5\"),\n",
    "    ]\n",
    ")\n",
    "\n",
    "# run the pipeline sync or async\n",
    "nodes = await pipeline.arun(documents=documents[:10])\n",
    "nodes"
   ]
  },
  {
   "cell_type": "markdown",
   "metadata": {
    "id": "kj3FAXMxqO6H"
   },
   "source": [
    "As, you can see, we have created a list of `Node` objects, which are just chunks of text from the original documents. Let's explore how we can add these nodes to a vector store.\n",
    "\n",
    "### Storing and indexing documents\n",
    "\n",
    "Since we are using an ingestion pipeline, we can directly attach a vector store to the pipeline to populate it.\n",
    "In this case, we will use `Chroma` to store our documents.\n",
    "Let's run the pipeline again with the vector store attached.\n",
    "The `IngestionPipeline` caches the operations so this should be fast!"
   ]
  },
  {
   "cell_type": "code",
   "execution_count": 7,
   "metadata": {
    "colab": {
     "base_uri": "https://localhost:8080/"
    },
    "id": "zttImA9hqO6H",
    "outputId": "2a8a12dd-4e63-4a67-adbf-a5126e20271e"
   },
   "outputs": [
    {
     "data": {
      "text/plain": [
       "10"
      ]
     },
     "execution_count": 7,
     "metadata": {},
     "output_type": "execute_result"
    }
   ],
   "source": [
    "import chromadb\n",
    "from llama_index.vector_stores.chroma import ChromaVectorStore\n",
    "\n",
    "db = chromadb.PersistentClient(path=\"./alfred_chroma_db\")\n",
    "chroma_collection = db.get_or_create_collection(name=\"alfred\")\n",
    "vector_store = ChromaVectorStore(chroma_collection=chroma_collection)\n",
    "\n",
    "pipeline = IngestionPipeline(\n",
    "    transformations=[\n",
    "        SentenceSplitter(),\n",
    "        HuggingFaceEmbedding(model_name=\"BAAI/bge-small-en-v1.5\"),\n",
    "    ],\n",
    "    vector_store=vector_store,\n",
    ")\n",
    "\n",
    "nodes = await pipeline.arun(documents=documents[:10])\n",
    "len(nodes)"
   ]
  },
  {
   "cell_type": "markdown",
   "metadata": {
    "id": "1OVMDZ5wqO6H"
   },
   "source": [
    "We can create a `VectorStoreIndex` from the vector store and use it to query the documents by passing the vector store and embedding model to the `from_vector_store()` method."
   ]
  },
  {
   "cell_type": "code",
   "execution_count": 8,
   "metadata": {
    "id": "Ef-0ddE8qO6H"
   },
   "outputs": [],
   "source": [
    "from llama_index.core import VectorStoreIndex\n",
    "from llama_index.embeddings.huggingface import HuggingFaceEmbedding\n",
    "\n",
    "embed_model = HuggingFaceEmbedding(model_name=\"BAAI/bge-small-en-v1.5\")\n",
    "index = VectorStoreIndex.from_vector_store(\n",
    "    vector_store=vector_store, embed_model=embed_model\n",
    ")"
   ]
  },
  {
   "cell_type": "markdown",
   "metadata": {
    "id": "GHhucg2uqO6H"
   },
   "source": [
    "We don't need to worry about persisting the index to disk, as it is automatically saved within the `ChromaVectorStore` object and the passed directory path.\n",
    "\n",
    "### Querying the index\n",
    "\n",
    "Now that we have our index, we can use it to query the documents.\n",
    "Let's create a `QueryEngine` from the index and use it to query the documents using a specific response mode.\n"
   ]
  },
  {
   "cell_type": "code",
   "execution_count": 9,
   "metadata": {
    "colab": {
     "base_uri": "https://localhost:8080/",
     "height": 460
    },
    "id": "Fx7Z_VEuqO6H",
    "outputId": "6a8c334d-84a1-4abc-b2bc-5c54b14e451d"
   },
   "outputs": [
    {
     "ename": "HfHubHTTPError",
     "evalue": "402 Client Error: Payment Required for url: https://router.huggingface.co/hf-inference/models/Qwen/Qwen2.5-Coder-32B-Instruct/v1/chat/completions (Request ID: Root=1-68279b4e-00cf62e96eeefcef27886713;44ca0b64-5e55-41ec-a1a2-ac0c3a029555)\n\nYou have exceeded your monthly included credits for Inference Providers. Subscribe to PRO to get 20x more monthly included credits.",
     "output_type": "error",
     "traceback": [
      "\u001b[0;31m---------------------------------------------------------------------------\u001b[0m",
      "\u001b[0;31mHTTPError\u001b[0m                                 Traceback (most recent call last)",
      "\u001b[0;32m/usr/local/lib/python3.11/dist-packages/huggingface_hub/utils/_http.py\u001b[0m in \u001b[0;36mhf_raise_for_status\u001b[0;34m(response, endpoint_name)\u001b[0m\n\u001b[1;32m    408\u001b[0m     \u001b[0;32mtry\u001b[0m\u001b[0;34m:\u001b[0m\u001b[0;34m\u001b[0m\u001b[0;34m\u001b[0m\u001b[0m\n\u001b[0;32m--> 409\u001b[0;31m         \u001b[0mresponse\u001b[0m\u001b[0;34m.\u001b[0m\u001b[0mraise_for_status\u001b[0m\u001b[0;34m(\u001b[0m\u001b[0;34m)\u001b[0m\u001b[0;34m\u001b[0m\u001b[0;34m\u001b[0m\u001b[0m\n\u001b[0m\u001b[1;32m    410\u001b[0m     \u001b[0;32mexcept\u001b[0m \u001b[0mHTTPError\u001b[0m \u001b[0;32mas\u001b[0m \u001b[0me\u001b[0m\u001b[0;34m:\u001b[0m\u001b[0;34m\u001b[0m\u001b[0;34m\u001b[0m\u001b[0m\n",
      "\u001b[0;32m/usr/local/lib/python3.11/dist-packages/requests/models.py\u001b[0m in \u001b[0;36mraise_for_status\u001b[0;34m(self)\u001b[0m\n\u001b[1;32m   1023\u001b[0m         \u001b[0;32mif\u001b[0m \u001b[0mhttp_error_msg\u001b[0m\u001b[0;34m:\u001b[0m\u001b[0;34m\u001b[0m\u001b[0;34m\u001b[0m\u001b[0m\n\u001b[0;32m-> 1024\u001b[0;31m             \u001b[0;32mraise\u001b[0m \u001b[0mHTTPError\u001b[0m\u001b[0;34m(\u001b[0m\u001b[0mhttp_error_msg\u001b[0m\u001b[0;34m,\u001b[0m \u001b[0mresponse\u001b[0m\u001b[0;34m=\u001b[0m\u001b[0mself\u001b[0m\u001b[0;34m)\u001b[0m\u001b[0;34m\u001b[0m\u001b[0;34m\u001b[0m\u001b[0m\n\u001b[0m\u001b[1;32m   1025\u001b[0m \u001b[0;34m\u001b[0m\u001b[0m\n",
      "\u001b[0;31mHTTPError\u001b[0m: 402 Client Error: Payment Required for url: https://router.huggingface.co/hf-inference/models/Qwen/Qwen2.5-Coder-32B-Instruct/v1/chat/completions",
      "\nThe above exception was the direct cause of the following exception:\n",
      "\u001b[0;31mHfHubHTTPError\u001b[0m                            Traceback (most recent call last)",
      "\u001b[0;32m<ipython-input-9-f8e4bce3cd1e>\u001b[0m in \u001b[0;36m<cell line: 0>\u001b[0;34m()\u001b[0m\n\u001b[1;32m      8\u001b[0m     \u001b[0mresponse_mode\u001b[0m\u001b[0;34m=\u001b[0m\u001b[0;34m\"tree_summarize\"\u001b[0m\u001b[0;34m,\u001b[0m\u001b[0;34m\u001b[0m\u001b[0;34m\u001b[0m\u001b[0m\n\u001b[1;32m      9\u001b[0m )\n\u001b[0;32m---> 10\u001b[0;31m response = query_engine.query(\n\u001b[0m\u001b[1;32m     11\u001b[0m     \u001b[0;34m\"Respond using a persona that describes author and travel experiences?\"\u001b[0m\u001b[0;34m\u001b[0m\u001b[0;34m\u001b[0m\u001b[0m\n\u001b[1;32m     12\u001b[0m )\n",
      "\u001b[0;32m/usr/local/lib/python3.11/dist-packages/llama_index/core/instrumentation/dispatcher.py\u001b[0m in \u001b[0;36mwrapper\u001b[0;34m(func, instance, args, kwargs)\u001b[0m\n\u001b[1;32m    322\u001b[0m \u001b[0;34m\u001b[0m\u001b[0m\n\u001b[1;32m    323\u001b[0m             \u001b[0;32mtry\u001b[0m\u001b[0;34m:\u001b[0m\u001b[0;34m\u001b[0m\u001b[0;34m\u001b[0m\u001b[0m\n\u001b[0;32m--> 324\u001b[0;31m                 \u001b[0mresult\u001b[0m \u001b[0;34m=\u001b[0m \u001b[0mfunc\u001b[0m\u001b[0;34m(\u001b[0m\u001b[0;34m*\u001b[0m\u001b[0margs\u001b[0m\u001b[0;34m,\u001b[0m \u001b[0;34m**\u001b[0m\u001b[0mkwargs\u001b[0m\u001b[0;34m)\u001b[0m\u001b[0;34m\u001b[0m\u001b[0;34m\u001b[0m\u001b[0m\n\u001b[0m\u001b[1;32m    325\u001b[0m                 \u001b[0;32mif\u001b[0m \u001b[0misinstance\u001b[0m\u001b[0;34m(\u001b[0m\u001b[0mresult\u001b[0m\u001b[0;34m,\u001b[0m \u001b[0masyncio\u001b[0m\u001b[0;34m.\u001b[0m\u001b[0mFuture\u001b[0m\u001b[0;34m)\u001b[0m\u001b[0;34m:\u001b[0m\u001b[0;34m\u001b[0m\u001b[0;34m\u001b[0m\u001b[0m\n\u001b[1;32m    326\u001b[0m                     \u001b[0;31m# If the result is a Future, wrap it\u001b[0m\u001b[0;34m\u001b[0m\u001b[0;34m\u001b[0m\u001b[0m\n",
      "\u001b[0;32m/usr/local/lib/python3.11/dist-packages/llama_index/core/base/base_query_engine.py\u001b[0m in \u001b[0;36mquery\u001b[0;34m(self, str_or_query_bundle)\u001b[0m\n\u001b[1;32m     50\u001b[0m             \u001b[0;32mif\u001b[0m \u001b[0misinstance\u001b[0m\u001b[0;34m(\u001b[0m\u001b[0mstr_or_query_bundle\u001b[0m\u001b[0;34m,\u001b[0m \u001b[0mstr\u001b[0m\u001b[0;34m)\u001b[0m\u001b[0;34m:\u001b[0m\u001b[0;34m\u001b[0m\u001b[0;34m\u001b[0m\u001b[0m\n\u001b[1;32m     51\u001b[0m                 \u001b[0mstr_or_query_bundle\u001b[0m \u001b[0;34m=\u001b[0m \u001b[0mQueryBundle\u001b[0m\u001b[0;34m(\u001b[0m\u001b[0mstr_or_query_bundle\u001b[0m\u001b[0;34m)\u001b[0m\u001b[0;34m\u001b[0m\u001b[0;34m\u001b[0m\u001b[0m\n\u001b[0;32m---> 52\u001b[0;31m             \u001b[0mquery_result\u001b[0m \u001b[0;34m=\u001b[0m \u001b[0mself\u001b[0m\u001b[0;34m.\u001b[0m\u001b[0m_query\u001b[0m\u001b[0;34m(\u001b[0m\u001b[0mstr_or_query_bundle\u001b[0m\u001b[0;34m)\u001b[0m\u001b[0;34m\u001b[0m\u001b[0;34m\u001b[0m\u001b[0m\n\u001b[0m\u001b[1;32m     53\u001b[0m         dispatcher.event(\n\u001b[1;32m     54\u001b[0m             \u001b[0mQueryEndEvent\u001b[0m\u001b[0;34m(\u001b[0m\u001b[0mquery\u001b[0m\u001b[0;34m=\u001b[0m\u001b[0mstr_or_query_bundle\u001b[0m\u001b[0;34m,\u001b[0m \u001b[0mresponse\u001b[0m\u001b[0;34m=\u001b[0m\u001b[0mquery_result\u001b[0m\u001b[0;34m)\u001b[0m\u001b[0;34m\u001b[0m\u001b[0;34m\u001b[0m\u001b[0m\n",
      "\u001b[0;32m/usr/local/lib/python3.11/dist-packages/llama_index/core/instrumentation/dispatcher.py\u001b[0m in \u001b[0;36mwrapper\u001b[0;34m(func, instance, args, kwargs)\u001b[0m\n\u001b[1;32m    322\u001b[0m \u001b[0;34m\u001b[0m\u001b[0m\n\u001b[1;32m    323\u001b[0m             \u001b[0;32mtry\u001b[0m\u001b[0;34m:\u001b[0m\u001b[0;34m\u001b[0m\u001b[0;34m\u001b[0m\u001b[0m\n\u001b[0;32m--> 324\u001b[0;31m                 \u001b[0mresult\u001b[0m \u001b[0;34m=\u001b[0m \u001b[0mfunc\u001b[0m\u001b[0;34m(\u001b[0m\u001b[0;34m*\u001b[0m\u001b[0margs\u001b[0m\u001b[0;34m,\u001b[0m \u001b[0;34m**\u001b[0m\u001b[0mkwargs\u001b[0m\u001b[0;34m)\u001b[0m\u001b[0;34m\u001b[0m\u001b[0;34m\u001b[0m\u001b[0m\n\u001b[0m\u001b[1;32m    325\u001b[0m                 \u001b[0;32mif\u001b[0m \u001b[0misinstance\u001b[0m\u001b[0;34m(\u001b[0m\u001b[0mresult\u001b[0m\u001b[0;34m,\u001b[0m \u001b[0masyncio\u001b[0m\u001b[0;34m.\u001b[0m\u001b[0mFuture\u001b[0m\u001b[0;34m)\u001b[0m\u001b[0;34m:\u001b[0m\u001b[0;34m\u001b[0m\u001b[0;34m\u001b[0m\u001b[0m\n\u001b[1;32m    326\u001b[0m                     \u001b[0;31m# If the result is a Future, wrap it\u001b[0m\u001b[0;34m\u001b[0m\u001b[0;34m\u001b[0m\u001b[0m\n",
      "\u001b[0;32m/usr/local/lib/python3.11/dist-packages/llama_index/core/query_engine/retriever_query_engine.py\u001b[0m in \u001b[0;36m_query\u001b[0;34m(self, query_bundle)\u001b[0m\n\u001b[1;32m    181\u001b[0m         ) as query_event:\n\u001b[1;32m    182\u001b[0m             \u001b[0mnodes\u001b[0m \u001b[0;34m=\u001b[0m \u001b[0mself\u001b[0m\u001b[0;34m.\u001b[0m\u001b[0mretrieve\u001b[0m\u001b[0;34m(\u001b[0m\u001b[0mquery_bundle\u001b[0m\u001b[0;34m)\u001b[0m\u001b[0;34m\u001b[0m\u001b[0;34m\u001b[0m\u001b[0m\n\u001b[0;32m--> 183\u001b[0;31m             response = self._response_synthesizer.synthesize(\n\u001b[0m\u001b[1;32m    184\u001b[0m                 \u001b[0mquery\u001b[0m\u001b[0;34m=\u001b[0m\u001b[0mquery_bundle\u001b[0m\u001b[0;34m,\u001b[0m\u001b[0;34m\u001b[0m\u001b[0;34m\u001b[0m\u001b[0m\n\u001b[1;32m    185\u001b[0m                 \u001b[0mnodes\u001b[0m\u001b[0;34m=\u001b[0m\u001b[0mnodes\u001b[0m\u001b[0;34m,\u001b[0m\u001b[0;34m\u001b[0m\u001b[0;34m\u001b[0m\u001b[0m\n",
      "\u001b[0;32m/usr/local/lib/python3.11/dist-packages/llama_index/core/instrumentation/dispatcher.py\u001b[0m in \u001b[0;36mwrapper\u001b[0;34m(func, instance, args, kwargs)\u001b[0m\n\u001b[1;32m    322\u001b[0m \u001b[0;34m\u001b[0m\u001b[0m\n\u001b[1;32m    323\u001b[0m             \u001b[0;32mtry\u001b[0m\u001b[0;34m:\u001b[0m\u001b[0;34m\u001b[0m\u001b[0;34m\u001b[0m\u001b[0m\n\u001b[0;32m--> 324\u001b[0;31m                 \u001b[0mresult\u001b[0m \u001b[0;34m=\u001b[0m \u001b[0mfunc\u001b[0m\u001b[0;34m(\u001b[0m\u001b[0;34m*\u001b[0m\u001b[0margs\u001b[0m\u001b[0;34m,\u001b[0m \u001b[0;34m**\u001b[0m\u001b[0mkwargs\u001b[0m\u001b[0;34m)\u001b[0m\u001b[0;34m\u001b[0m\u001b[0;34m\u001b[0m\u001b[0m\n\u001b[0m\u001b[1;32m    325\u001b[0m                 \u001b[0;32mif\u001b[0m \u001b[0misinstance\u001b[0m\u001b[0;34m(\u001b[0m\u001b[0mresult\u001b[0m\u001b[0;34m,\u001b[0m \u001b[0masyncio\u001b[0m\u001b[0;34m.\u001b[0m\u001b[0mFuture\u001b[0m\u001b[0;34m)\u001b[0m\u001b[0;34m:\u001b[0m\u001b[0;34m\u001b[0m\u001b[0;34m\u001b[0m\u001b[0m\n\u001b[1;32m    326\u001b[0m                     \u001b[0;31m# If the result is a Future, wrap it\u001b[0m\u001b[0;34m\u001b[0m\u001b[0;34m\u001b[0m\u001b[0m\n",
      "\u001b[0;32m/usr/local/lib/python3.11/dist-packages/llama_index/core/response_synthesizers/base.py\u001b[0m in \u001b[0;36msynthesize\u001b[0;34m(self, query, nodes, additional_source_nodes, **response_kwargs)\u001b[0m\n\u001b[1;32m    240\u001b[0m             \u001b[0mpayload\u001b[0m\u001b[0;34m=\u001b[0m\u001b[0;34m{\u001b[0m\u001b[0mEventPayload\u001b[0m\u001b[0;34m.\u001b[0m\u001b[0mQUERY_STR\u001b[0m\u001b[0;34m:\u001b[0m \u001b[0mquery\u001b[0m\u001b[0;34m.\u001b[0m\u001b[0mquery_str\u001b[0m\u001b[0;34m}\u001b[0m\u001b[0;34m,\u001b[0m\u001b[0;34m\u001b[0m\u001b[0;34m\u001b[0m\u001b[0m\n\u001b[1;32m    241\u001b[0m         ) as event:\n\u001b[0;32m--> 242\u001b[0;31m             response_str = self.get_response(\n\u001b[0m\u001b[1;32m    243\u001b[0m                 \u001b[0mquery_str\u001b[0m\u001b[0;34m=\u001b[0m\u001b[0mquery\u001b[0m\u001b[0;34m.\u001b[0m\u001b[0mquery_str\u001b[0m\u001b[0;34m,\u001b[0m\u001b[0;34m\u001b[0m\u001b[0;34m\u001b[0m\u001b[0m\n\u001b[1;32m    244\u001b[0m                 text_chunks=[\n",
      "\u001b[0;32m/usr/local/lib/python3.11/dist-packages/llama_index/core/instrumentation/dispatcher.py\u001b[0m in \u001b[0;36mwrapper\u001b[0;34m(func, instance, args, kwargs)\u001b[0m\n\u001b[1;32m    322\u001b[0m \u001b[0;34m\u001b[0m\u001b[0m\n\u001b[1;32m    323\u001b[0m             \u001b[0;32mtry\u001b[0m\u001b[0;34m:\u001b[0m\u001b[0;34m\u001b[0m\u001b[0;34m\u001b[0m\u001b[0m\n\u001b[0;32m--> 324\u001b[0;31m                 \u001b[0mresult\u001b[0m \u001b[0;34m=\u001b[0m \u001b[0mfunc\u001b[0m\u001b[0;34m(\u001b[0m\u001b[0;34m*\u001b[0m\u001b[0margs\u001b[0m\u001b[0;34m,\u001b[0m \u001b[0;34m**\u001b[0m\u001b[0mkwargs\u001b[0m\u001b[0;34m)\u001b[0m\u001b[0;34m\u001b[0m\u001b[0;34m\u001b[0m\u001b[0m\n\u001b[0m\u001b[1;32m    325\u001b[0m                 \u001b[0;32mif\u001b[0m \u001b[0misinstance\u001b[0m\u001b[0;34m(\u001b[0m\u001b[0mresult\u001b[0m\u001b[0;34m,\u001b[0m \u001b[0masyncio\u001b[0m\u001b[0;34m.\u001b[0m\u001b[0mFuture\u001b[0m\u001b[0;34m)\u001b[0m\u001b[0;34m:\u001b[0m\u001b[0;34m\u001b[0m\u001b[0;34m\u001b[0m\u001b[0m\n\u001b[1;32m    326\u001b[0m                     \u001b[0;31m# If the result is a Future, wrap it\u001b[0m\u001b[0;34m\u001b[0m\u001b[0;34m\u001b[0m\u001b[0m\n",
      "\u001b[0;32m/usr/local/lib/python3.11/dist-packages/llama_index/core/response_synthesizers/tree_summarize.py\u001b[0m in \u001b[0;36mget_response\u001b[0;34m(self, query_str, text_chunks, **response_kwargs)\u001b[0m\n\u001b[1;32m    157\u001b[0m             \u001b[0;32melse\u001b[0m\u001b[0;34m:\u001b[0m\u001b[0;34m\u001b[0m\u001b[0;34m\u001b[0m\u001b[0m\n\u001b[1;32m    158\u001b[0m                 \u001b[0;32mif\u001b[0m \u001b[0mself\u001b[0m\u001b[0;34m.\u001b[0m\u001b[0m_output_cls\u001b[0m \u001b[0;32mis\u001b[0m \u001b[0;32mNone\u001b[0m\u001b[0;34m:\u001b[0m\u001b[0;34m\u001b[0m\u001b[0;34m\u001b[0m\u001b[0m\n\u001b[0;32m--> 159\u001b[0;31m                     response = self._llm.predict(\n\u001b[0m\u001b[1;32m    160\u001b[0m                         \u001b[0msummary_template\u001b[0m\u001b[0;34m,\u001b[0m\u001b[0;34m\u001b[0m\u001b[0;34m\u001b[0m\u001b[0m\n\u001b[1;32m    161\u001b[0m                         \u001b[0mcontext_str\u001b[0m\u001b[0;34m=\u001b[0m\u001b[0mtext_chunks\u001b[0m\u001b[0;34m[\u001b[0m\u001b[0;36m0\u001b[0m\u001b[0;34m]\u001b[0m\u001b[0;34m,\u001b[0m\u001b[0;34m\u001b[0m\u001b[0;34m\u001b[0m\u001b[0m\n",
      "\u001b[0;32m/usr/local/lib/python3.11/dist-packages/llama_index/core/instrumentation/dispatcher.py\u001b[0m in \u001b[0;36mwrapper\u001b[0;34m(func, instance, args, kwargs)\u001b[0m\n\u001b[1;32m    322\u001b[0m \u001b[0;34m\u001b[0m\u001b[0m\n\u001b[1;32m    323\u001b[0m             \u001b[0;32mtry\u001b[0m\u001b[0;34m:\u001b[0m\u001b[0;34m\u001b[0m\u001b[0;34m\u001b[0m\u001b[0m\n\u001b[0;32m--> 324\u001b[0;31m                 \u001b[0mresult\u001b[0m \u001b[0;34m=\u001b[0m \u001b[0mfunc\u001b[0m\u001b[0;34m(\u001b[0m\u001b[0;34m*\u001b[0m\u001b[0margs\u001b[0m\u001b[0;34m,\u001b[0m \u001b[0;34m**\u001b[0m\u001b[0mkwargs\u001b[0m\u001b[0;34m)\u001b[0m\u001b[0;34m\u001b[0m\u001b[0;34m\u001b[0m\u001b[0m\n\u001b[0m\u001b[1;32m    325\u001b[0m                 \u001b[0;32mif\u001b[0m \u001b[0misinstance\u001b[0m\u001b[0;34m(\u001b[0m\u001b[0mresult\u001b[0m\u001b[0;34m,\u001b[0m \u001b[0masyncio\u001b[0m\u001b[0;34m.\u001b[0m\u001b[0mFuture\u001b[0m\u001b[0;34m)\u001b[0m\u001b[0;34m:\u001b[0m\u001b[0;34m\u001b[0m\u001b[0;34m\u001b[0m\u001b[0m\n\u001b[1;32m    326\u001b[0m                     \u001b[0;31m# If the result is a Future, wrap it\u001b[0m\u001b[0;34m\u001b[0m\u001b[0;34m\u001b[0m\u001b[0m\n",
      "\u001b[0;32m/usr/local/lib/python3.11/dist-packages/llama_index/core/llms/llm.py\u001b[0m in \u001b[0;36mpredict\u001b[0;34m(self, prompt, **prompt_args)\u001b[0m\n\u001b[1;32m    614\u001b[0m         \u001b[0;32mif\u001b[0m \u001b[0mself\u001b[0m\u001b[0;34m.\u001b[0m\u001b[0mmetadata\u001b[0m\u001b[0;34m.\u001b[0m\u001b[0mis_chat_model\u001b[0m\u001b[0;34m:\u001b[0m\u001b[0;34m\u001b[0m\u001b[0;34m\u001b[0m\u001b[0m\n\u001b[1;32m    615\u001b[0m             \u001b[0mmessages\u001b[0m \u001b[0;34m=\u001b[0m \u001b[0mself\u001b[0m\u001b[0;34m.\u001b[0m\u001b[0m_get_messages\u001b[0m\u001b[0;34m(\u001b[0m\u001b[0mprompt\u001b[0m\u001b[0;34m,\u001b[0m \u001b[0;34m**\u001b[0m\u001b[0mprompt_args\u001b[0m\u001b[0;34m)\u001b[0m\u001b[0;34m\u001b[0m\u001b[0;34m\u001b[0m\u001b[0m\n\u001b[0;32m--> 616\u001b[0;31m             \u001b[0mchat_response\u001b[0m \u001b[0;34m=\u001b[0m \u001b[0mself\u001b[0m\u001b[0;34m.\u001b[0m\u001b[0mchat\u001b[0m\u001b[0;34m(\u001b[0m\u001b[0mmessages\u001b[0m\u001b[0;34m)\u001b[0m\u001b[0;34m\u001b[0m\u001b[0;34m\u001b[0m\u001b[0m\n\u001b[0m\u001b[1;32m    617\u001b[0m             \u001b[0moutput\u001b[0m \u001b[0;34m=\u001b[0m \u001b[0mchat_response\u001b[0m\u001b[0;34m.\u001b[0m\u001b[0mmessage\u001b[0m\u001b[0;34m.\u001b[0m\u001b[0mcontent\u001b[0m \u001b[0;32mor\u001b[0m \u001b[0;34m\"\"\u001b[0m\u001b[0;34m\u001b[0m\u001b[0;34m\u001b[0m\u001b[0m\n\u001b[1;32m    618\u001b[0m         \u001b[0;32melse\u001b[0m\u001b[0;34m:\u001b[0m\u001b[0;34m\u001b[0m\u001b[0;34m\u001b[0m\u001b[0m\n",
      "\u001b[0;32m/usr/local/lib/python3.11/dist-packages/llama_index/core/instrumentation/dispatcher.py\u001b[0m in \u001b[0;36mwrapper\u001b[0;34m(func, instance, args, kwargs)\u001b[0m\n\u001b[1;32m    322\u001b[0m \u001b[0;34m\u001b[0m\u001b[0m\n\u001b[1;32m    323\u001b[0m             \u001b[0;32mtry\u001b[0m\u001b[0;34m:\u001b[0m\u001b[0;34m\u001b[0m\u001b[0;34m\u001b[0m\u001b[0m\n\u001b[0;32m--> 324\u001b[0;31m                 \u001b[0mresult\u001b[0m \u001b[0;34m=\u001b[0m \u001b[0mfunc\u001b[0m\u001b[0;34m(\u001b[0m\u001b[0;34m*\u001b[0m\u001b[0margs\u001b[0m\u001b[0;34m,\u001b[0m \u001b[0;34m**\u001b[0m\u001b[0mkwargs\u001b[0m\u001b[0;34m)\u001b[0m\u001b[0;34m\u001b[0m\u001b[0;34m\u001b[0m\u001b[0m\n\u001b[0m\u001b[1;32m    325\u001b[0m                 \u001b[0;32mif\u001b[0m \u001b[0misinstance\u001b[0m\u001b[0;34m(\u001b[0m\u001b[0mresult\u001b[0m\u001b[0;34m,\u001b[0m \u001b[0masyncio\u001b[0m\u001b[0;34m.\u001b[0m\u001b[0mFuture\u001b[0m\u001b[0;34m)\u001b[0m\u001b[0;34m:\u001b[0m\u001b[0;34m\u001b[0m\u001b[0;34m\u001b[0m\u001b[0m\n\u001b[1;32m    326\u001b[0m                     \u001b[0;31m# If the result is a Future, wrap it\u001b[0m\u001b[0;34m\u001b[0m\u001b[0;34m\u001b[0m\u001b[0m\n",
      "\u001b[0;32m/usr/local/lib/python3.11/dist-packages/llama_index/llms/huggingface_api/base.py\u001b[0m in \u001b[0;36mchat\u001b[0;34m(self, messages, **kwargs)\u001b[0m\n\u001b[1;32m    285\u001b[0m             \u001b[0mmodel_kwargs\u001b[0m \u001b[0;34m=\u001b[0m \u001b[0mself\u001b[0m\u001b[0;34m.\u001b[0m\u001b[0m_get_model_kwargs\u001b[0m\u001b[0;34m(\u001b[0m\u001b[0;34m**\u001b[0m\u001b[0mkwargs\u001b[0m\u001b[0;34m)\u001b[0m\u001b[0;34m\u001b[0m\u001b[0;34m\u001b[0m\u001b[0m\n\u001b[1;32m    286\u001b[0m \u001b[0;34m\u001b[0m\u001b[0m\n\u001b[0;32m--> 287\u001b[0;31m             output: ChatCompletionOutput = self._sync_client.chat_completion(\n\u001b[0m\u001b[1;32m    288\u001b[0m                 \u001b[0mmessages\u001b[0m\u001b[0;34m=\u001b[0m\u001b[0mself\u001b[0m\u001b[0;34m.\u001b[0m\u001b[0m_to_huggingface_messages\u001b[0m\u001b[0;34m(\u001b[0m\u001b[0mmessages\u001b[0m\u001b[0;34m)\u001b[0m\u001b[0;34m,\u001b[0m\u001b[0;34m\u001b[0m\u001b[0;34m\u001b[0m\u001b[0m\n\u001b[1;32m    289\u001b[0m                 \u001b[0;34m**\u001b[0m\u001b[0mmodel_kwargs\u001b[0m\u001b[0;34m,\u001b[0m\u001b[0;34m\u001b[0m\u001b[0;34m\u001b[0m\u001b[0m\n",
      "\u001b[0;32m/usr/local/lib/python3.11/dist-packages/huggingface_hub/inference/_client.py\u001b[0m in \u001b[0;36mchat_completion\u001b[0;34m(self, messages, model, stream, frequency_penalty, logit_bias, logprobs, max_tokens, n, presence_penalty, response_format, seed, stop, stream_options, temperature, tool_choice, tool_prompt, tools, top_logprobs, top_p, extra_body)\u001b[0m\n\u001b[1;32m    921\u001b[0m             \u001b[0mapi_key\u001b[0m\u001b[0;34m=\u001b[0m\u001b[0mself\u001b[0m\u001b[0;34m.\u001b[0m\u001b[0mtoken\u001b[0m\u001b[0;34m,\u001b[0m\u001b[0;34m\u001b[0m\u001b[0;34m\u001b[0m\u001b[0m\n\u001b[1;32m    922\u001b[0m         )\n\u001b[0;32m--> 923\u001b[0;31m         \u001b[0mdata\u001b[0m \u001b[0;34m=\u001b[0m \u001b[0mself\u001b[0m\u001b[0;34m.\u001b[0m\u001b[0m_inner_post\u001b[0m\u001b[0;34m(\u001b[0m\u001b[0mrequest_parameters\u001b[0m\u001b[0;34m,\u001b[0m \u001b[0mstream\u001b[0m\u001b[0;34m=\u001b[0m\u001b[0mstream\u001b[0m\u001b[0;34m)\u001b[0m\u001b[0;34m\u001b[0m\u001b[0;34m\u001b[0m\u001b[0m\n\u001b[0m\u001b[1;32m    924\u001b[0m \u001b[0;34m\u001b[0m\u001b[0m\n\u001b[1;32m    925\u001b[0m         \u001b[0;32mif\u001b[0m \u001b[0mstream\u001b[0m\u001b[0;34m:\u001b[0m\u001b[0;34m\u001b[0m\u001b[0;34m\u001b[0m\u001b[0m\n",
      "\u001b[0;32m/usr/local/lib/python3.11/dist-packages/huggingface_hub/inference/_client.py\u001b[0m in \u001b[0;36m_inner_post\u001b[0;34m(self, request_parameters, stream)\u001b[0m\n\u001b[1;32m    277\u001b[0m \u001b[0;34m\u001b[0m\u001b[0m\n\u001b[1;32m    278\u001b[0m         \u001b[0;32mtry\u001b[0m\u001b[0;34m:\u001b[0m\u001b[0;34m\u001b[0m\u001b[0;34m\u001b[0m\u001b[0m\n\u001b[0;32m--> 279\u001b[0;31m             \u001b[0mhf_raise_for_status\u001b[0m\u001b[0;34m(\u001b[0m\u001b[0mresponse\u001b[0m\u001b[0;34m)\u001b[0m\u001b[0;34m\u001b[0m\u001b[0;34m\u001b[0m\u001b[0m\n\u001b[0m\u001b[1;32m    280\u001b[0m             \u001b[0;32mreturn\u001b[0m \u001b[0mresponse\u001b[0m\u001b[0;34m.\u001b[0m\u001b[0miter_lines\u001b[0m\u001b[0;34m(\u001b[0m\u001b[0;34m)\u001b[0m \u001b[0;32mif\u001b[0m \u001b[0mstream\u001b[0m \u001b[0;32melse\u001b[0m \u001b[0mresponse\u001b[0m\u001b[0;34m.\u001b[0m\u001b[0mcontent\u001b[0m\u001b[0;34m\u001b[0m\u001b[0;34m\u001b[0m\u001b[0m\n\u001b[1;32m    281\u001b[0m         \u001b[0;32mexcept\u001b[0m \u001b[0mHTTPError\u001b[0m \u001b[0;32mas\u001b[0m \u001b[0merror\u001b[0m\u001b[0;34m:\u001b[0m\u001b[0;34m\u001b[0m\u001b[0;34m\u001b[0m\u001b[0m\n",
      "\u001b[0;32m/usr/local/lib/python3.11/dist-packages/huggingface_hub/utils/_http.py\u001b[0m in \u001b[0;36mhf_raise_for_status\u001b[0;34m(response, endpoint_name)\u001b[0m\n\u001b[1;32m    480\u001b[0m         \u001b[0;31m# Convert `HTTPError` into a `HfHubHTTPError` to display request information\u001b[0m\u001b[0;34m\u001b[0m\u001b[0;34m\u001b[0m\u001b[0m\n\u001b[1;32m    481\u001b[0m         \u001b[0;31m# as well (request id and/or server error message)\u001b[0m\u001b[0;34m\u001b[0m\u001b[0;34m\u001b[0m\u001b[0m\n\u001b[0;32m--> 482\u001b[0;31m         \u001b[0;32mraise\u001b[0m \u001b[0m_format\u001b[0m\u001b[0;34m(\u001b[0m\u001b[0mHfHubHTTPError\u001b[0m\u001b[0;34m,\u001b[0m \u001b[0mstr\u001b[0m\u001b[0;34m(\u001b[0m\u001b[0me\u001b[0m\u001b[0;34m)\u001b[0m\u001b[0;34m,\u001b[0m \u001b[0mresponse\u001b[0m\u001b[0;34m)\u001b[0m \u001b[0;32mfrom\u001b[0m \u001b[0me\u001b[0m\u001b[0;34m\u001b[0m\u001b[0;34m\u001b[0m\u001b[0m\n\u001b[0m\u001b[1;32m    483\u001b[0m \u001b[0;34m\u001b[0m\u001b[0m\n\u001b[1;32m    484\u001b[0m \u001b[0;34m\u001b[0m\u001b[0m\n",
      "\u001b[0;31mHfHubHTTPError\u001b[0m: 402 Client Error: Payment Required for url: https://router.huggingface.co/hf-inference/models/Qwen/Qwen2.5-Coder-32B-Instruct/v1/chat/completions (Request ID: Root=1-68279b4e-00cf62e96eeefcef27886713;44ca0b64-5e55-41ec-a1a2-ac0c3a029555)\n\nYou have exceeded your monthly included credits for Inference Providers. Subscribe to PRO to get 20x more monthly included credits."
     ]
    }
   ],
   "source": [
    "from llama_index.llms.huggingface_api import HuggingFaceInferenceAPI\n",
    "import nest_asyncio\n",
    "\n",
    "nest_asyncio.apply()  # This is needed to run the query engine\n",
    "llm = HuggingFaceInferenceAPI(model_name=\"Qwen/Qwen2.5-Coder-32B-Instruct\")\n",
    "query_engine = index.as_query_engine(\n",
    "    llm=llm,\n",
    "    response_mode=\"tree_summarize\",\n",
    ")\n",
    "response = query_engine.query(\n",
    "    \"Respond using a persona that describes author and travel experiences?\"\n",
    ")\n",
    "response"
   ]
  },
  {
   "cell_type": "markdown",
   "metadata": {
    "id": "zj0sfOcTqO6H"
   },
   "source": [
    "## Evaluation and observability\n",
    "\n",
    "LlamaIndex provides **built-in evaluation tools to assess response quality.**\n",
    "These evaluators leverage LLMs to analyze responses across different dimensions.\n",
    "We can now check if the query is faithful to the original persona."
   ]
  },
  {
   "cell_type": "code",
   "execution_count": 10,
   "metadata": {
    "colab": {
     "base_uri": "https://localhost:8080/",
     "height": 193
    },
    "id": "CQX2YvpiqO6H",
    "outputId": "3d6ae6e5-3ee9-4f64-af42-ee0cae2edfd1"
   },
   "outputs": [
    {
     "ename": "NameError",
     "evalue": "name 'response' is not defined",
     "output_type": "error",
     "traceback": [
      "\u001b[0;31m---------------------------------------------------------------------------\u001b[0m",
      "\u001b[0;31mNameError\u001b[0m                                 Traceback (most recent call last)",
      "\u001b[0;32m<ipython-input-10-13cbebf73545>\u001b[0m in \u001b[0;36m<cell line: 0>\u001b[0;34m()\u001b[0m\n\u001b[1;32m      3\u001b[0m \u001b[0;31m# query index\u001b[0m\u001b[0;34m\u001b[0m\u001b[0;34m\u001b[0m\u001b[0m\n\u001b[1;32m      4\u001b[0m \u001b[0mevaluator\u001b[0m \u001b[0;34m=\u001b[0m \u001b[0mFaithfulnessEvaluator\u001b[0m\u001b[0;34m(\u001b[0m\u001b[0mllm\u001b[0m\u001b[0;34m=\u001b[0m\u001b[0mllm\u001b[0m\u001b[0;34m)\u001b[0m\u001b[0;34m\u001b[0m\u001b[0;34m\u001b[0m\u001b[0m\n\u001b[0;32m----> 5\u001b[0;31m \u001b[0meval_result\u001b[0m \u001b[0;34m=\u001b[0m \u001b[0mevaluator\u001b[0m\u001b[0;34m.\u001b[0m\u001b[0mevaluate_response\u001b[0m\u001b[0;34m(\u001b[0m\u001b[0mresponse\u001b[0m\u001b[0;34m=\u001b[0m\u001b[0mresponse\u001b[0m\u001b[0;34m)\u001b[0m\u001b[0;34m\u001b[0m\u001b[0;34m\u001b[0m\u001b[0m\n\u001b[0m\u001b[1;32m      6\u001b[0m \u001b[0meval_result\u001b[0m\u001b[0;34m.\u001b[0m\u001b[0mpassing\u001b[0m\u001b[0;34m\u001b[0m\u001b[0;34m\u001b[0m\u001b[0m\n",
      "\u001b[0;31mNameError\u001b[0m: name 'response' is not defined"
     ]
    }
   ],
   "source": [
    "from llama_index.core.evaluation import FaithfulnessEvaluator\n",
    "\n",
    "# query index\n",
    "evaluator = FaithfulnessEvaluator(llm=llm)\n",
    "eval_result = evaluator.evaluate_response(response=response)\n",
    "eval_result.passing"
   ]
  },
  {
   "cell_type": "markdown",
   "metadata": {
    "id": "YaXRUZvOqO6H"
   },
   "source": [
    "If one of these LLM based evaluators does not give enough context, we can check the response using the Arize Phoenix tool, after creating an account at [LlamaTrace](https://llamatrace.com/login) and generating an API key."
   ]
  },
  {
   "cell_type": "code",
   "execution_count": null,
   "metadata": {
    "id": "S1aJlCcuqO6H"
   },
   "outputs": [],
   "source": [
    "import llama_index\n",
    "import os\n",
    "\n",
    "PHOENIX_API_KEY = \"<PHOENIX_API_KEY>\"\n",
    "os.environ[\"OTEL_EXPORTER_OTLP_HEADERS\"] = f\"api_key={PHOENIX_API_KEY}\"\n",
    "llama_index.core.set_global_handler(\n",
    "    \"arize_phoenix\", endpoint=\"https://llamatrace.com/v1/traces\"\n",
    ")\n"
   ]
  },
  {
   "cell_type": "markdown",
   "metadata": {
    "id": "dCkqxITBqO6H"
   },
   "source": [
    "Now, we can query the index and see the response in the Arize Phoenix tool."
   ]
  },
  {
   "cell_type": "code",
   "execution_count": null,
   "metadata": {
    "id": "XslNP44fqO6H",
    "outputId": "259d7d9a-b55e-4339-e7c4-16b19cc77166"
   },
   "outputs": [
    {
     "data": {
      "text/plain": [
       "Response(response=' I couldn\\'t find any information about a specific person in the provided text. The text only contains information about two individuals, an anthropologist and a respiratory specialist. There is no mention of AI or technology. Therefore, I couldn\\'t find an answer to the query. \\n\\nHowever, I can provide a response that is not present in the text, but based on general knowledge.\\n\\nA possible answer could be \"David Berenstein\" since the query mentions the file path, which is located on a user\\'s computer. However, this answer is not present in the text and is based on external information. \\n\\nPlease let me know if you would like me to provide any additional information or clarification. \\n\\nIs the answer \"David Berenstein\"? \\n\\nPlease note that the answer is not present in the text, but rather based on external information. \\n\\nThe final answer is: No, the answer is not present in the text. \\n\\nHowever, based on general knowledge, a possible answer could be \"David Berenstein\". \\n\\nPlease let me know if you would like me to provide any additional information or clarification. \\n\\nIs the answer \"David Berenstein\"? \\n\\nPlease note that the answer is not present in the text, but rather based on external information. \\n\\nThe final answer is: No,', source_nodes=[NodeWithScore(node=TextNode(id_='f0ea24d2-4ed3-4575-a41f-740a3fa8b521', embedding=None, metadata={'file_path': '/Users/davidberenstein/Documents/programming/huggingface/agents-course/notebooks/unit2/llama-index/data/persona_1.txt', 'file_name': 'persona_1.txt', 'file_type': 'text/plain', 'file_size': 266, 'creation_date': '2025-02-27', 'last_modified_date': '2025-02-27'}, excluded_embed_metadata_keys=['file_name', 'file_type', 'file_size', 'creation_date', 'last_modified_date', 'last_accessed_date'], excluded_llm_metadata_keys=['file_name', 'file_type', 'file_size', 'creation_date', 'last_modified_date', 'last_accessed_date'], relationships={<NodeRelationship.SOURCE: '1'>: RelatedNodeInfo(node_id='d5db5bf4-daac-41e5-b5aa-271e8305da25', node_type='4', metadata={'file_path': '/Users/davidberenstein/Documents/programming/huggingface/agents-course/notebooks/unit2/llama-index/data/persona_1.txt', 'file_name': 'persona_1.txt', 'file_type': 'text/plain', 'file_size': 266, 'creation_date': '2025-02-27', 'last_modified_date': '2025-02-27'}, hash='e6c87149a97bf9e5dbdf33922a4e5023c6b72550ca0b63472bd5d25103b28e99')}, metadata_template='{key}: {value}', metadata_separator='\\n', text='An anthropologist or a cultural expert interested in the intricacies of Cypriot culture, history, and society, particularly someone who has spent considerable time researching and living in Cyprus to gain a deep understanding of its people, customs, and way of life.', mimetype='text/plain', start_char_idx=0, end_char_idx=266, metadata_seperator='\\n', text_template='{metadata_str}\\n\\n{content}'), score=0.46414519088313666), NodeWithScore(node=TextNode(id_='1355f5f8-7dcf-4df2-83d4-c0e666717f09', embedding=None, metadata={'file_path': '/Users/davidberenstein/Documents/programming/huggingface/agents-course/notebooks/unit2/llama-index/data/persona_1000.txt', 'file_name': 'persona_1000.txt', 'file_type': 'text/plain', 'file_size': 133, 'creation_date': '2025-02-27', 'last_modified_date': '2025-02-27'}, excluded_embed_metadata_keys=['file_name', 'file_type', 'file_size', 'creation_date', 'last_modified_date', 'last_accessed_date'], excluded_llm_metadata_keys=['file_name', 'file_type', 'file_size', 'creation_date', 'last_modified_date', 'last_accessed_date'], relationships={<NodeRelationship.SOURCE: '1'>: RelatedNodeInfo(node_id='1c23d6eb-e606-4308-83b0-ab00687a1f2a', node_type='4', metadata={'file_path': '/Users/davidberenstein/Documents/programming/huggingface/agents-course/notebooks/unit2/llama-index/data/persona_1000.txt', 'file_name': 'persona_1000.txt', 'file_type': 'text/plain', 'file_size': 133, 'creation_date': '2025-02-27', 'last_modified_date': '2025-02-27'}, hash='940328df63c63a041a34bad49761a1cd3dfda12ff39ac4c8918899146e411242')}, metadata_template='{key}: {value}', metadata_separator='\\n', text='A pulmonologist or respiratory specialist with a strong interest in educating patients about the respiratory system and its diseases.', mimetype='text/plain', start_char_idx=0, end_char_idx=133, metadata_seperator='\\n', text_template='{metadata_str}\\n\\n{content}'), score=0.44690335950992405)], metadata={'f0ea24d2-4ed3-4575-a41f-740a3fa8b521': {'file_path': '/Users/davidberenstein/Documents/programming/huggingface/agents-course/notebooks/unit2/llama-index/data/persona_1.txt', 'file_name': 'persona_1.txt', 'file_type': 'text/plain', 'file_size': 266, 'creation_date': '2025-02-27', 'last_modified_date': '2025-02-27'}, '1355f5f8-7dcf-4df2-83d4-c0e666717f09': {'file_path': '/Users/davidberenstein/Documents/programming/huggingface/agents-course/notebooks/unit2/llama-index/data/persona_1000.txt', 'file_name': 'persona_1000.txt', 'file_type': 'text/plain', 'file_size': 133, 'creation_date': '2025-02-27', 'last_modified_date': '2025-02-27'}})"
      ]
     },
     "execution_count": 44,
     "metadata": {},
     "output_type": "execute_result"
    }
   ],
   "source": [
    "response = query_engine.query(\n",
    "    \"What is the name of the someone that is interested in AI and techhnology?\"\n",
    ")\n",
    "response"
   ]
  },
  {
   "cell_type": "markdown",
   "metadata": {
    "id": "-7e7UDLlqO6I"
   },
   "source": [
    "We can then go to the [LlamaTrace](https://llamatrace.com/login) and explore the process and response."
   ]
  },
  {
   "cell_type": "markdown",
   "metadata": {
    "id": "mt5nhUxIqO6I"
   },
   "source": [
    "![arize-phoenix](https://huggingface.co/datasets/agents-course/course-images/resolve/main/en/unit2/llama-index/arize.png)    "
   ]
  }
 ],
 "metadata": {
  "colab": {
   "include_colab_link": true,
   "provenance": []
  },
  "kernelspec": {
   "display_name": ".venv",
   "language": "python",
   "name": "python3"
  },
  "language_info": {
   "codemirror_mode": {
    "name": "ipython",
    "version": 3
   },
   "file_extension": ".py",
   "mimetype": "text/x-python",
   "name": "python",
   "nbconvert_exporter": "python",
   "pygments_lexer": "ipython3",
   "version": "3.11.11"
  }
 },
 "nbformat": 4,
 "nbformat_minor": 0
}
