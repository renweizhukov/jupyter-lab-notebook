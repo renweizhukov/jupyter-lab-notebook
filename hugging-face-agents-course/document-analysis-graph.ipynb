{
  "cells": [
    {
      "cell_type": "markdown",
      "metadata": {
        "id": "view-in-github",
        "colab_type": "text"
      },
      "source": [
        "<a href=\"https://colab.research.google.com/github/renweizhukov/jupyter-lab-notebook/blob/main/hugging-face-agents-course/document-analysis-graph.ipynb\" target=\"_parent\"><img src=\"https://colab.research.google.com/assets/colab-badge.svg\" alt=\"Open In Colab\"/></a>"
      ]
    },
    {
      "cell_type": "markdown",
      "id": "98f5e36a-da49-4ae2-8c74-b910a2f992fc",
      "metadata": {
        "id": "98f5e36a-da49-4ae2-8c74-b910a2f992fc"
      },
      "source": [
        "# Agent\n",
        "\n",
        "In this notebook, **we're going to build a simple agent using using LangGraph**.\n",
        "\n",
        "This notebook is part of the <a href=\"https://www.hf.co/learn/agents-course\">Hugging Face Agents Course</a>, a free course from beginner to expert, where you learn to build Agents.\n",
        "\n",
        "![Agents course share](https://huggingface.co/datasets/agents-course/course-images/resolve/main/en/communication/share.png)\n",
        "\n",
        "As seen in the Unit 1, an agent needs 3 steps as introduced in the ReAct architecture :\n",
        "[ReAct](https://react-lm.github.io/), a general agent architecture.\n",
        "  \n",
        "* `act` - let the model call specific tools\n",
        "* `observe` - pass the tool output back to the model\n",
        "* `reason` - let the model reason about the tool output to decide what to do next (e.g., call another tool or just respond directly)\n",
        "\n",
        "\n",
        "![Agent](https://huggingface.co/datasets/agents-course/course-images/resolve/main/en/unit2/LangGraph/Agent.png)"
      ]
    },
    {
      "cell_type": "code",
      "execution_count": 1,
      "id": "63edff5a-724b-474d-9db8-37f0ae936c76",
      "metadata": {
        "tags": [],
        "id": "63edff5a-724b-474d-9db8-37f0ae936c76",
        "outputId": "6f23ca0f-42ad-499d-93a0-2049e707154a",
        "colab": {
          "base_uri": "https://localhost:8080/"
        }
      },
      "outputs": [
        {
          "output_type": "stream",
          "name": "stdout",
          "text": [
            "\u001b[2K     \u001b[90m━━━━━━━━━━━━━━━━━━━━━━━━━━━━━━━━━━━━━━━━\u001b[0m \u001b[32m43.5/43.5 kB\u001b[0m \u001b[31m1.4 MB/s\u001b[0m eta \u001b[36m0:00:00\u001b[0m\n",
            "\u001b[2K   \u001b[90m━━━━━━━━━━━━━━━━━━━━━━━━━━━━━━━━━━━━━━━━\u001b[0m \u001b[32m62.9/62.9 kB\u001b[0m \u001b[31m2.0 MB/s\u001b[0m eta \u001b[36m0:00:00\u001b[0m\n",
            "\u001b[2K   \u001b[90m━━━━━━━━━━━━━━━━━━━━━━━━━━━━━━━━━━━━━━━━\u001b[0m \u001b[32m437.9/437.9 kB\u001b[0m \u001b[31m19.8 MB/s\u001b[0m eta \u001b[36m0:00:00\u001b[0m\n",
            "\u001b[2K   \u001b[90m━━━━━━━━━━━━━━━━━━━━━━━━━━━━━━━━━━━━━━━━\u001b[0m \u001b[32m155.3/155.3 kB\u001b[0m \u001b[31m10.8 MB/s\u001b[0m eta \u001b[36m0:00:00\u001b[0m\n",
            "\u001b[2K   \u001b[90m━━━━━━━━━━━━━━━━━━━━━━━━━━━━━━━━━━━━━━━━\u001b[0m \u001b[32m44.2/44.2 kB\u001b[0m \u001b[31m2.6 MB/s\u001b[0m eta \u001b[36m0:00:00\u001b[0m\n",
            "\u001b[2K   \u001b[90m━━━━━━━━━━━━━━━━━━━━━━━━━━━━━━━━━━━━━━━━\u001b[0m \u001b[32m48.9/48.9 kB\u001b[0m \u001b[31m3.6 MB/s\u001b[0m eta \u001b[36m0:00:00\u001b[0m\n",
            "\u001b[2K   \u001b[90m━━━━━━━━━━━━━━━━━━━━━━━━━━━━━━━━━━━━━━━━\u001b[0m \u001b[32m223.6/223.6 kB\u001b[0m \u001b[31m8.4 MB/s\u001b[0m eta \u001b[36m0:00:00\u001b[0m\n",
            "\u001b[?25h"
          ]
        }
      ],
      "source": [
        "%pip install -q -U langchain_openai langchain_core langgraph"
      ]
    },
    {
      "cell_type": "code",
      "execution_count": 2,
      "id": "356a6482",
      "metadata": {
        "tags": [],
        "id": "356a6482"
      },
      "outputs": [],
      "source": [
        "from google.colab import userdata\n",
        "import os\n",
        "\n",
        "# Please setp your own key.\n",
        "os.environ[\"OPENAI_API_KEY\"] = userdata.get('OPENAI_API_KEY')"
      ]
    },
    {
      "cell_type": "markdown",
      "source": [
        "## Setting Up the environment"
      ],
      "metadata": {
        "id": "utFOp1eFM3tc"
      },
      "id": "utFOp1eFM3tc"
    },
    {
      "cell_type": "code",
      "source": [
        "import base64\n",
        "from typing import List, TypedDict, Annotated, Optional\n",
        "from langchain_openai import ChatOpenAI\n",
        "from langchain_core.messages import AnyMessage, SystemMessage, HumanMessage\n",
        "from langgraph.graph.message import add_messages\n",
        "from langgraph.graph import START, StateGraph\n",
        "from langgraph.prebuilt import ToolNode, tools_condition\n",
        "from IPython.display import Image, display"
      ],
      "metadata": {
        "id": "QHPog6P-M0w4"
      },
      "id": "QHPog6P-M0w4",
      "execution_count": 3,
      "outputs": []
    },
    {
      "cell_type": "markdown",
      "source": [
        "## Defining Agent's State"
      ],
      "metadata": {
        "id": "GRVvng3TM-6K"
      },
      "id": "GRVvng3TM-6K"
    },
    {
      "cell_type": "code",
      "source": [
        "class AgentState(TypedDict):\n",
        "    # The document provided\n",
        "    input_file: Optional[str]  # Contains file path (PDF/PNG)\n",
        "    messages: Annotated[list[AnyMessage], add_messages]"
      ],
      "metadata": {
        "id": "VPhZ8WSLNEDZ"
      },
      "id": "VPhZ8WSLNEDZ",
      "execution_count": 4,
      "outputs": []
    },
    {
      "cell_type": "markdown",
      "source": [
        "## Preparing Tools"
      ],
      "metadata": {
        "id": "52lcmuviNNjq"
      },
      "id": "52lcmuviNNjq"
    },
    {
      "cell_type": "code",
      "source": [
        "vision_llm = ChatOpenAI(model=\"gpt-4o\")\n",
        "\n",
        "def extract_text(img_path: str) -> str:\n",
        "    \"\"\"\n",
        "    Extract text from an image file using a multimodal model.\n",
        "\n",
        "    Master Wayne often leaves notes with his training regimen or meal plans.\n",
        "    This allows me to properly analyze the contents.\n",
        "    \"\"\"\n",
        "    all_text = \"\"\n",
        "    try:\n",
        "        # Read image and encode as base64\n",
        "        with open(img_path, \"rb\") as image_file:\n",
        "            image_bytes = image_file.read()\n",
        "\n",
        "        image_base64 = base64.b64encode(image_bytes).decode(\"utf-8\")\n",
        "\n",
        "        # Prepare the prompt including the base64 image data\n",
        "        message = [\n",
        "            HumanMessage(\n",
        "                content=[\n",
        "                    {\n",
        "                        \"type\": \"text\",\n",
        "                        \"text\": (\n",
        "                            \"Extract all the text from this image. \"\n",
        "                            \"Return only the extracted text, no explanations.\"\n",
        "                        ),\n",
        "                    },\n",
        "                    {\n",
        "                        \"type\": \"image_url\",\n",
        "                        \"image_url\": {\n",
        "                            \"url\": f\"data:image/png;base64,{image_base64}\"\n",
        "                        },\n",
        "                    },\n",
        "                ]\n",
        "            )\n",
        "        ]\n",
        "\n",
        "        # Call the vision-capable model\n",
        "        response = vision_llm.invoke(message)\n",
        "\n",
        "        # Append extracted text\n",
        "        all_text += response.content + \"\\n\\n\"\n",
        "\n",
        "        return all_text.strip()\n",
        "    except Exception as e:\n",
        "        # A butler should handle errors gracefully\n",
        "        error_msg = f\"Error extracting text: {str(e)}\"\n",
        "        print(error_msg)\n",
        "        return \"\"\n",
        "\n",
        "def divide(a: int, b: int) -> float:\n",
        "    \"\"\"Divide a and b - for Master Wayne's occasional calculations.\"\"\"\n",
        "    return a / b\n",
        "\n",
        "# Equip the butler with tools\n",
        "tools = [\n",
        "    divide,\n",
        "    extract_text\n",
        "]\n",
        "\n",
        "llm = ChatOpenAI(model=\"gpt-4o\")\n",
        "llm_with_tools = llm.bind_tools(tools, parallel_tool_calls=False)"
      ],
      "metadata": {
        "id": "cJwYNoxPNQxS"
      },
      "id": "cJwYNoxPNQxS",
      "execution_count": 5,
      "outputs": []
    },
    {
      "cell_type": "markdown",
      "source": [
        "## The nodes"
      ],
      "metadata": {
        "id": "FBvgZ5JiNizv"
      },
      "id": "FBvgZ5JiNizv"
    },
    {
      "cell_type": "code",
      "execution_count": 6,
      "id": "d061813f-ebc0-432c-91ec-3b42b15c30b6",
      "metadata": {
        "tags": [],
        "id": "d061813f-ebc0-432c-91ec-3b42b15c30b6"
      },
      "outputs": [],
      "source": [
        "def assistant(state: AgentState):\n",
        "    # System message\n",
        "    textual_description_of_tool=\"\"\"\n",
        "extract_text(img_path: str) -> str:\n",
        "    Extract text from an image file using a multimodal model.\n",
        "\n",
        "    Args:\n",
        "        img_path: A local image file path (strings).\n",
        "\n",
        "    Returns:\n",
        "        A single string containing the concatenated text extracted from each image.\n",
        "divide(a: int, b: int) -> float:\n",
        "    Divide a and b\n",
        "\"\"\"\n",
        "    image = state[\"input_file\"]\n",
        "    sys_msg = SystemMessage(content=f\"You are a helpful butler named Alfred that serves Mr. Wayne and Batman. You can analyse documents and run computations with provided tools:\\n{textual_description_of_tool} \\n You have access to some optional images. Currently the loaded image is: {image}\")\n",
        "\n",
        "    return {\n",
        "        \"messages\": [llm_with_tools.invoke([sys_msg] + state[\"messages\"])],\n",
        "        \"input_file\": state[\"input_file\"]\n",
        "    }"
      ]
    },
    {
      "cell_type": "markdown",
      "id": "4eb43343-9a6f-42cb-86e6-4380f928633c",
      "metadata": {
        "id": "4eb43343-9a6f-42cb-86e6-4380f928633c"
      },
      "source": [
        "## The ReAct Pattern: How I Assist Mr. Wayne"
      ]
    },
    {
      "cell_type": "code",
      "execution_count": 7,
      "id": "aef13cd4-05a6-4084-a620-2e7b91d9a72f",
      "metadata": {
        "tags": [],
        "id": "aef13cd4-05a6-4084-a620-2e7b91d9a72f",
        "outputId": "fd709a16-40b8-4589-d883-51d8284ec983",
        "colab": {
          "base_uri": "https://localhost:8080/",
          "height": 266
        }
      },
      "outputs": [
        {
          "output_type": "display_data",
          "data": {
            "image/png": "[encoded data removed]",
            "text/plain": [
              "<IPython.core.display.Image object>"
            ]
          },
          "metadata": {}
        }
      ],
      "source": [
        "# The graph\n",
        "builder = StateGraph(AgentState)\n",
        "\n",
        "# Define nodes: these do the work\n",
        "builder.add_node(\"assistant\", assistant)\n",
        "builder.add_node(\"tools\", ToolNode(tools))\n",
        "\n",
        "# Define edges: these determine how the control flow moves\n",
        "builder.add_edge(START, \"assistant\")\n",
        "builder.add_conditional_edges(\n",
        "    \"assistant\",\n",
        "    # If the latest message requires a tool, route to tools\n",
        "    # Otherwise, provide a direct response\n",
        "    tools_condition,\n",
        ")\n",
        "builder.add_edge(\"tools\", \"assistant\")\n",
        "react_graph = builder.compile()\n",
        "\n",
        "# Show the butler's thought process\n",
        "display(Image(react_graph.get_graph(xray=True).draw_mermaid_png()))"
      ]
    },
    {
      "cell_type": "code",
      "execution_count": 8,
      "id": "75602459-d8ca-47b4-9518-3f38343ebfe4",
      "metadata": {
        "tags": [],
        "id": "75602459-d8ca-47b4-9518-3f38343ebfe4"
      },
      "outputs": [],
      "source": [
        "messages = [HumanMessage(content=\"Divide 6790 by 5\")]\n",
        "\n",
        "messages = react_graph.invoke({\"messages\": messages,\"input_file\":None})"
      ]
    },
    {
      "cell_type": "code",
      "execution_count": 9,
      "id": "b517142d-c40c-48bf-a5b8-c8409427aa79",
      "metadata": {
        "tags": [],
        "id": "b517142d-c40c-48bf-a5b8-c8409427aa79",
        "outputId": "97ec074c-0b29-4821-e3d4-19c00a9b5f8c",
        "colab": {
          "base_uri": "https://localhost:8080/"
        }
      },
      "outputs": [
        {
          "output_type": "stream",
          "name": "stdout",
          "text": [
            "================================\u001b[1m Human Message \u001b[0m=================================\n",
            "\n",
            "Divide 6790 by 5\n",
            "==================================\u001b[1m Ai Message \u001b[0m==================================\n",
            "Tool Calls:\n",
            "  divide (call_MYZRJ1u97ZFbiSM3DUg1d5Yw)\n",
            " Call ID: call_MYZRJ1u97ZFbiSM3DUg1d5Yw\n",
            "  Args:\n",
            "    a: 6790\n",
            "    b: 5\n",
            "=================================\u001b[1m Tool Message \u001b[0m=================================\n",
            "Name: divide\n",
            "\n",
            "1358.0\n",
            "==================================\u001b[1m Ai Message \u001b[0m==================================\n",
            "\n",
            "The result of dividing 6790 by 5 is 1358.0.\n"
          ]
        }
      ],
      "source": [
        "for m in messages['messages']:\n",
        "    m.pretty_print()"
      ]
    },
    {
      "cell_type": "markdown",
      "id": "08386393-c270-43a5-bde2-2b4075238971",
      "metadata": {
        "id": "08386393-c270-43a5-bde2-2b4075238971"
      },
      "source": [
        "## Training program\n",
        "MR Wayne left a note with his training program for the week. I came up with a recipe for dinner leaft in a note.\n",
        "\n",
        "you can find the document [HERE](https://huggingface.co/datasets/agents-course/course-images/blob/main/en/unit2/LangGraph/Batman_training_and_meals.png), so download it and upload it in the local folder.\n",
        "\n",
        "![Training](https://huggingface.co/datasets/agents-course/course-images/resolve/main/en/unit2/LangGraph/Batman_training_and_meals.png)"
      ]
    },
    {
      "cell_type": "code",
      "execution_count": 10,
      "id": "f6e97e84-3b05-4aaf-a38f-1de9b73cd37f",
      "metadata": {
        "tags": [],
        "id": "f6e97e84-3b05-4aaf-a38f-1de9b73cd37f"
      },
      "outputs": [],
      "source": [
        "messages = [HumanMessage(content=\"According the note provided by MR wayne in the provided images. What's the list of items I should buy for the dinner menu ?\")]\n",
        "\n",
        "messages = react_graph.invoke({\"messages\": messages,\"input_file\":\"/tmp/Batman_training_and_meals.png\"})"
      ]
    },
    {
      "cell_type": "code",
      "execution_count": 11,
      "id": "17686d52-c7ba-407b-a13f-f6c37668e5b0",
      "metadata": {
        "tags": [],
        "id": "17686d52-c7ba-407b-a13f-f6c37668e5b0",
        "outputId": "ce093b9d-98ca-451b-e7d8-503f1f7d9179",
        "colab": {
          "base_uri": "https://localhost:8080/"
        }
      },
      "outputs": [
        {
          "output_type": "stream",
          "name": "stdout",
          "text": [
            "================================\u001b[1m Human Message \u001b[0m=================================\n",
            "\n",
            "According the note provided by MR wayne in the provided images. What's the list of items I should buy for the dinner menu ?\n",
            "==================================\u001b[1m Ai Message \u001b[0m==================================\n",
            "Tool Calls:\n",
            "  extract_text (call_HoD2hbpJjPg8Xz0kS9d9TEGc)\n",
            " Call ID: call_HoD2hbpJjPg8Xz0kS9d9TEGc\n",
            "  Args:\n",
            "    img_path: /tmp/Batman_training_and_meals.png\n",
            "=================================\u001b[1m Tool Message \u001b[0m=================================\n",
            "Name: extract_text\n",
            "\n",
            "TRAINING SCHEDULE \n",
            "For the week of 2/20-2/26 \n",
            "\n",
            "SUNDAY 2/20 \n",
            "MORNING \n",
            "30 minute jog \n",
            "30 minute mediation \n",
            "\n",
            "EVENING \n",
            "clean and jerk lifts—3 reps/8 sets. 262 lbs. \n",
            "5 sets metabolic conditioning: \n",
            "50 meter swim \n",
            "12 kettlebell swings \n",
            "12 pull-ups \n",
            "30 minutes flexibility \n",
            "30 minutes sparring \n",
            "\n",
            "MONDAY 2/21 \n",
            "MORNING \n",
            "30 minute jog \n",
            "30 minutes traditional kata (focus on Japanese forms) \n",
            "\n",
            "EVENING \n",
            "5 sets 20 foot rope climb \n",
            "30 minutes gymnastics (work on muscle ups in particular) \n",
            "bunch/log jump—12 reps/8 sets \n",
            "30 minutes heavy bag \n",
            "30 minutes flexibility \n",
            "30 minutes target practice \n",
            "\n",
            "TUESDAY 2/22 \n",
            "MORNING \n",
            "30 minute jog \n",
            "30 minutes yoga \n",
            "\n",
            "EVENING \n",
            "leg day \n",
            "heavy deadlift—5 reps/7 sets, 620 lbs. \n",
            "60 lb incline dumb lift—30 reps \n",
            "30 minutes sparring \n",
            "\n",
            "WEDNESDAY 2/23 \n",
            "OFF DAY \n",
            "MORNING \n",
            "20-mile run—Last week’s time was 4:50 per mile. \n",
            "Need to better that time by a half a minute. \n",
            "\n",
            "EVENING \n",
            "skill training \n",
            "30 minute dodge \n",
            "30 minutes acrobatics \n",
            "30 minutes body basics \n",
            "30 minutes flexibility \n",
            "30 minutes meditation \n",
            "30 minutes upside down \n",
            "30 minutes endorphin energy \n",
            "60 minutes nodal points and pressure points \n",
            "\n",
            "THURSDAY 2/24 \n",
            "MORNING \n",
            "30 minute jog \n",
            "3o minutes \n",
            "30 minutes (traditional kata) \n",
            "\n",
            "EVENING \n",
            "squats—5 reps/10 sets, 525 lbs. \n",
            "weightless dumb squirts \n",
            "30 minutes flexibility \n",
            "30 crunches—50 reps/5 sets \n",
            "\n",
            "20 minutes target practice \n",
            "30 minutes heavy bag \n",
            "\n",
            "FRIDAY 2/25 \n",
            "MORNING \n",
            "30 minute jog \n",
            "30 minute meditation \n",
            "\n",
            "EVENING \n",
            "clean and jerk lifts—3 reps/8 sets. 262 lbs. \n",
            "5 sets metabolic conditioning: \n",
            "50 meter swim \n",
            "12 kettlebell swings \n",
            "12 pull-ups \n",
            "30 minutes flexibility \n",
            "30 minutes sparring \n",
            "\n",
            "SATURDAY 2/26 \n",
            "MORNING \n",
            "30 minute jog \n",
            "30 minutes yoga \n",
            "\n",
            "EVENING \n",
            "crunches—50 reps/5 sets \n",
            "squats—(50 reps/10 sets, 525 lbs. \n",
            "60 push-ups—50 reps/sets \n",
            "30 minutes monkey bars \n",
            "60 minute pommel horse \n",
            "30 minutes heavy bag \n",
            "2 mile swim \n",
            "\n",
            "In an effort to inspire the all-important Dark Knight to take time out of his busy schedule and actually consume a reasonable amount of sustenance, I have taken the liberty of composing a menu for today’s scheduled meals. It is my high hope that these diligently prepared courses will not share the fate of their predecessors: racing cold and untouched on a ceramic counter. \n",
            "-A \n",
            "\n",
            "Wayne Manor \n",
            "\n",
            "Tuesday’s Menu \n",
            "\n",
            "Breakfast \n",
            "six poached eggs laid over artichoke bottoms with a sage pesto sauce \n",
            "thinly sliced baked ham \n",
            "mixed organic fresh fruit bowl \n",
            "freshly squeezed orange juice \n",
            "organic, grass-fed milk \n",
            "4 grams branched-chain amino acid \n",
            "2 grams fish oil \n",
            "\n",
            "Lunch \n",
            "local salmon with a ginger glaze \n",
            "organic asparagus with lemon garlic dusting \n",
            "Asian yam soup with diced onions \n",
            "2 grams fish oil \n",
            "\n",
            "Dinner \n",
            "grass-fed local sirloin steak \n",
            "bed of organic spinach and piquillo peppers \n",
            "oven-baked golden herb potato \n",
            "2 grams fish oil\n",
            "==================================\u001b[1m Ai Message \u001b[0m==================================\n",
            "\n",
            "The items needed for the dinner menu according to Mr. Wayne's note are:\n",
            "\n",
            "- Grass-fed local sirloin steak\n",
            "- Organic spinach\n",
            "- Piquillo peppers\n",
            "- Oven-baked golden herb potato\n",
            "- Fish oil (2 grams)\n"
          ]
        }
      ],
      "source": [
        "for m in messages['messages']:\n",
        "    m.pretty_print()"
      ]
    },
    {
      "cell_type": "code",
      "execution_count": null,
      "id": "b96c8456-4093-4cd6-bc5a-f611967ab709",
      "metadata": {
        "id": "b96c8456-4093-4cd6-bc5a-f611967ab709"
      },
      "outputs": [],
      "source": []
    }
  ],
  "metadata": {
    "kernelspec": {
      "display_name": "Python 3 (ipykernel)",
      "language": "python",
      "name": "python3"
    },
    "language_info": {
      "codemirror_mode": {
        "name": "ipython",
        "version": 3
      },
      "file_extension": ".py",
      "mimetype": "text/x-python",
      "name": "python",
      "nbconvert_exporter": "python",
      "pygments_lexer": "ipython3",
      "version": "3.9.5"
    },
    "colab": {
      "provenance": [],
      "include_colab_link": true
    }
  },
  "nbformat": 4,
  "nbformat_minor": 5
}