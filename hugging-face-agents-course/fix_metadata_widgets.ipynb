{
 "cells": [
  {
   "cell_type": "markdown",
   "id": "94baeb0f-d358-4635-920b-e0e9493a3db5",
   "metadata": {},
   "source": [
    "![GitHub Invalid Notebook error](images/invalid-notebook-github.png)"
   ]
  },
  {
   "cell_type": "code",
   "execution_count": 1,
   "id": "6cc89905-71b4-4747-85f0-29fa4f9b9e98",
   "metadata": {},
   "outputs": [],
   "source": [
    "import nbformat"
   ]
  },
  {
   "cell_type": "code",
   "execution_count": 6,
   "id": "a19f56b5-ef01-481b-ad3c-5caa682ac75a",
   "metadata": {},
   "outputs": [],
   "source": [
    "notebook_path = \"tool_calling_agents.ipynb\""
   ]
  },
  {
   "cell_type": "code",
   "execution_count": 7,
   "id": "50895878-1523-4735-9484-0d401f48bfbb",
   "metadata": {},
   "outputs": [],
   "source": [
    "# Load the notebook\n",
    "with open(notebook_path, \"r\", encoding=\"utf-8\") as f:\n",
    "    nb = nbformat.read(f, as_version=4)"
   ]
  },
  {
   "cell_type": "code",
   "execution_count": 8,
   "id": "1df4177b-987d-4d5e-8c8d-1194be6a6fe0",
   "metadata": {},
   "outputs": [],
   "source": [
    "# Remove problematic metadata\n",
    "if \"widgets\" in nb[\"metadata\"]:\n",
    "    del nb[\"metadata\"][\"widgets\"]"
   ]
  },
  {
   "cell_type": "code",
   "execution_count": 9,
   "id": "612bbf52-778e-4751-871e-c160b6f51acb",
   "metadata": {},
   "outputs": [
    {
     "name": "stdout",
     "output_type": "stream",
     "text": [
      "Cleaned notebook saved as 'cleaned_tool_calling_agents.ipynb'\n"
     ]
    }
   ],
   "source": [
    "# Save the cleaned notebook\n",
    "with open(f\"cleaned_{notebook_path}\", \"w\", encoding=\"utf-8\") as f:\n",
    "    nbformat.write(nb, f)\n",
    "\n",
    "print(f\"Cleaned notebook saved as 'cleaned_{notebook_path}'\")"
   ]
  }
 ],
 "metadata": {
  "kernelspec": {
   "display_name": "Python 3 (ipykernel)",
   "language": "python",
   "name": "python3"
  },
  "language_info": {
   "codemirror_mode": {
    "name": "ipython",
    "version": 3
   },
   "file_extension": ".py",
   "mimetype": "text/x-python",
   "name": "python",
   "nbconvert_exporter": "python",
   "pygments_lexer": "ipython3",
   "version": "3.12.2"
  }
 },
 "nbformat": 4,
 "nbformat_minor": 5
}
