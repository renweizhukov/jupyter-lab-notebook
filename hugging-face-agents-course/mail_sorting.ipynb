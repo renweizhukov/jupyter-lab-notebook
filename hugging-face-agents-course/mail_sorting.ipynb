{
  "cells": [
    {
      "cell_type": "markdown",
      "metadata": {
        "id": "view-in-github",
        "colab_type": "text"
      },
      "source": [
        "<a href=\"https://colab.research.google.com/github/renweizhukov/jupyter-lab-notebook/blob/main/hugging-face-agents-course/mail_sorting.ipynb\" target=\"_parent\"><img src=\"https://colab.research.google.com/assets/colab-badge.svg\" alt=\"Open In Colab\"/></a>"
      ]
    },
    {
      "cell_type": "markdown",
      "metadata": {
        "id": "pHq0Om-Qy5MW"
      },
      "source": [
        "# Alfred the Mail Sorting Butler: A LangGraph Example\n",
        "\n",
        "In this notebook, **we're going to build a complete email processing workflow using LangGraph**.\n",
        "\n",
        "This notebook is part of the <a href=\"https://www.hf.co/learn/agents-course\">Hugging Face Agents Course</a>, a free course from beginner to expert, where you learn to build Agents.\n",
        "\n",
        "![Agents course share](https://huggingface.co/datasets/agents-course/course-images/resolve/main/en/communication/share.png)\n",
        "\n",
        "## What You'll Learn\n",
        "\n",
        "In this notebook, you'll learn how to:\n",
        "1. Set up a LangGraph workflow\n",
        "2. Define state and nodes for email processing\n",
        "3. Create conditional branching in a graph\n",
        "4. Connect an LLM for classification and content generation\n",
        "5. Visualize the workflow graph\n",
        "6. Execute the workflow with example data"
      ]
    },
    {
      "cell_type": "code",
      "execution_count": 1,
      "metadata": {
        "id": "tTTsX-l_y5MY",
        "outputId": "28c19b75-5007-423d-cc4f-78faed2e5ebf",
        "colab": {
          "base_uri": "https://localhost:8080/"
        }
      },
      "outputs": [
        {
          "output_type": "stream",
          "name": "stdout",
          "text": [
            "\u001b[2K     \u001b[90m━━━━━━━━━━━━━━━━━━━━━━━━━━━━━━━━━━━━━━━━\u001b[0m \u001b[32m43.5/43.5 kB\u001b[0m \u001b[31m3.2 MB/s\u001b[0m eta \u001b[36m0:00:00\u001b[0m\n",
            "\u001b[2K   \u001b[90m━━━━━━━━━━━━━━━━━━━━━━━━━━━━━━━━━━━━━━━━\u001b[0m \u001b[32m155.3/155.3 kB\u001b[0m \u001b[31m11.9 MB/s\u001b[0m eta \u001b[36m0:00:00\u001b[0m\n",
            "\u001b[2K   \u001b[90m━━━━━━━━━━━━━━━━━━━━━━━━━━━━━━━━━━━━━━━━\u001b[0m \u001b[32m62.9/62.9 kB\u001b[0m \u001b[31m4.9 MB/s\u001b[0m eta \u001b[36m0:00:00\u001b[0m\n",
            "\u001b[2K   \u001b[90m━━━━━━━━━━━━━━━━━━━━━━━━━━━━━━━━━━━━━━━━\u001b[0m \u001b[32m44.2/44.2 kB\u001b[0m \u001b[31m3.0 MB/s\u001b[0m eta \u001b[36m0:00:00\u001b[0m\n",
            "\u001b[2K   \u001b[90m━━━━━━━━━━━━━━━━━━━━━━━━━━━━━━━━━━━━━━━━\u001b[0m \u001b[32m48.9/48.9 kB\u001b[0m \u001b[31m3.6 MB/s\u001b[0m eta \u001b[36m0:00:00\u001b[0m\n",
            "\u001b[2K   \u001b[90m━━━━━━━━━━━━━━━━━━━━━━━━━━━━━━━━━━━━━━━━\u001b[0m \u001b[32m223.6/223.6 kB\u001b[0m \u001b[31m16.8 MB/s\u001b[0m eta \u001b[36m0:00:00\u001b[0m\n",
            "\u001b[2K   \u001b[90m━━━━━━━━━━━━━━━━━━━━━━━━━━━━━━━━━━━━━━━━\u001b[0m \u001b[32m363.4/363.4 MB\u001b[0m \u001b[31m4.1 MB/s\u001b[0m eta \u001b[36m0:00:00\u001b[0m\n",
            "\u001b[2K   \u001b[90m━━━━━━━━━━━━━━━━━━━━━━━━━━━━━━━━━━━━━━━━\u001b[0m \u001b[32m13.8/13.8 MB\u001b[0m \u001b[31m93.6 MB/s\u001b[0m eta \u001b[36m0:00:00\u001b[0m\n",
            "\u001b[2K   \u001b[90m━━━━━━━━━━━━━━━━━━━━━━━━━━━━━━━━━━━━━━━━\u001b[0m \u001b[32m24.6/24.6 MB\u001b[0m \u001b[31m78.6 MB/s\u001b[0m eta \u001b[36m0:00:00\u001b[0m\n",
            "\u001b[2K   \u001b[90m━━━━━━━━━━━━━━━━━━━━━━━━━━━━━━━━━━━━━━━━\u001b[0m \u001b[32m883.7/883.7 kB\u001b[0m \u001b[31m45.8 MB/s\u001b[0m eta \u001b[36m0:00:00\u001b[0m\n",
            "\u001b[2K   \u001b[90m━━━━━━━━━━━━━━━━━━━━━━━━━━━━━━━━━━━━━━━━\u001b[0m \u001b[32m664.8/664.8 MB\u001b[0m \u001b[31m2.9 MB/s\u001b[0m eta \u001b[36m0:00:00\u001b[0m\n",
            "\u001b[2K   \u001b[90m━━━━━━━━━━━━━━━━━━━━━━━━━━━━━━━━━━━━━━━━\u001b[0m \u001b[32m211.5/211.5 MB\u001b[0m \u001b[31m5.4 MB/s\u001b[0m eta \u001b[36m0:00:00\u001b[0m\n",
            "\u001b[2K   \u001b[90m━━━━━━━━━━━━━━━━━━━━━━━━━━━━━━━━━━━━━━━━\u001b[0m \u001b[32m56.3/56.3 MB\u001b[0m \u001b[31m12.7 MB/s\u001b[0m eta \u001b[36m0:00:00\u001b[0m\n",
            "\u001b[2K   \u001b[90m━━━━━━━━━━━━━━━━━━━━━━━━━━━━━━━━━━━━━━━━\u001b[0m \u001b[32m127.9/127.9 MB\u001b[0m \u001b[31m7.4 MB/s\u001b[0m eta \u001b[36m0:00:00\u001b[0m\n",
            "\u001b[2K   \u001b[90m━━━━━━━━━━━━━━━━━━━━━━━━━━━━━━━━━━━━━━━━\u001b[0m \u001b[32m207.5/207.5 MB\u001b[0m \u001b[31m5.8 MB/s\u001b[0m eta \u001b[36m0:00:00\u001b[0m\n",
            "\u001b[2K   \u001b[90m━━━━━━━━━━━━━━━━━━━━━━━━━━━━━━━━━━━━━━━━\u001b[0m \u001b[32m21.1/21.1 MB\u001b[0m \u001b[31m69.8 MB/s\u001b[0m eta \u001b[36m0:00:00\u001b[0m\n",
            "\u001b[?25h"
          ]
        }
      ],
      "source": [
        "# Install the required packages\n",
        "%pip install -q langgraph langchain_openai langchain_huggingface"
      ]
    },
    {
      "cell_type": "markdown",
      "metadata": {
        "id": "HWFIl0Hoy5MZ"
      },
      "source": [
        "## Setting Up Our Environment\n",
        "\n",
        "First, let's import all the necessary libraries. LangGraph provides the graph structure, while LangChain offers convenient interfaces for working with LLMs."
      ]
    },
    {
      "cell_type": "code",
      "execution_count": 2,
      "metadata": {
        "id": "I6lTnodfy5MZ"
      },
      "outputs": [],
      "source": [
        "import os\n",
        "from google.colab import userdata\n",
        "from typing import TypedDict, List, Dict, Any, Optional\n",
        "from langgraph.graph import StateGraph, END\n",
        "from langchain_openai import ChatOpenAI\n",
        "from langchain_core.messages import HumanMessage, AIMessage\n",
        "\n",
        "# Set your OpenAI API key here\n",
        "os.environ[\"OPENAI_API_KEY\"] = userdata.get(\"OPENAI_API_KEY\")  # Replace with your actual API key"
      ]
    },
    {
      "cell_type": "markdown",
      "metadata": {
        "id": "GmKyNi2xy5MZ"
      },
      "source": [
        "## Step 1: Define Our State\n",
        "\n",
        "In LangGraph, **State** is the central concept. It represents all the information that flows through our workflow.\n",
        "\n",
        "For Alfred's email processing system, we need to track:\n",
        "- The email being processed\n",
        "- Whether it's spam or not\n",
        "- The draft response (for legitimate emails)\n",
        "- Conversation history with the LLM"
      ]
    },
    {
      "cell_type": "code",
      "execution_count": 4,
      "metadata": {
        "id": "DhlMV44Wy5MZ"
      },
      "outputs": [],
      "source": [
        "class EmailState(TypedDict):\n",
        "    # The email being processed\n",
        "    email: Dict[str, Any]  # Contains subject, sender, body, etc.\n",
        "\n",
        "    # Category of the email (inquiry, complaint, etc.)\n",
        "    email_category: Optional[str]\n",
        "\n",
        "    # Reason why the email was marked as spam\n",
        "    spam_reason: Optional[str]\n",
        "\n",
        "    # Analysis and decisions\n",
        "    is_spam: Optional[bool]\n",
        "\n",
        "    # Response generation\n",
        "    email_draft: Optional[str]\n",
        "\n",
        "    # Processing metadata\n",
        "    messages: List[Dict[str, Any]]  # Track conversation with LLM for analysis"
      ]
    },
    {
      "cell_type": "markdown",
      "metadata": {
        "id": "EXsfzQ7by5Ma"
      },
      "source": [
        "## Step 2: Define Our Nodes"
      ]
    },
    {
      "cell_type": "code",
      "execution_count": 9,
      "metadata": {
        "id": "LxMgJbsyy5Ma",
        "outputId": "cf7417a1-95e7-4aed-926b-d0db961360b9",
        "colab": {
          "base_uri": "https://localhost:8080/"
        }
      },
      "outputs": [
        {
          "output_type": "execute_result",
          "data": {
            "text/plain": [
              "<langgraph.graph.state.StateGraph at 0x7f00c9a77550>"
            ]
          },
          "metadata": {},
          "execution_count": 9
        }
      ],
      "source": [
        "import os\n",
        "from typing import TypedDict, List, Dict, Any, Optional\n",
        "from langgraph.graph import StateGraph, START, END\n",
        "from langchain_openai import ChatOpenAI\n",
        "from langchain_core.messages import HumanMessage, AIMessage\n",
        "from langchain_huggingface import ChatHuggingFace, HuggingFaceEndpoint\n",
        "\n",
        "\n",
        "# Initialize LLM\n",
        "model = ChatOpenAI(model=\"gpt-4o\", temperature=0)\n",
        "\n",
        "\n",
        "# Define nodes\n",
        "def read_email(state: EmailState):\n",
        "    email = state[\"email\"]\n",
        "    print(f\"Alfred is processing an email from {email['sender']} with subject: {email['subject']}\")\n",
        "    return {}\n",
        "\n",
        "def classify_email(state: EmailState):\n",
        "    email = state[\"email\"]\n",
        "\n",
        "    prompt = f\"\"\"\n",
        "    As Alfred the butler, analyze this email and determine if it is spam or legitimate.\n",
        "\n",
        "    Email:\n",
        "    From: {email['sender']}\n",
        "    Subject: {email['subject']}\n",
        "    Body: {email['body']}\n",
        "\n",
        "    First, determine if this email is spam. If it is spam, explain why.\n",
        "    If it is legitimate, categorize it (inquiry, complaint, thank you, etc.).\n",
        "    \"\"\"\n",
        "    # Call the LLM\n",
        "    messages = [HumanMessage(content=prompt)]\n",
        "    response = model.invoke(messages)\n",
        "\n",
        "    # Simple logic to parse the response (in a real app, you'd want more robust parsing)\n",
        "    response_text = response.content.lower()\n",
        "    is_spam = \"spam\" in response_text and \"not spam\" not in response_text\n",
        "\n",
        "    # Extract a reason if it's spam\n",
        "    spam_reason = None\n",
        "    if is_spam and \"reason:\" in response_text:\n",
        "        spam_reason = response_text.split(\"reason:\")[1].strip()\n",
        "\n",
        "    # Determine category if legitimate\n",
        "    email_category = None\n",
        "    if not is_spam:\n",
        "        categories = [\"inquiry\", \"complaint\", \"thank you\", \"request\", \"information\"]\n",
        "        for category in categories:\n",
        "            if category in response_text:\n",
        "                email_category = category\n",
        "                break\n",
        "\n",
        "    # Update messages for tracking\n",
        "    new_messages = state.get(\"messages\", []) + [\n",
        "        {\"role\": \"user\", \"content\": prompt},\n",
        "        {\"role\": \"assistant\", \"content\": response.content}\n",
        "    ]\n",
        "\n",
        "    # Return state updates\n",
        "    return {\n",
        "        \"is_spam\": is_spam,\n",
        "        \"spam_reason\": spam_reason,\n",
        "        \"email_category\": email_category,\n",
        "        \"messages\": new_messages\n",
        "    }\n",
        "\n",
        "def handle_spam(state: EmailState):\n",
        "    \"\"\"Alfred discards spam email with a note\"\"\"\n",
        "    print(f\"Alfred has marked the email as spam. Reason: {state['spam_reason']}\")\n",
        "    print(\"The email has been moved to the spam folder.\")\n",
        "\n",
        "    return {}\n",
        "\n",
        "def draft_response(state: EmailState):\n",
        "    email = state[\"email\"]\n",
        "    category = state[\"email_category\"] or \"general\"\n",
        "\n",
        "    prompt = f\"\"\"\n",
        "    As Alfred the butler, draft a polite preliminary response to this email.\n",
        "\n",
        "    Email:\n",
        "    From: {email['sender']}\n",
        "    Subject: {email['subject']}\n",
        "    Body: {email['body']}\n",
        "\n",
        "    This email has been categorized as: {category}\n",
        "\n",
        "    Draft a brief, professional response that Mr. Hugg can review and personalize before sending.\n",
        "    \"\"\"\n",
        "\n",
        "    messages = [HumanMessage(content=prompt)]\n",
        "    response = model.invoke(messages)\n",
        "\n",
        "    new_messages = state.get(\"messages\", []) + [\n",
        "        {\"role\": \"user\", \"content\": prompt},\n",
        "        {\"role\": \"assistant\", \"content\": response.content}\n",
        "    ]\n",
        "\n",
        "    return {\n",
        "        \"email_draft\": response.content,\n",
        "        \"messages\": new_messages\n",
        "    }\n",
        "\n",
        "def notify_mr_hugg(state: EmailState):\n",
        "    \"\"\"Alfred notifies Mr. Hugg about the email and presents the draft response\"\"\"\n",
        "    email = state[\"email\"]\n",
        "\n",
        "    print(\"\\n\" + \"=\"*50)\n",
        "    print(f\"Sir, you've received an email from {email['sender']}.\")\n",
        "    print(f\"Subject: {email['subject']}\")\n",
        "    print(f\"Category: {state['email_category']}\")\n",
        "    print(\"\\nI've prepared a draft response for your review:\")\n",
        "    print(\"-\"*50)\n",
        "    print(state[\"email_draft\"])\n",
        "    print(\"=\"*50 + \"\\n\")\n",
        "\n",
        "    return {}\n",
        "\n",
        "# Define routing logic\n",
        "def route_email(state: EmailState) -> str:\n",
        "    if state[\"is_spam\"]:\n",
        "        return \"spam\"\n",
        "    else:\n",
        "        return \"legitimate\"\n",
        "\n",
        "# Create the graph\n",
        "email_graph = StateGraph(EmailState)\n",
        "\n",
        "# Add nodes\n",
        "email_graph.add_node(\"read_email\", read_email) # the read_email node executes the read_mail function\n",
        "email_graph.add_node(\"classify_email\", classify_email) # the classify_email node will execute the classify_email function\n",
        "email_graph.add_node(\"handle_spam\", handle_spam) #same logic\n",
        "email_graph.add_node(\"draft_response\", draft_response) #same logic\n",
        "email_graph.add_node(\"notify_mr_hugg\", notify_mr_hugg) # same logic\n"
      ]
    },
    {
      "cell_type": "markdown",
      "metadata": {
        "id": "t8VFz2XLy5Ma"
      },
      "source": [
        "## Step 3: Define Our Routing Logic"
      ]
    },
    {
      "cell_type": "code",
      "execution_count": 10,
      "metadata": {
        "id": "VGgoyPeWy5Ma",
        "outputId": "03471d39-31b7-46be-9bc5-1a21b1663e75",
        "colab": {
          "base_uri": "https://localhost:8080/"
        }
      },
      "outputs": [
        {
          "output_type": "execute_result",
          "data": {
            "text/plain": [
              "<langgraph.graph.state.StateGraph at 0x7f00c9a77550>"
            ]
          },
          "metadata": {},
          "execution_count": 10
        }
      ],
      "source": [
        "# Add edges\n",
        "email_graph.add_edge(START, \"read_email\") # After starting we go to the \"read_email\" node\n",
        "\n",
        "email_graph.add_edge(\"read_email\", \"classify_email\") # after_reading we classify\n",
        "\n",
        "# Add conditional edges\n",
        "email_graph.add_conditional_edges(\n",
        "    \"classify_email\", # after classify, we run the \"route_email\" function\"\n",
        "    route_email,\n",
        "    {\n",
        "        \"spam\": \"handle_spam\", # if it return \"Spam\", we go the \"handle_span\" node\n",
        "        \"legitimate\": \"draft_response\" # and if it's legitimate, we go to the \"drafting response\" node\n",
        "    }\n",
        ")\n",
        "\n",
        "# Add final edges\n",
        "email_graph.add_edge(\"handle_spam\", END) # after handling spam we always end\n",
        "email_graph.add_edge(\"draft_response\", \"notify_mr_hugg\")\n",
        "email_graph.add_edge(\"notify_mr_hugg\", END) # after notifyinf Me wayne, we can end  too\n"
      ]
    },
    {
      "cell_type": "markdown",
      "metadata": {
        "id": "rOpoZG8iy5Mc"
      },
      "source": [
        "## Step 4: Create the StateGraph and Define Edges"
      ]
    },
    {
      "cell_type": "code",
      "execution_count": 11,
      "metadata": {
        "id": "Lp9VhvL3y5Mc"
      },
      "outputs": [],
      "source": [
        "# Compile the graph\n",
        "compiled_graph = email_graph.compile()"
      ]
    },
    {
      "cell_type": "code",
      "execution_count": 12,
      "metadata": {
        "id": "9WMlWUUqy5Mc",
        "outputId": "8ff918d1-c523-49bb-d97c-baf51c61cdbb",
        "colab": {
          "base_uri": "https://localhost:8080/",
          "height": 572
        }
      },
      "outputs": [
        {
          "output_type": "display_data",
          "data": {
            "image/png": "[encoded data removed]",
            "text/plain": [
              "<IPython.core.display.Image object>"
            ]
          },
          "metadata": {}
        }
      ],
      "source": [
        "from IPython.display import Image, display\n",
        "\n",
        "display(Image(compiled_graph.get_graph().draw_mermaid_png()))"
      ]
    },
    {
      "cell_type": "markdown",
      "source": [
        "## Step 5: Run the Application"
      ],
      "metadata": {
        "id": "Sa1kr6qVG1rd"
      }
    },
    {
      "cell_type": "code",
      "execution_count": 14,
      "metadata": {
        "id": "QrFMz0xsy5Mc",
        "outputId": "28607f98-47fd-4402-b896-6b85336df988",
        "colab": {
          "base_uri": "https://localhost:8080/"
        }
      },
      "outputs": [
        {
          "output_type": "stream",
          "name": "stdout",
          "text": [
            "\n",
            "Processing legitimate email...\n",
            "Alfred is processing an email from john.smith@example.com with subject: Question about your services\n",
            "\n",
            "==================================================\n",
            "Sir, you've received an email from john.smith@example.com.\n",
            "Subject: Question about your services\n",
            "Category: inquiry\n",
            "\n",
            "I've prepared a draft response for your review:\n",
            "--------------------------------------------------\n",
            "Subject: Re: Question about our services\n",
            "\n",
            "Dear Mr. Smith,\n",
            "\n",
            "Thank you for reaching out and for your interest in our consulting services. We would be delighted to discuss how we can assist you. I will coordinate with Mr. Hugg to find a convenient time for a call next week. Please let us know your availability, and we will do our best to accommodate.\n",
            "\n",
            "Best regards,\n",
            "\n",
            "Alfred  \n",
            "Assistant to Mr. Hugg\n",
            "==================================================\n",
            "\n",
            "\n",
            "Processing spam email...\n",
            "Alfred is processing an email from winner@lottery-intl.com with subject: YOU HAVE WON $5,000,000!!!\n",
            "Alfred has marked the email as spam. Reason: None\n",
            "The email has been moved to the spam folder.\n"
          ]
        }
      ],
      "source": [
        " # Example emails for testing\n",
        "legitimate_email = {\n",
        "    \"sender\": \"john.smith@example.com\",\n",
        "    \"subject\": \"Question about your services\",\n",
        "    \"body\": \"Dear Mr. Hugg, I was referred to you by a colleague and I'm interested in learning more about your consulting services. Could we schedule a call next week? Best regards, John Smith\"\n",
        "}\n",
        "\n",
        "spam_email = {\n",
        "    \"sender\": \"winner@lottery-intl.com\",\n",
        "    \"subject\": \"YOU HAVE WON $5,000,000!!!\",\n",
        "    \"body\": \"CONGRATULATIONS! You have been selected as the winner of our international lottery! To claim your $5,000,000 prize, please send us your bank details and a processing fee of $100.\"\n",
        "}\n",
        "\n",
        "# Process legitimate email\n",
        "print(\"\\nProcessing legitimate email...\")\n",
        "legitimate_result = compiled_graph.invoke({\n",
        "    \"email\": legitimate_email,\n",
        "    \"is_spam\": None,\n",
        "    \"spam_reason\": None,\n",
        "    \"email_category\": None,\n",
        "    \"email_draft\": None,\n",
        "    \"messages\": []\n",
        "})\n",
        "\n",
        "# Process spam email\n",
        "print(\"\\nProcessing spam email...\")\n",
        "spam_result = compiled_graph.invoke({\n",
        "    \"email\": spam_email,\n",
        "    \"is_spam\": None,\n",
        "    \"spam_reason\": None,\n",
        "    \"email_category\": None,\n",
        "    \"email_draft\": None,\n",
        "    \"messages\": []\n",
        "})"
      ]
    },
    {
      "cell_type": "markdown",
      "source": [
        "## Step 6: Inspecting Our Mail Sorting Agent with Langfuse"
      ],
      "metadata": {
        "id": "Jw_ctzj6G7O5"
      }
    },
    {
      "cell_type": "code",
      "execution_count": 19,
      "metadata": {
        "id": "Zp3EtP2Ay5Mc",
        "outputId": "45a9cb9f-acd0-42c1-f190-3b3ce55734a7",
        "colab": {
          "base_uri": "https://localhost:8080/"
        }
      },
      "outputs": [
        {
          "output_type": "stream",
          "name": "stdout",
          "text": [
            "\u001b[?25l   \u001b[90m━━━━━━━━━━━━━━━━━━━━━━━━━━━━━━━━━━━━━━━━\u001b[0m \u001b[32m0.0/275.4 kB\u001b[0m \u001b[31m?\u001b[0m eta \u001b[36m-:--:--\u001b[0m\r\u001b[2K   \u001b[90m━━━━━━━━━━━━━━━━━━━━━━━━━━━━━━━━━━━━━━━━\u001b[0m \u001b[32m275.4/275.4 kB\u001b[0m \u001b[31m17.8 MB/s\u001b[0m eta \u001b[36m0:00:00\u001b[0m\n",
            "\u001b[?25h"
          ]
        }
      ],
      "source": [
        "%pip install -q langfuse"
      ]
    },
    {
      "cell_type": "code",
      "source": [
        "%pip install langchain"
      ],
      "metadata": {
        "id": "zkc0vTzVHExY",
        "outputId": "feaf3617-204d-44a2-b47a-cc8db6dbef46",
        "colab": {
          "base_uri": "https://localhost:8080/"
        }
      },
      "execution_count": 20,
      "outputs": [
        {
          "output_type": "stream",
          "name": "stdout",
          "text": [
            "Requirement already satisfied: langchain in /usr/local/lib/python3.11/dist-packages (0.3.25)\n",
            "Requirement already satisfied: langchain-core<1.0.0,>=0.3.58 in /usr/local/lib/python3.11/dist-packages (from langchain) (0.3.59)\n",
            "Requirement already satisfied: langchain-text-splitters<1.0.0,>=0.3.8 in /usr/local/lib/python3.11/dist-packages (from langchain) (0.3.8)\n",
            "Requirement already satisfied: langsmith<0.4,>=0.1.17 in /usr/local/lib/python3.11/dist-packages (from langchain) (0.3.42)\n",
            "Requirement already satisfied: pydantic<3.0.0,>=2.7.4 in /usr/local/lib/python3.11/dist-packages (from langchain) (2.11.4)\n",
            "Requirement already satisfied: SQLAlchemy<3,>=1.4 in /usr/local/lib/python3.11/dist-packages (from langchain) (2.0.40)\n",
            "Requirement already satisfied: requests<3,>=2 in /usr/local/lib/python3.11/dist-packages (from langchain) (2.32.3)\n",
            "Requirement already satisfied: PyYAML>=5.3 in /usr/local/lib/python3.11/dist-packages (from langchain) (6.0.2)\n",
            "Requirement already satisfied: tenacity!=8.4.0,<10.0.0,>=8.1.0 in /usr/local/lib/python3.11/dist-packages (from langchain-core<1.0.0,>=0.3.58->langchain) (9.1.2)\n",
            "Requirement already satisfied: jsonpatch<2.0,>=1.33 in /usr/local/lib/python3.11/dist-packages (from langchain-core<1.0.0,>=0.3.58->langchain) (1.33)\n",
            "Requirement already satisfied: packaging<25,>=23.2 in /usr/local/lib/python3.11/dist-packages (from langchain-core<1.0.0,>=0.3.58->langchain) (24.2)\n",
            "Requirement already satisfied: typing-extensions>=4.7 in /usr/local/lib/python3.11/dist-packages (from langchain-core<1.0.0,>=0.3.58->langchain) (4.13.2)\n",
            "Requirement already satisfied: httpx<1,>=0.23.0 in /usr/local/lib/python3.11/dist-packages (from langsmith<0.4,>=0.1.17->langchain) (0.28.1)\n",
            "Requirement already satisfied: orjson<4.0.0,>=3.9.14 in /usr/local/lib/python3.11/dist-packages (from langsmith<0.4,>=0.1.17->langchain) (3.10.18)\n",
            "Requirement already satisfied: requests-toolbelt<2.0.0,>=1.0.0 in /usr/local/lib/python3.11/dist-packages (from langsmith<0.4,>=0.1.17->langchain) (1.0.0)\n",
            "Requirement already satisfied: zstandard<0.24.0,>=0.23.0 in /usr/local/lib/python3.11/dist-packages (from langsmith<0.4,>=0.1.17->langchain) (0.23.0)\n",
            "Requirement already satisfied: annotated-types>=0.6.0 in /usr/local/lib/python3.11/dist-packages (from pydantic<3.0.0,>=2.7.4->langchain) (0.7.0)\n",
            "Requirement already satisfied: pydantic-core==2.33.2 in /usr/local/lib/python3.11/dist-packages (from pydantic<3.0.0,>=2.7.4->langchain) (2.33.2)\n",
            "Requirement already satisfied: typing-inspection>=0.4.0 in /usr/local/lib/python3.11/dist-packages (from pydantic<3.0.0,>=2.7.4->langchain) (0.4.0)\n",
            "Requirement already satisfied: charset-normalizer<4,>=2 in /usr/local/lib/python3.11/dist-packages (from requests<3,>=2->langchain) (3.4.2)\n",
            "Requirement already satisfied: idna<4,>=2.5 in /usr/local/lib/python3.11/dist-packages (from requests<3,>=2->langchain) (3.10)\n",
            "Requirement already satisfied: urllib3<3,>=1.21.1 in /usr/local/lib/python3.11/dist-packages (from requests<3,>=2->langchain) (2.4.0)\n",
            "Requirement already satisfied: certifi>=2017.4.17 in /usr/local/lib/python3.11/dist-packages (from requests<3,>=2->langchain) (2025.4.26)\n",
            "Requirement already satisfied: greenlet>=1 in /usr/local/lib/python3.11/dist-packages (from SQLAlchemy<3,>=1.4->langchain) (3.2.2)\n",
            "Requirement already satisfied: anyio in /usr/local/lib/python3.11/dist-packages (from httpx<1,>=0.23.0->langsmith<0.4,>=0.1.17->langchain) (4.9.0)\n",
            "Requirement already satisfied: httpcore==1.* in /usr/local/lib/python3.11/dist-packages (from httpx<1,>=0.23.0->langsmith<0.4,>=0.1.17->langchain) (1.0.9)\n",
            "Requirement already satisfied: h11>=0.16 in /usr/local/lib/python3.11/dist-packages (from httpcore==1.*->httpx<1,>=0.23.0->langsmith<0.4,>=0.1.17->langchain) (0.16.0)\n",
            "Requirement already satisfied: jsonpointer>=1.9 in /usr/local/lib/python3.11/dist-packages (from jsonpatch<2.0,>=1.33->langchain-core<1.0.0,>=0.3.58->langchain) (3.0.0)\n",
            "Requirement already satisfied: sniffio>=1.1 in /usr/local/lib/python3.11/dist-packages (from anyio->httpx<1,>=0.23.0->langsmith<0.4,>=0.1.17->langchain) (1.3.1)\n"
          ]
        }
      ]
    },
    {
      "cell_type": "code",
      "source": [
        "from google.colab import userdata\n",
        "import os\n",
        "\n",
        "# Get keys for your project from the project settings page: https://cloud.langfuse.com\n",
        "os.environ[\"LANGFUSE_PUBLIC_KEY\"] = userdata.get('LANGFUSE_PUBLIC_KEY')\n",
        "os.environ[\"LANGFUSE_SECRET_KEY\"] = userdata.get('LANGFUSE_SECRET_KEY')\n",
        "os.environ[\"LANGFUSE_HOST\"] = \"https://cloud.langfuse.com\""
      ],
      "metadata": {
        "id": "t7PgT7GiHJOT"
      },
      "execution_count": 21,
      "outputs": []
    },
    {
      "cell_type": "code",
      "source": [
        "from langfuse.callback import CallbackHandler\n",
        "\n",
        "# Initialize Langfuse CallbackHandler for LangGraph/Langchain (tracing)\n",
        "langfuse_handler = CallbackHandler()\n",
        "\n",
        "# Process legitimate email\n",
        "legitimate_result = compiled_graph.invoke(\n",
        "    input={\"email\": legitimate_email, \"is_spam\": None, \"spam_reason\": None, \"email_category\": None, \"email_draft\": None, \"messages\": []},\n",
        "    config={\"callbacks\": [langfuse_handler]}\n",
        ")"
      ],
      "metadata": {
        "id": "8-QsmT4nH-iB",
        "outputId": "6454f715-cb2b-417b-bd2f-5abb37942dc3",
        "colab": {
          "base_uri": "https://localhost:8080/"
        }
      },
      "execution_count": 23,
      "outputs": [
        {
          "output_type": "stream",
          "name": "stdout",
          "text": [
            "Alfred is processing an email from john.smith@example.com with subject: Question about your services\n",
            "\n",
            "==================================================\n",
            "Sir, you've received an email from john.smith@example.com.\n",
            "Subject: Question about your services\n",
            "Category: inquiry\n",
            "\n",
            "I've prepared a draft response for your review:\n",
            "--------------------------------------------------\n",
            "Subject: Re: Question about our services\n",
            "\n",
            "Dear Mr. Smith,\n",
            "\n",
            "Thank you for reaching out and for your interest in our consulting services. We would be delighted to discuss how we can assist you. I will coordinate with Mr. Hugg to find a suitable time for a call next week. Please let us know your availability, and we will do our best to accommodate.\n",
            "\n",
            "Best regards,\n",
            "\n",
            "Alfred  \n",
            "Assistant to Mr. Hugg\n",
            "==================================================\n",
            "\n"
          ]
        }
      ]
    },
    {
      "cell_type": "code",
      "source": [
        "spam_result = compiled_graph.invoke(\n",
        "    input={\n",
        "        \"email\": spam_email,\n",
        "        \"is_spam\": None,\n",
        "        \"spam_reason\": None,\n",
        "        \"email_category\": None,\n",
        "        \"email_draft\": None,\n",
        "        \"messages\": []},\n",
        "    config={\"callbacks\": [langfuse_handler]}\n",
        ")"
      ],
      "metadata": {
        "id": "5Obftj56IDKE",
        "outputId": "cf854081-e45a-4ac2-ffec-0c84afc74aec",
        "colab": {
          "base_uri": "https://localhost:8080/"
        }
      },
      "execution_count": 24,
      "outputs": [
        {
          "output_type": "stream",
          "name": "stdout",
          "text": [
            "Alfred is processing an email from winner@lottery-intl.com with subject: YOU HAVE WON $5,000,000!!!\n",
            "Alfred has marked the email as spam. Reason: None\n",
            "The email has been moved to the spam folder.\n"
          ]
        }
      ]
    }
  ],
  "metadata": {
    "kernelspec": {
      "display_name": "Python 3",
      "language": "python",
      "name": "python3"
    },
    "language_info": {
      "codemirror_mode": {
        "name": "ipython",
        "version": 3
      },
      "file_extension": ".py",
      "mimetype": "text/x-python",
      "name": "python",
      "nbconvert_exporter": "python",
      "pygments_lexer": "ipython3",
      "version": "3.11.6"
    },
    "colab": {
      "provenance": [],
      "include_colab_link": true
    }
  },
  "nbformat": 4,
  "nbformat_minor": 0
}