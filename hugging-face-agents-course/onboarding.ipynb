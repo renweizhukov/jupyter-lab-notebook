{
 "cells": [
  {
   "cell_type": "markdown",
   "id": "f83aa98f-44a6-439a-99e5-eb4ca9c5f2f3",
   "metadata": {},
   "source": [
    "Notebook for https://huggingface.co/learn/agents-course/unit0/onboarding"
   ]
  },
  {
   "cell_type": "code",
   "execution_count": 1,
   "id": "4301c670-baf0-42f6-b5ef-69febe104b5f",
   "metadata": {},
   "outputs": [
    {
     "name": "stdout",
     "output_type": "stream",
     "text": [
      "Requirement already satisfied: smolagents[litellm] in /home/renwei/anaconda3/envs/llm/lib/python3.12/site-packages (1.14.0)\n",
      "Requirement already satisfied: huggingface-hub>=0.28.0 in /home/renwei/anaconda3/envs/llm/lib/python3.12/site-packages (from smolagents[litellm]) (0.30.2)\n",
      "Requirement already satisfied: requests>=2.32.3 in /home/renwei/anaconda3/envs/llm/lib/python3.12/site-packages (from smolagents[litellm]) (2.32.3)\n",
      "Requirement already satisfied: rich>=13.9.4 in /home/renwei/anaconda3/envs/llm/lib/python3.12/site-packages (from smolagents[litellm]) (13.9.4)\n",
      "Requirement already satisfied: jinja2>=3.1.4 in /home/renwei/anaconda3/envs/llm/lib/python3.12/site-packages (from smolagents[litellm]) (3.1.4)\n",
      "Requirement already satisfied: pillow>=11.0.0 in /home/renwei/anaconda3/envs/llm/lib/python3.12/site-packages (from smolagents[litellm]) (11.2.1)\n",
      "Requirement already satisfied: markdownify>=0.14.1 in /home/renwei/anaconda3/envs/llm/lib/python3.12/site-packages (from smolagents[litellm]) (1.1.0)\n",
      "Requirement already satisfied: duckduckgo-search>=6.3.7 in /home/renwei/anaconda3/envs/llm/lib/python3.12/site-packages (from smolagents[litellm]) (8.0.1)\n",
      "Requirement already satisfied: python-dotenv in /home/renwei/anaconda3/envs/llm/lib/python3.12/site-packages (from smolagents[litellm]) (1.0.1)\n",
      "Requirement already satisfied: litellm>=1.60.2 in /home/renwei/anaconda3/envs/llm/lib/python3.12/site-packages (from smolagents[litellm]) (1.67.4.post1)\n",
      "Requirement already satisfied: click>=8.1.8 in /home/renwei/anaconda3/envs/llm/lib/python3.12/site-packages (from duckduckgo-search>=6.3.7->smolagents[litellm]) (8.1.8)\n",
      "Requirement already satisfied: primp>=0.15.0 in /home/renwei/anaconda3/envs/llm/lib/python3.12/site-packages (from duckduckgo-search>=6.3.7->smolagents[litellm]) (0.15.0)\n",
      "Requirement already satisfied: lxml>=5.3.0 in /home/renwei/anaconda3/envs/llm/lib/python3.12/site-packages (from duckduckgo-search>=6.3.7->smolagents[litellm]) (5.4.0)\n",
      "Requirement already satisfied: filelock in /home/renwei/anaconda3/envs/llm/lib/python3.12/site-packages (from huggingface-hub>=0.28.0->smolagents[litellm]) (3.13.1)\n",
      "Requirement already satisfied: fsspec>=2023.5.0 in /home/renwei/anaconda3/envs/llm/lib/python3.12/site-packages (from huggingface-hub>=0.28.0->smolagents[litellm]) (2024.9.0)\n",
      "Requirement already satisfied: packaging>=20.9 in /home/renwei/anaconda3/envs/llm/lib/python3.12/site-packages (from huggingface-hub>=0.28.0->smolagents[litellm]) (24.2)\n",
      "Requirement already satisfied: pyyaml>=5.1 in /home/renwei/anaconda3/envs/llm/lib/python3.12/site-packages (from huggingface-hub>=0.28.0->smolagents[litellm]) (6.0.2)\n",
      "Requirement already satisfied: tqdm>=4.42.1 in /home/renwei/anaconda3/envs/llm/lib/python3.12/site-packages (from huggingface-hub>=0.28.0->smolagents[litellm]) (4.67.1)\n",
      "Requirement already satisfied: typing-extensions>=3.7.4.3 in /home/renwei/anaconda3/envs/llm/lib/python3.12/site-packages (from huggingface-hub>=0.28.0->smolagents[litellm]) (4.12.2)\n",
      "Requirement already satisfied: MarkupSafe>=2.0 in /home/renwei/anaconda3/envs/llm/lib/python3.12/site-packages (from jinja2>=3.1.4->smolagents[litellm]) (2.1.3)\n",
      "Requirement already satisfied: aiohttp in /home/renwei/anaconda3/envs/llm/lib/python3.12/site-packages (from litellm>=1.60.2->smolagents[litellm]) (3.11.11)\n",
      "Requirement already satisfied: httpx>=0.23.0 in /home/renwei/anaconda3/envs/llm/lib/python3.12/site-packages (from litellm>=1.60.2->smolagents[litellm]) (0.27.2)\n",
      "Requirement already satisfied: importlib-metadata>=6.8.0 in /home/renwei/anaconda3/envs/llm/lib/python3.12/site-packages (from litellm>=1.60.2->smolagents[litellm]) (8.5.0)\n",
      "Requirement already satisfied: jsonschema<5.0.0,>=4.22.0 in /home/renwei/anaconda3/envs/llm/lib/python3.12/site-packages (from litellm>=1.60.2->smolagents[litellm]) (4.23.0)\n",
      "Requirement already satisfied: openai>=1.68.2 in /home/renwei/anaconda3/envs/llm/lib/python3.12/site-packages (from litellm>=1.60.2->smolagents[litellm]) (1.76.0)\n",
      "Requirement already satisfied: pydantic<3.0.0,>=2.0.0 in /home/renwei/anaconda3/envs/llm/lib/python3.12/site-packages (from litellm>=1.60.2->smolagents[litellm]) (2.10.5)\n",
      "Requirement already satisfied: tiktoken>=0.7.0 in /home/renwei/anaconda3/envs/llm/lib/python3.12/site-packages (from litellm>=1.60.2->smolagents[litellm]) (0.8.0)\n",
      "Requirement already satisfied: tokenizers in /home/renwei/anaconda3/envs/llm/lib/python3.12/site-packages (from litellm>=1.60.2->smolagents[litellm]) (0.21.0)\n",
      "Requirement already satisfied: beautifulsoup4<5,>=4.9 in /home/renwei/anaconda3/envs/llm/lib/python3.12/site-packages (from markdownify>=0.14.1->smolagents[litellm]) (4.12.3)\n",
      "Requirement already satisfied: six<2,>=1.15 in /home/renwei/anaconda3/envs/llm/lib/python3.12/site-packages (from markdownify>=0.14.1->smolagents[litellm]) (1.17.0)\n",
      "Requirement already satisfied: charset-normalizer<4,>=2 in /home/renwei/anaconda3/envs/llm/lib/python3.12/site-packages (from requests>=2.32.3->smolagents[litellm]) (3.3.2)\n",
      "Requirement already satisfied: idna<4,>=2.5 in /home/renwei/anaconda3/envs/llm/lib/python3.12/site-packages (from requests>=2.32.3->smolagents[litellm]) (3.7)\n",
      "Requirement already satisfied: urllib3<3,>=1.21.1 in /home/renwei/anaconda3/envs/llm/lib/python3.12/site-packages (from requests>=2.32.3->smolagents[litellm]) (2.3.0)\n",
      "Requirement already satisfied: certifi>=2017.4.17 in /home/renwei/anaconda3/envs/llm/lib/python3.12/site-packages (from requests>=2.32.3->smolagents[litellm]) (2024.12.14)\n",
      "Requirement already satisfied: markdown-it-py>=2.2.0 in /home/renwei/anaconda3/envs/llm/lib/python3.12/site-packages (from rich>=13.9.4->smolagents[litellm]) (3.0.0)\n",
      "Requirement already satisfied: pygments<3.0.0,>=2.13.0 in /home/renwei/anaconda3/envs/llm/lib/python3.12/site-packages (from rich>=13.9.4->smolagents[litellm]) (2.19.1)\n",
      "Requirement already satisfied: soupsieve>1.2 in /home/renwei/anaconda3/envs/llm/lib/python3.12/site-packages (from beautifulsoup4<5,>=4.9->markdownify>=0.14.1->smolagents[litellm]) (2.5)\n",
      "Requirement already satisfied: anyio in /home/renwei/anaconda3/envs/llm/lib/python3.12/site-packages (from httpx>=0.23.0->litellm>=1.60.2->smolagents[litellm]) (4.8.0)\n",
      "Requirement already satisfied: httpcore==1.* in /home/renwei/anaconda3/envs/llm/lib/python3.12/site-packages (from httpx>=0.23.0->litellm>=1.60.2->smolagents[litellm]) (1.0.7)\n",
      "Requirement already satisfied: sniffio in /home/renwei/anaconda3/envs/llm/lib/python3.12/site-packages (from httpx>=0.23.0->litellm>=1.60.2->smolagents[litellm]) (1.3.1)\n",
      "Requirement already satisfied: h11<0.15,>=0.13 in /home/renwei/anaconda3/envs/llm/lib/python3.12/site-packages (from httpcore==1.*->httpx>=0.23.0->litellm>=1.60.2->smolagents[litellm]) (0.14.0)\n",
      "Requirement already satisfied: zipp>=3.20 in /home/renwei/anaconda3/envs/llm/lib/python3.12/site-packages (from importlib-metadata>=6.8.0->litellm>=1.60.2->smolagents[litellm]) (3.21.0)\n",
      "Requirement already satisfied: attrs>=22.2.0 in /home/renwei/anaconda3/envs/llm/lib/python3.12/site-packages (from jsonschema<5.0.0,>=4.22.0->litellm>=1.60.2->smolagents[litellm]) (24.3.0)\n",
      "Requirement already satisfied: jsonschema-specifications>=2023.03.6 in /home/renwei/anaconda3/envs/llm/lib/python3.12/site-packages (from jsonschema<5.0.0,>=4.22.0->litellm>=1.60.2->smolagents[litellm]) (2024.10.1)\n",
      "Requirement already satisfied: referencing>=0.28.4 in /home/renwei/anaconda3/envs/llm/lib/python3.12/site-packages (from jsonschema<5.0.0,>=4.22.0->litellm>=1.60.2->smolagents[litellm]) (0.36.1)\n",
      "Requirement already satisfied: rpds-py>=0.7.1 in /home/renwei/anaconda3/envs/llm/lib/python3.12/site-packages (from jsonschema<5.0.0,>=4.22.0->litellm>=1.60.2->smolagents[litellm]) (0.22.3)\n",
      "Requirement already satisfied: mdurl~=0.1 in /home/renwei/anaconda3/envs/llm/lib/python3.12/site-packages (from markdown-it-py>=2.2.0->rich>=13.9.4->smolagents[litellm]) (0.1.2)\n",
      "Requirement already satisfied: distro<2,>=1.7.0 in /home/renwei/anaconda3/envs/llm/lib/python3.12/site-packages (from openai>=1.68.2->litellm>=1.60.2->smolagents[litellm]) (1.9.0)\n",
      "Requirement already satisfied: jiter<1,>=0.4.0 in /home/renwei/anaconda3/envs/llm/lib/python3.12/site-packages (from openai>=1.68.2->litellm>=1.60.2->smolagents[litellm]) (0.8.2)\n",
      "Requirement already satisfied: annotated-types>=0.6.0 in /home/renwei/anaconda3/envs/llm/lib/python3.12/site-packages (from pydantic<3.0.0,>=2.0.0->litellm>=1.60.2->smolagents[litellm]) (0.7.0)\n",
      "Requirement already satisfied: pydantic-core==2.27.2 in /home/renwei/anaconda3/envs/llm/lib/python3.12/site-packages (from pydantic<3.0.0,>=2.0.0->litellm>=1.60.2->smolagents[litellm]) (2.27.2)\n",
      "Requirement already satisfied: regex>=2022.1.18 in /home/renwei/anaconda3/envs/llm/lib/python3.12/site-packages (from tiktoken>=0.7.0->litellm>=1.60.2->smolagents[litellm]) (2024.11.6)\n",
      "Requirement already satisfied: aiohappyeyeballs>=2.3.0 in /home/renwei/anaconda3/envs/llm/lib/python3.12/site-packages (from aiohttp->litellm>=1.60.2->smolagents[litellm]) (2.4.4)\n",
      "Requirement already satisfied: aiosignal>=1.1.2 in /home/renwei/anaconda3/envs/llm/lib/python3.12/site-packages (from aiohttp->litellm>=1.60.2->smolagents[litellm]) (1.3.2)\n",
      "Requirement already satisfied: frozenlist>=1.1.1 in /home/renwei/anaconda3/envs/llm/lib/python3.12/site-packages (from aiohttp->litellm>=1.60.2->smolagents[litellm]) (1.5.0)\n",
      "Requirement already satisfied: multidict<7.0,>=4.5 in /home/renwei/anaconda3/envs/llm/lib/python3.12/site-packages (from aiohttp->litellm>=1.60.2->smolagents[litellm]) (6.1.0)\n",
      "Requirement already satisfied: propcache>=0.2.0 in /home/renwei/anaconda3/envs/llm/lib/python3.12/site-packages (from aiohttp->litellm>=1.60.2->smolagents[litellm]) (0.2.1)\n",
      "Requirement already satisfied: yarl<2.0,>=1.17.0 in /home/renwei/anaconda3/envs/llm/lib/python3.12/site-packages (from aiohttp->litellm>=1.60.2->smolagents[litellm]) (1.18.3)\n"
     ]
    }
   ],
   "source": [
    "!pip install smolagents[litellm]"
   ]
  },
  {
   "cell_type": "code",
   "execution_count": 2,
   "id": "8bb39e06-c375-4f3a-8b01-778f09a00d57",
   "metadata": {},
   "outputs": [],
   "source": [
    "from smolagents import LiteLLMModel\n",
    "\n",
    "model = LiteLLMModel(\n",
    "    model_id=\"ollama_chat/qwen2:7b\",  # Or try other Ollama-supported models\n",
    "    api_base=\"http://127.0.0.1:11434\",  # Default Ollama local server\n",
    "    num_ctx=8192,\n",
    ")"
   ]
  }
 ],
 "metadata": {
  "kernelspec": {
   "display_name": "Python 3 (ipykernel)",
   "language": "python",
   "name": "python3"
  },
  "language_info": {
   "codemirror_mode": {
    "name": "ipython",
    "version": 3
   },
   "file_extension": ".py",
   "mimetype": "text/x-python",
   "name": "python",
   "nbconvert_exporter": "python",
   "pygments_lexer": "ipython3",
   "version": "3.12.2"
  }
 },
 "nbformat": 4,
 "nbformat_minor": 5
}
