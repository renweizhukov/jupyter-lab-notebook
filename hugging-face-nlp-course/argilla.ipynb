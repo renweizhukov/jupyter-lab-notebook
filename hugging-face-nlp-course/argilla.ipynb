{
 "cells": [
  {
   "cell_type": "code",
   "execution_count": 1,
   "id": "1a71854c-2842-4e07-9e10-ea932e9278e1",
   "metadata": {},
   "outputs": [
    {
     "name": "stdout",
     "output_type": "stream",
     "text": [
      "Collecting argilla\n",
      "  Downloading argilla-2.7.0-py3-none-any.whl.metadata (9.0 kB)\n",
      "Requirement already satisfied: httpx>=0.26.0 in /home/renwei/anaconda3/envs/llm/lib/python3.12/site-packages (from argilla) (0.27.2)\n",
      "Requirement already satisfied: pydantic<3.0.0,>=2.6.0 in /home/renwei/anaconda3/envs/llm/lib/python3.12/site-packages (from argilla) (2.10.5)\n",
      "Requirement already satisfied: huggingface_hub>=0.22.0 in /home/renwei/anaconda3/envs/llm/lib/python3.12/site-packages (from argilla) (0.27.1)\n",
      "Requirement already satisfied: tqdm>=4.60.0 in /home/renwei/anaconda3/envs/llm/lib/python3.12/site-packages (from argilla) (4.67.1)\n",
      "Requirement already satisfied: rich>=10.0.0 in /home/renwei/anaconda3/envs/llm/lib/python3.12/site-packages (from argilla) (13.9.4)\n",
      "Requirement already satisfied: datasets>=2.0.0 in /home/renwei/anaconda3/envs/llm/lib/python3.12/site-packages (from argilla) (3.2.0)\n",
      "Requirement already satisfied: pillow>=9.5.0 in /home/renwei/anaconda3/envs/llm/lib/python3.12/site-packages (from argilla) (10.4.0)\n",
      "Collecting standardwebhooks>=1.0.0 (from argilla)\n",
      "  Downloading standardwebhooks-1.0.0.tar.gz (4.9 kB)\n",
      "  Installing build dependencies ... \u001b[?done\n",
      "\u001b[?25h  Getting requirements to build wheel ... \u001b[?25ldone\n",
      "\u001b[?25h  Preparing metadata (pyproject.toml) ... \u001b[?25ldone\n",
      "\u001b[?25hRequirement already satisfied: filelock in /home/renwei/anaconda3/envs/llm/lib/python3.12/site-packages (from datasets>=2.0.0->argilla) (3.13.1)\n",
      "Requirement already satisfied: numpy>=1.17 in /home/renwei/anaconda3/envs/llm/lib/python3.12/site-packages (from datasets>=2.0.0->argilla) (1.26.4)\n",
      "Requirement already satisfied: pyarrow>=15.0.0 in /home/renwei/anaconda3/envs/llm/lib/python3.12/site-packages (from datasets>=2.0.0->argilla) (19.0.0)\n",
      "Requirement already satisfied: dill<0.3.9,>=0.3.0 in /home/renwei/anaconda3/envs/llm/lib/python3.12/site-packages (from datasets>=2.0.0->argilla) (0.3.8)\n",
      "Requirement already satisfied: pandas in /home/renwei/anaconda3/envs/llm/lib/python3.12/site-packages (from datasets>=2.0.0->argilla) (2.2.3)\n",
      "Requirement already satisfied: requests>=2.32.2 in /home/renwei/anaconda3/envs/llm/lib/python3.12/site-packages (from datasets>=2.0.0->argilla) (2.32.3)\n",
      "Requirement already satisfied: xxhash in /home/renwei/anaconda3/envs/llm/lib/python3.12/site-packages (from datasets>=2.0.0->argilla) (3.5.0)\n",
      "Requirement already satisfied: multiprocess<0.70.17 in /home/renwei/anaconda3/envs/llm/lib/python3.12/site-packages (from datasets>=2.0.0->argilla) (0.70.16)\n",
      "Requirement already satisfied: fsspec<=2024.9.0,>=2023.1.0 in /home/renwei/anaconda3/envs/llm/lib/python3.12/site-packages (from fsspec[http]<=2024.9.0,>=2023.1.0->datasets>=2.0.0->argilla) (2024.9.0)\n",
      "Requirement already satisfied: aiohttp in /home/renwei/anaconda3/envs/llm/lib/python3.12/site-packages (from datasets>=2.0.0->argilla) (3.11.11)\n",
      "Requirement already satisfied: packaging in /home/renwei/anaconda3/envs/llm/lib/python3.12/site-packages (from datasets>=2.0.0->argilla) (24.2)\n",
      "Requirement already satisfied: pyyaml>=5.1 in /home/renwei/anaconda3/envs/llm/lib/python3.12/site-packages (from datasets>=2.0.0->argilla) (6.0.2)\n",
      "Requirement already satisfied: anyio in /home/renwei/anaconda3/envs/llm/lib/python3.12/site-packages (from httpx>=0.26.0->argilla) (4.8.0)\n",
      "Requirement already satisfied: certifi in /home/renwei/anaconda3/envs/llm/lib/python3.12/site-packages (from httpx>=0.26.0->argilla) (2024.12.14)\n",
      "Requirement already satisfied: httpcore==1.* in /home/renwei/anaconda3/envs/llm/lib/python3.12/site-packages (from httpx>=0.26.0->argilla) (1.0.7)\n",
      "Requirement already satisfied: idna in /home/renwei/anaconda3/envs/llm/lib/python3.12/site-packages (from httpx>=0.26.0->argilla) (3.7)\n",
      "Requirement already satisfied: sniffio in /home/renwei/anaconda3/envs/llm/lib/python3.12/site-packages (from httpx>=0.26.0->argilla) (1.3.1)\n",
      "Requirement already satisfied: h11<0.15,>=0.13 in /home/renwei/anaconda3/envs/llm/lib/python3.12/site-packages (from httpcore==1.*->httpx>=0.26.0->argilla) (0.14.0)\n",
      "Requirement already satisfied: typing-extensions>=3.7.4.3 in /home/renwei/anaconda3/envs/llm/lib/python3.12/site-packages (from huggingface_hub>=0.22.0->argilla) (4.12.2)\n",
      "Requirement already satisfied: annotated-types>=0.6.0 in /home/renwei/anaconda3/envs/llm/lib/python3.12/site-packages (from pydantic<3.0.0,>=2.6.0->argilla) (0.7.0)\n",
      "Requirement already satisfied: pydantic-core==2.27.2 in /home/renwei/anaconda3/envs/llm/lib/python3.12/site-packages (from pydantic<3.0.0,>=2.6.0->argilla) (2.27.2)\n",
      "Requirement already satisfied: markdown-it-py>=2.2.0 in /home/renwei/anaconda3/envs/llm/lib/python3.12/site-packages (from rich>=10.0.0->argilla) (3.0.0)\n",
      "Requirement already satisfied: pygments<3.0.0,>=2.13.0 in /home/renwei/anaconda3/envs/llm/lib/python3.12/site-packages (from rich>=10.0.0->argilla) (2.19.1)\n",
      "Requirement already satisfied: attrs>=21.3.0 in /home/renwei/anaconda3/envs/llm/lib/python3.12/site-packages (from standardwebhooks>=1.0.0->argilla) (24.3.0)\n",
      "Requirement already satisfied: python-dateutil in /home/renwei/anaconda3/envs/llm/lib/python3.12/site-packages (from standardwebhooks>=1.0.0->argilla) (2.9.0.post0)\n",
      "Collecting Deprecated (from standardwebhooks>=1.0.0->argilla)\n",
      "  Downloading Deprecated-1.2.18-py2.py3-none-any.whl.metadata (5.7 kB)\n",
      "Requirement already satisfied: types-python-dateutil in /home/renwei/anaconda3/envs/llm/lib/python3.12/site-packages (from standardwebhooks>=1.0.0->argilla) (2.9.0.20241206)\n",
      "Collecting types-Deprecated (from standardwebhooks>=1.0.0->argilla)\n",
      "  Downloading types_Deprecated-1.2.15.20241117-py3-none-any.whl.metadata (1.8 kB)\n",
      "Requirement already satisfied: aiohappyeyeballs>=2.3.0 in /home/renwei/anaconda3/envs/llm/lib/python3.12/site-packages (from aiohttp->datasets>=2.0.0->argilla) (2.4.4)\n",
      "Requirement already satisfied: aiosignal>=1.1.2 in /home/renwei/anaconda3/envs/llm/lib/python3.12/site-packages (from aiohttp->datasets>=2.0.0->argilla) (1.3.2)\n",
      "Requirement already satisfied: frozenlist>=1.1.1 in /home/renwei/anaconda3/envs/llm/lib/python3.12/site-packages (from aiohttp->datasets>=2.0.0->argilla) (1.5.0)\n",
      "Requirement already satisfied: multidict<7.0,>=4.5 in /home/renwei/anaconda3/envs/llm/lib/python3.12/site-packages (from aiohttp->datasets>=2.0.0->argilla) (6.1.0)\n",
      "Requirement already satisfied: propcache>=0.2.0 in /home/renwei/anaconda3/envs/llm/lib/python3.12/site-packages (from aiohttp->datasets>=2.0.0->argilla) (0.2.1)\n",
      "Requirement already satisfied: yarl<2.0,>=1.17.0 in /home/renwei/anaconda3/envs/llm/lib/python3.12/site-packages (from aiohttp->datasets>=2.0.0->argilla) (1.18.3)\n",
      "Requirement already satisfied: mdurl~=0.1 in /home/renwei/anaconda3/envs/llm/lib/python3.12/site-packages (from markdown-it-py>=2.2.0->rich>=10.0.0->argilla) (0.1.2)\n",
      "Requirement already satisfied: charset-normalizer<4,>=2 in /home/renwei/anaconda3/envs/llm/lib/python3.12/site-packages (from requests>=2.32.2->datasets>=2.0.0->argilla) (3.3.2)\n",
      "Requirement already satisfied: urllib3<3,>=1.21.1 in /home/renwei/anaconda3/envs/llm/lib/python3.12/site-packages (from requests>=2.32.2->datasets>=2.0.0->argilla) (2.3.0)\n",
      "Collecting wrapt<2,>=1.10 (from Deprecated->standardwebhooks>=1.0.0->argilla)\n",
      "  Using cached wrapt-1.17.2-cp312-cp312-manylinux_2_5_x86_64.manylinux1_x86_64.manylinux_2_17_x86_64.manylinux2014_x86_64.whl.metadata (6.4 kB)\n",
      "Requirement already satisfied: pytz>=2020.1 in /home/renwei/anaconda3/envs/llm/lib/python3.12/site-packages (from pandas->datasets>=2.0.0->argilla) (2024.2)\n",
      "Requirement already satisfied: tzdata>=2022.7 in /home/renwei/anaconda3/envs/llm/lib/python3.12/site-packages (from pandas->datasets>=2.0.0->argilla) (2024.2)\n",
      "Requirement already satisfied: six>=1.5 in /home/renwei/anaconda3/envs/llm/lib/python3.12/site-packages (from python-dateutil->standardwebhooks>=1.0.0->argilla) (1.17.0)\n",
      "Downloading argilla-2.7.0-py3-none-any.whl (161 kB)\n",
      "Downloading Deprecated-1.2.18-py2.py3-none-any.whl (10.0 kB)\n",
      "Downloading types_Deprecated-1.2.15.20241117-py3-none-any.whl (3.8 kB)\n",
      "Using cached wrapt-1.17.2-cp312-cp312-manylinux_2_5_x86_64.manylinux1_x86_64.manylinux_2_17_x86_64.manylinux2014_x86_64.whl (89 kB)\n",
      "Building wheels for collected packages: standardwebhooks\n",
      "  Building wheel for standardwebhooks (pyproject.toml) ... \u001b[?25ldone\n",
      "\u001b[?25h  Created wheel for standardwebhooks: filename=standardwebhooks-1.0.0-py3-none-any.whl size=3571 sha256=04ce57ba3164e63417275cbc5149566bb8c4100010a3421cc7a3d111469f86b6\n",
      "  Stored in directory: /home/renwei/.cache/pip/wheels/40/c9/01/255026ce5c725bee8d87fcf67c5c2149847f31b5df60bb83db\n",
      "Successfully built standardwebhooks\n",
      "Installing collected packages: wrapt, types-Deprecated, Deprecated, standardwebhooks, argilla\n",
      "Successfully installed Deprecated-1.2.18 argilla-2.7.0 standardwebhooks-1.0.0 types-Deprecated-1.2.15.20241117 wrapt-1.17.2\n"
     ]
    }
   ],
   "source": [
    "!pip install argilla"
   ]
  },
  {
   "cell_type": "markdown",
   "id": "7102d2cb-d252-473e-999f-b1b50f7eead9",
   "metadata": {},
   "source": [
    "# Install and connect the Python SDK\n",
    "\n",
    "https://huggingface.co/learn/nlp-course/chapter10/2?fw=pt"
   ]
  },
  {
   "cell_type": "code",
   "execution_count": 2,
   "id": "906eafa9-6a9a-4328-8913-83995d933b0a",
   "metadata": {},
   "outputs": [
    {
     "name": "stdout",
     "output_type": "stream",
     "text": [
      "Requirement already satisfied: python-dotenv in /home/renwei/anaconda3/envs/llm/lib/python3.12/site-packages (1.0.1)\n"
     ]
    }
   ],
   "source": [
    "!pip install python-dotenv"
   ]
  },
  {
   "cell_type": "code",
   "execution_count": 3,
   "id": "22ec0ff6-5173-41aa-9a0b-1ec4fdad8109",
   "metadata": {},
   "outputs": [],
   "source": [
    "# https://github.com/theskumar/python-dotenvabs\n",
    "%load_ext dotenv\n",
    "%dotenv ../.env"
   ]
  },
  {
   "cell_type": "code",
   "execution_count": 6,
   "id": "1c1792bc-e5e7-415d-b14c-2352f9172540",
   "metadata": {},
   "outputs": [],
   "source": [
    "import os\n",
    "\n",
    "ARGILLA_SPACE_API_KEY = os.getenv(\"ARGILLA_SPACE_API_KEY\")"
   ]
  },
  {
   "cell_type": "code",
   "execution_count": 7,
   "id": "2e572ebb-fb3b-4eb9-94dd-a8ba66edf062",
   "metadata": {},
   "outputs": [],
   "source": [
    "import argilla as rg\n",
    "\n",
    "client = rg.Argilla(\n",
    "    api_url=\"https://renwei2024-learn-argilla.hf.space/\",\n",
    "    api_key=ARGILLA_SPACE_API_KEY,\n",
    ")"
   ]
  },
  {
   "cell_type": "code",
   "execution_count": 8,
   "id": "a3576033-1346-44ed-b11d-9f3d5c507687",
   "metadata": {},
   "outputs": [
    {
     "data": {
      "text/plain": [
       "User(id=UUID('0f206382-caf1-446a-9248-ec74ee882b6f') inserted_at=datetime.datetime(2025, 1, 30, 1, 2, 17, 982720) updated_at=datetime.datetime(2025, 1, 30, 1, 2, 17, 982720) username='renwei2024' role=<Role.owner: 'owner'> first_name='renwei2024' last_name=None password=None)"
      ]
     },
     "execution_count": 8,
     "metadata": {},
     "output_type": "execute_result"
    }
   ],
   "source": [
    "client.me"
   ]
  },
  {
   "cell_type": "markdown",
   "id": "dbb4a3b8-21c1-4e3d-9b1f-ee663203ed4e",
   "metadata": {},
   "source": [
    "# Load your dataset to Argilla"
   ]
  },
  {
   "cell_type": "markdown",
   "id": "cf03fe08-fa07-40d5-b134-dfa936490a73",
   "metadata": {},
   "source": [
    "## Configure your dataset"
   ]
  },
  {
   "cell_type": "code",
   "execution_count": 10,
   "id": "ca50a06a-c084-40ed-ab4b-c4e22d2bfb8a",
   "metadata": {},
   "outputs": [
    {
     "data": {
      "application/vnd.jupyter.widget-view+json": {
       "model_id": "2e06585da6504b7ebfedefde8938306d",
       "version_major": 2,
       "version_minor": 0
      },
      "text/plain": [
       "train.jsonl:   0%|          | 0.00/33.8M [00:00<?, ?B/s]"
      ]
     },
     "metadata": {},
     "output_type": "display_data"
    },
    {
     "data": {
      "application/vnd.jupyter.widget-view+json": {
       "model_id": "2c5c8c53985042a2bd074c86299d5023",
       "version_major": 2,
       "version_minor": 0
      },
      "text/plain": [
       "test.jsonl:   0%|          | 0.00/2.13M [00:00<?, ?B/s]"
      ]
     },
     "metadata": {},
     "output_type": "display_data"
    },
    {
     "data": {
      "application/vnd.jupyter.widget-view+json": {
       "model_id": "d9f7eafb251e4744a96f3bcf263dc586",
       "version_major": 2,
       "version_minor": 0
      },
      "text/plain": [
       "Generating train split:   0%|          | 0/120000 [00:00<?, ? examples/s]"
      ]
     },
     "metadata": {},
     "output_type": "display_data"
    },
    {
     "data": {
      "application/vnd.jupyter.widget-view+json": {
       "model_id": "7aabd925024c4f058ad69a231c80a6cc",
       "version_major": 2,
       "version_minor": 0
      },
      "text/plain": [
       "Generating test split:   0%|          | 0/7600 [00:00<?, ? examples/s]"
      ]
     },
     "metadata": {},
     "output_type": "display_data"
    },
    {
     "data": {
      "text/plain": [
       "{'text': Value(dtype='string', id=None),\n",
       " 'label': Value(dtype='int64', id=None),\n",
       " 'label_text': Value(dtype='string', id=None)}"
      ]
     },
     "execution_count": 10,
     "metadata": {},
     "output_type": "execute_result"
    }
   ],
   "source": [
    "from datasets import load_dataset\n",
    "\n",
    "data = load_dataset(\"SetFit/ag_news\", split=\"train\")\n",
    "data.features"
   ]
  },
  {
   "cell_type": "code",
   "execution_count": 11,
   "id": "c83c4f17-1f26-46fc-833c-4b901392c3b7",
   "metadata": {},
   "outputs": [
    {
     "data": {
      "text/plain": [
       "{'text': \"Wall St. Bears Claw Back Into the Black (Reuters) Reuters - Short-sellers, Wall Street's dwindling\\\\band of ultra-cynics, are seeing green again.\",\n",
       " 'label': 2,\n",
       " 'label_text': 'Business'}"
      ]
     },
     "execution_count": 11,
     "metadata": {},
     "output_type": "execute_result"
    }
   ],
   "source": [
    "data[0]"
   ]
  },
  {
   "cell_type": "code",
   "execution_count": 12,
   "id": "1e4c8680-0f23-4442-acc8-341284812a70",
   "metadata": {},
   "outputs": [],
   "source": [
    "settings = rg.Settings(\n",
    "    fields=[rg.TextField(name=\"text\")],\n",
    "    questions=[\n",
    "        rg.LabelQuestion(\n",
    "            name=\"label\", title=\"Classify the text:\", labels=data.unique(\"label_text\")\n",
    "        ),\n",
    "        rg.SpanQuestion(\n",
    "            name=\"entities\",\n",
    "            title=\"Highlight all the entities in the text:\",\n",
    "            labels=[\"PERSON\", \"ORG\", \"LOC\", \"EVENT\"],\n",
    "            field=\"text\",\n",
    "        ),\n",
    "    ],\n",
    ")"
   ]
  },
  {
   "cell_type": "markdown",
   "id": "05f6f8dd-03a3-403f-a018-35ed4a903b2b",
   "metadata": {},
   "source": [
    "## Upload the dataset"
   ]
  },
  {
   "cell_type": "code",
   "execution_count": 13,
   "id": "f16570a1-e849-424f-8920-1512be8bdda0",
   "metadata": {},
   "outputs": [
    {
     "name": "stderr",
     "output_type": "stream",
     "text": [
      "/home/renwei/anaconda3/envs/llm/lib/python3.12/site-packages/argilla/datasets/_resource.py:264: UserWarning: Workspace not provided. Using default workspace: argilla id: f228f253-a59f-44e8-956c-9ccad6db5863\n",
      "  warnings.warn(f\"Workspace not provided. Using default workspace: {workspace.name} id: {workspace.id}\")\n"
     ]
    },
    {
     "data": {
      "text/plain": [
       "Dataset(id=UUID('64fab0ff-9014-4367-8bc7-a6d1b9427788') inserted_at=datetime.datetime(2025, 1, 30, 2, 23, 34, 63427) updated_at=datetime.datetime(2025, 1, 30, 2, 23, 34, 596754) name='ag_news' status='ready' guidelines=None allow_extra_metadata=False distribution=OverlapTaskDistributionModel(strategy='overlap', min_submitted=1) workspace_id=UUID('f228f253-a59f-44e8-956c-9ccad6db5863') last_activity_at=datetime.datetime(2025, 1, 30, 2, 23, 34, 596754))"
      ]
     },
     "execution_count": 13,
     "metadata": {},
     "output_type": "execute_result"
    }
   ],
   "source": [
    "dataset = rg.Dataset(name=\"ag_news\", settings=settings)\n",
    "\n",
    "dataset.create()"
   ]
  },
  {
   "cell_type": "code",
   "execution_count": 14,
   "id": "630dbe4c-1ffc-423b-9e2f-ff723577d764",
   "metadata": {},
   "outputs": [
    {
     "name": "stderr",
     "output_type": "stream",
     "text": [
      "/home/renwei/anaconda3/envs/llm/lib/python3.12/site-packages/argilla/records/_io/_datasets.py:265: UserWarning: Record id column not found in Hugging Face dataset. Using row index and split for record ids.\n",
      "  warnings.warn(\n"
     ]
    },
    {
     "data": {
      "application/vnd.jupyter.widget-view+json": {
       "model_id": "f9f0f1cd6e044fd5a48a9634a065b598",
       "version_major": 2,
       "version_minor": 0
      },
      "text/plain": [
       "Map:   0%|          | 0/120000 [00:00<?, ? examples/s]"
      ]
     },
     "metadata": {},
     "output_type": "display_data"
    },
    {
     "name": "stderr",
     "output_type": "stream",
     "text": [
      "/home/renwei/anaconda3/envs/llm/lib/python3.12/site-packages/argilla/records/_mapping/_mapper.py:89: UserWarning: Keys ['label_text'] in data are not present in the mapping and will be ignored.\n",
      "  warnings.warn(f\"Keys {unknown_keys} in data are not present in the mapping and will be ignored.\")\n",
      "Sending records...: 469batch [16:25,  2.10s/batch]                                                                      \n"
     ]
    },
    {
     "data": {
      "text/plain": [
       "DatasetRecords(Dataset(id=UUID('64fab0ff-9014-4367-8bc7-a6d1b9427788') inserted_at=datetime.datetime(2025, 1, 30, 2, 23, 34, 63427) updated_at=datetime.datetime(2025, 1, 30, 2, 23, 34, 596754) name='ag_news' status='ready' guidelines=None allow_extra_metadata=False distribution=OverlapTaskDistributionModel(strategy='overlap', min_submitted=1) workspace_id=UUID('f228f253-a59f-44e8-956c-9ccad6db5863') last_activity_at=datetime.datetime(2025, 1, 30, 2, 23, 34, 596754)))"
      ]
     },
     "execution_count": 14,
     "metadata": {},
     "output_type": "execute_result"
    }
   ],
   "source": [
    "dataset.records.log(data, mapping={\"label_text\": \"label\"})"
   ]
  },
  {
   "cell_type": "code",
   "execution_count": null,
   "id": "b36653d9-515f-4796-b01e-f0e14fce6fdb",
   "metadata": {},
   "outputs": [],
   "source": []
  }
 ],
 "metadata": {
  "kernelspec": {
   "display_name": "Python 3 (ipykernel)",
   "language": "python",
   "name": "python3"
  },
  "language_info": {
   "codemirror_mode": {
    "name": "ipython",
    "version": 3
   },
   "file_extension": ".py",
   "mimetype": "text/x-python",
   "name": "python",
   "nbconvert_exporter": "python",
   "pygments_lexer": "ipython3",
   "version": "3.12.2"
  }
 },
 "nbformat": 4,
 "nbformat_minor": 5
}
