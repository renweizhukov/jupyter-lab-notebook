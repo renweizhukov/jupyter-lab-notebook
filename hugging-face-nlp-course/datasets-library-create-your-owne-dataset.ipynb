{
 "cells": [
  {
   "cell_type": "markdown",
   "id": "32602db3-9565-4492-9824-45152c64eb1e",
   "metadata": {},
   "source": [
    "* https://huggingface.co/learn/nlp-course/en/chapter5/5?fw=pt\n",
    "* https://colab.research.google.com/github/huggingface/notebooks/blob/master/course/en/chapter5/section5.ipynb"
   ]
  },
  {
   "cell_type": "code",
   "execution_count": 3,
   "id": "3b236121-c97b-438d-bb44-c9f6b0b85078",
   "metadata": {},
   "outputs": [
    {
     "name": "stdout",
     "output_type": "stream",
     "text": [
      "Requirement already satisfied: datasets in /home/renwei/anaconda3/envs/llm/lib/python3.12/site-packages (3.2.0)\n",
      "Requirement already satisfied: evaluate in /home/renwei/anaconda3/envs/llm/lib/python3.12/site-packages (0.4.3)\n",
      "Requirement already satisfied: transformers[sentencepiece] in /home/renwei/anaconda3/envs/llm/lib/python3.12/site-packages (4.48.0)\n",
      "Requirement already satisfied: filelock in /home/renwei/anaconda3/envs/llm/lib/python3.12/site-packages (from datasets) (3.13.1)\n",
      "Requirement already satisfied: numpy>=1.17 in /home/renwei/anaconda3/envs/llm/lib/python3.12/site-packages (from datasets) (2.2.1)\n",
      "Requirement already satisfied: pyarrow>=15.0.0 in /home/renwei/anaconda3/envs/llm/lib/python3.12/site-packages (from datasets) (19.0.0)\n",
      "Requirement already satisfied: dill<0.3.9,>=0.3.0 in /home/renwei/anaconda3/envs/llm/lib/python3.12/site-packages (from datasets) (0.3.8)\n",
      "Requirement already satisfied: pandas in /home/renwei/anaconda3/envs/llm/lib/python3.12/site-packages (from datasets) (2.2.3)\n",
      "Requirement already satisfied: requests>=2.32.2 in /home/renwei/anaconda3/envs/llm/lib/python3.12/site-packages (from datasets) (2.32.3)\n",
      "Requirement already satisfied: tqdm>=4.66.3 in /home/renwei/anaconda3/envs/llm/lib/python3.12/site-packages (from datasets) (4.67.1)\n",
      "Requirement already satisfied: xxhash in /home/renwei/anaconda3/envs/llm/lib/python3.12/site-packages (from datasets) (3.5.0)\n",
      "Requirement already satisfied: multiprocess<0.70.17 in /home/renwei/anaconda3/envs/llm/lib/python3.12/site-packages (from datasets) (0.70.16)\n",
      "Requirement already satisfied: fsspec<=2024.9.0,>=2023.1.0 in /home/renwei/anaconda3/envs/llm/lib/python3.12/site-packages (from fsspec[http]<=2024.9.0,>=2023.1.0->datasets) (2024.9.0)\n",
      "Requirement already satisfied: aiohttp in /home/renwei/anaconda3/envs/llm/lib/python3.12/site-packages (from datasets) (3.11.11)\n",
      "Requirement already satisfied: huggingface-hub>=0.23.0 in /home/renwei/anaconda3/envs/llm/lib/python3.12/site-packages (from datasets) (0.27.1)\n",
      "Requirement already satisfied: packaging in /home/renwei/anaconda3/envs/llm/lib/python3.12/site-packages (from datasets) (24.2)\n",
      "Requirement already satisfied: pyyaml>=5.1 in /home/renwei/anaconda3/envs/llm/lib/python3.12/site-packages (from datasets) (6.0.2)\n",
      "Requirement already satisfied: regex!=2019.12.17 in /home/renwei/anaconda3/envs/llm/lib/python3.12/site-packages (from transformers[sentencepiece]) (2024.11.6)\n",
      "Requirement already satisfied: tokenizers<0.22,>=0.21 in /home/renwei/anaconda3/envs/llm/lib/python3.12/site-packages (from transformers[sentencepiece]) (0.21.0)\n",
      "Requirement already satisfied: safetensors>=0.4.1 in /home/renwei/anaconda3/envs/llm/lib/python3.12/site-packages (from transformers[sentencepiece]) (0.5.2)\n",
      "Requirement already satisfied: sentencepiece!=0.1.92,>=0.1.91 in /home/renwei/anaconda3/envs/llm/lib/python3.12/site-packages (from transformers[sentencepiece]) (0.2.0)\n",
      "Requirement already satisfied: protobuf in /home/renwei/anaconda3/envs/llm/lib/python3.12/site-packages (from transformers[sentencepiece]) (5.29.3)\n",
      "Requirement already satisfied: aiohappyeyeballs>=2.3.0 in /home/renwei/anaconda3/envs/llm/lib/python3.12/site-packages (from aiohttp->datasets) (2.4.4)\n",
      "Requirement already satisfied: aiosignal>=1.1.2 in /home/renwei/anaconda3/envs/llm/lib/python3.12/site-packages (from aiohttp->datasets) (1.3.2)\n",
      "Requirement already satisfied: attrs>=17.3.0 in /home/renwei/anaconda3/envs/llm/lib/python3.12/site-packages (from aiohttp->datasets) (24.3.0)\n",
      "Requirement already satisfied: frozenlist>=1.1.1 in /home/renwei/anaconda3/envs/llm/lib/python3.12/site-packages (from aiohttp->datasets) (1.5.0)\n",
      "Requirement already satisfied: multidict<7.0,>=4.5 in /home/renwei/anaconda3/envs/llm/lib/python3.12/site-packages (from aiohttp->datasets) (6.1.0)\n",
      "Requirement already satisfied: propcache>=0.2.0 in /home/renwei/anaconda3/envs/llm/lib/python3.12/site-packages (from aiohttp->datasets) (0.2.1)\n",
      "Requirement already satisfied: yarl<2.0,>=1.17.0 in /home/renwei/anaconda3/envs/llm/lib/python3.12/site-packages (from aiohttp->datasets) (1.18.3)\n",
      "Requirement already satisfied: typing-extensions>=3.7.4.3 in /home/renwei/anaconda3/envs/llm/lib/python3.12/site-packages (from huggingface-hub>=0.23.0->datasets) (4.12.2)\n",
      "Requirement already satisfied: charset-normalizer<4,>=2 in /home/renwei/anaconda3/envs/llm/lib/python3.12/site-packages (from requests>=2.32.2->datasets) (3.3.2)\n",
      "Requirement already satisfied: idna<4,>=2.5 in /home/renwei/anaconda3/envs/llm/lib/python3.12/site-packages (from requests>=2.32.2->datasets) (3.7)\n",
      "Requirement already satisfied: urllib3<3,>=1.21.1 in /home/renwei/anaconda3/envs/llm/lib/python3.12/site-packages (from requests>=2.32.2->datasets) (2.3.0)\n",
      "Requirement already satisfied: certifi>=2017.4.17 in /home/renwei/anaconda3/envs/llm/lib/python3.12/site-packages (from requests>=2.32.2->datasets) (2024.12.14)\n",
      "Requirement already satisfied: python-dateutil>=2.8.2 in /home/renwei/anaconda3/envs/llm/lib/python3.12/site-packages (from pandas->datasets) (2.9.0.post0)\n",
      "Requirement already satisfied: pytz>=2020.1 in /home/renwei/anaconda3/envs/llm/lib/python3.12/site-packages (from pandas->datasets) (2024.2)\n",
      "Requirement already satisfied: tzdata>=2022.7 in /home/renwei/anaconda3/envs/llm/lib/python3.12/site-packages (from pandas->datasets) (2024.2)\n",
      "Requirement already satisfied: six>=1.5 in /home/renwei/anaconda3/envs/llm/lib/python3.12/site-packages (from python-dateutil>=2.8.2->pandas->datasets) (1.17.0)\n",
      "Reading package lists... Done\n",
      "Building dependency tree... Done\n",
      "Reading state information... Done\n",
      "The following NEW packages will be installed:\n",
      "  git-lfs\n",
      "0 upgraded, 1 newly installed, 0 to remove and 0 not upgraded.\n",
      "Need to get 3544 kB of archives.\n",
      "After this operation, 10.5 MB of additional disk space will be used.\n",
      "Get:1 http://archive.ubuntu.com/ubuntu jammy-updates/universe amd64 git-lfs amd64 3.0.2-1ubuntu0.3 [3544 kB]\n",
      "Fetched 3544 kB in 1s (2609 kB/s)  \u001b[0m\n",
      "\n",
      "\u001b7\u001b[0;23r\u001b8\u001b[1ASelecting previously unselected package git-lfs.\n",
      "(Reading database ... 66234 files and directories currently installed.)\n",
      "Preparing to unpack .../git-lfs_3.0.2-1ubuntu0.3_amd64.deb ...\n",
      "\u001b7\u001b[24;0f\u001b[42m\u001b[30mProgress: [  0%]\u001b[49m\u001b[39m [..........................................................] \u001b8\u001b7\u001b[24;0f\u001b[42m\u001b[30mProgress: [ 20%]\u001b[49m\u001b[39m [###########...............................................] \u001b8Unpacking git-lfs (3.0.2-1ubuntu0.3) ...\n",
      "\u001b7\u001b[24;0f\u001b[42m\u001b[30mProgress: [ 40%]\u001b[49m\u001b[39m [#######################...................................] \u001b8Setting up git-lfs (3.0.2-1ubuntu0.3) ...\n",
      "\u001b7\u001b[24;0f\u001b[42m\u001b[30mProgress: [ 80%]\u001b[49m\u001b[39m [##############################################............] \u001b8Processing triggers for man-db (2.10.2-1) ...\n",
      "\n",
      "\u001b7\u001b[0;24r\u001b8\u001b[1A\u001b[J"
     ]
    }
   ],
   "source": [
    "!pip install datasets evaluate transformers[sentencepiece]\n",
    "!sudo apt install git-lfs"
   ]
  },
  {
   "cell_type": "code",
   "execution_count": 4,
   "id": "c7aa6f72-c37a-43ca-b9b8-5e543df06bbc",
   "metadata": {},
   "outputs": [],
   "source": [
    "!git config --global user.email \"renwei2004@gmail.com\"\n",
    "!git config --global user.name \"Wei Ren\""
   ]
  },
  {
   "cell_type": "code",
   "execution_count": 5,
   "id": "008594fa-5e8b-452c-82d3-af3aa3db636b",
   "metadata": {},
   "outputs": [
    {
     "data": {
      "application/vnd.jupyter.widget-view+json": {
       "model_id": "dd0a93d2f12d4dff99bbf18d04bc4cbb",
       "version_major": 2,
       "version_minor": 0
      },
      "text/plain": [
       "VBox(children=(HTML(value='<center> <img\\nsrc=https://huggingface.co/front/assets/huggingface_logo-noborder.sv…"
      ]
     },
     "metadata": {},
     "output_type": "display_data"
    }
   ],
   "source": [
    "from huggingface_hub import notebook_login\n",
    "\n",
    "notebook_login()"
   ]
  },
  {
   "cell_type": "markdown",
   "id": "7d5c04c6-8820-4af0-ac69-9b9a183af2ea",
   "metadata": {},
   "source": [
    "# Get the Github issues"
   ]
  },
  {
   "cell_type": "code",
   "execution_count": 6,
   "id": "be1b5ff4-1402-4f37-bdc7-a045fb0aa31b",
   "metadata": {},
   "outputs": [
    {
     "name": "stdout",
     "output_type": "stream",
     "text": [
      "Requirement already satisfied: requests in /home/renwei/anaconda3/envs/llm/lib/python3.12/site-packages (2.32.3)\n",
      "Requirement already satisfied: charset-normalizer<4,>=2 in /home/renwei/anaconda3/envs/llm/lib/python3.12/site-packages (from requests) (3.3.2)\n",
      "Requirement already satisfied: idna<4,>=2.5 in /home/renwei/anaconda3/envs/llm/lib/python3.12/site-packages (from requests) (3.7)\n",
      "Requirement already satisfied: urllib3<3,>=1.21.1 in /home/renwei/anaconda3/envs/llm/lib/python3.12/site-packages (from requests) (2.3.0)\n",
      "Requirement already satisfied: certifi>=2017.4.17 in /home/renwei/anaconda3/envs/llm/lib/python3.12/site-packages (from requests) (2024.12.14)\n"
     ]
    }
   ],
   "source": [
    "!pip install requests"
   ]
  },
  {
   "cell_type": "code",
   "execution_count": 10,
   "id": "b3aa0965-e5c9-43fe-88c8-a953460c40a2",
   "metadata": {},
   "outputs": [],
   "source": [
    "import requests\n",
    "\n",
    "url = \"https://api.github.com/repos/NVIDIA/NeMo/issues?page=1&per_page=1\"\n",
    "response = requests.get(url)"
   ]
  },
  {
   "cell_type": "code",
   "execution_count": 11,
   "id": "00f8fb5b-f675-46a5-8c5d-a02a65fb33c1",
   "metadata": {},
   "outputs": [
    {
     "data": {
      "text/plain": [
       "200"
      ]
     },
     "execution_count": 11,
     "metadata": {},
     "output_type": "execute_result"
    }
   ],
   "source": [
    "response.status_code"
   ]
  },
  {
   "cell_type": "code",
   "execution_count": 12,
   "id": "b351fc0d-6091-49d8-8073-e85aa2c6ee86",
   "metadata": {},
   "outputs": [
    {
     "data": {
      "text/plain": [
       "[{'url': 'https://api.github.com/repos/NVIDIA/NeMo/issues/11904',\n",
       "  'repository_url': 'https://api.github.com/repos/NVIDIA/NeMo',\n",
       "  'labels_url': 'https://api.github.com/repos/NVIDIA/NeMo/issues/11904/labels{/name}',\n",
       "  'comments_url': 'https://api.github.com/repos/NVIDIA/NeMo/issues/11904/comments',\n",
       "  'events_url': 'https://api.github.com/repos/NVIDIA/NeMo/issues/11904/events',\n",
       "  'html_url': 'https://github.com/NVIDIA/NeMo/pull/11904',\n",
       "  'id': 2800382613,\n",
       "  'node_id': 'PR_kwDOC_bI7s6IanOx',\n",
       "  'number': 11904,\n",
       "  'title': 'remove nemo.collection.nlp imports from nemo2',\n",
       "  'user': {'login': 'dimapihtar',\n",
       "   'id': 37850217,\n",
       "   'node_id': 'MDQ6VXNlcjM3ODUwMjE3',\n",
       "   'avatar_url': 'https://avatars.githubusercontent.com/u/37850217?v=4',\n",
       "   'gravatar_id': '',\n",
       "   'url': 'https://api.github.com/users/dimapihtar',\n",
       "   'html_url': 'https://github.com/dimapihtar',\n",
       "   'followers_url': 'https://api.github.com/users/dimapihtar/followers',\n",
       "   'following_url': 'https://api.github.com/users/dimapihtar/following{/other_user}',\n",
       "   'gists_url': 'https://api.github.com/users/dimapihtar/gists{/gist_id}',\n",
       "   'starred_url': 'https://api.github.com/users/dimapihtar/starred{/owner}{/repo}',\n",
       "   'subscriptions_url': 'https://api.github.com/users/dimapihtar/subscriptions',\n",
       "   'organizations_url': 'https://api.github.com/users/dimapihtar/orgs',\n",
       "   'repos_url': 'https://api.github.com/users/dimapihtar/repos',\n",
       "   'events_url': 'https://api.github.com/users/dimapihtar/events{/privacy}',\n",
       "   'received_events_url': 'https://api.github.com/users/dimapihtar/received_events',\n",
       "   'type': 'User',\n",
       "   'user_view_type': 'public',\n",
       "   'site_admin': False},\n",
       "  'labels': [],\n",
       "  'state': 'open',\n",
       "  'locked': False,\n",
       "  'assignee': None,\n",
       "  'assignees': [],\n",
       "  'milestone': None,\n",
       "  'comments': 2,\n",
       "  'created_at': '2025-01-20T22:57:26Z',\n",
       "  'updated_at': '2025-01-20T23:33:20Z',\n",
       "  'closed_at': None,\n",
       "  'author_association': 'COLLABORATOR',\n",
       "  'sub_issues_summary': {'total': 0, 'completed': 0, 'percent_completed': 0},\n",
       "  'active_lock_reason': None,\n",
       "  'draft': True,\n",
       "  'pull_request': {'url': 'https://api.github.com/repos/NVIDIA/NeMo/pulls/11904',\n",
       "   'html_url': 'https://github.com/NVIDIA/NeMo/pull/11904',\n",
       "   'diff_url': 'https://github.com/NVIDIA/NeMo/pull/11904.diff',\n",
       "   'patch_url': 'https://github.com/NVIDIA/NeMo/pull/11904.patch',\n",
       "   'merged_at': None},\n",
       "  'body': '# What does this PR do ?\\r\\n\\r\\nAdd a one line overview of what this PR aims to accomplish.\\r\\n\\r\\n**Collection**: [Note which collection this PR will affect]\\r\\n\\r\\n# Changelog \\r\\n- Add specific line by line info of high level changes in this PR.\\r\\n\\r\\n# Usage\\r\\n* You can potentially add a usage example below\\r\\n\\r\\n```python\\r\\n# Add a code snippet demonstrating how to use this \\r\\n```\\r\\n\\r\\n# GitHub Actions CI\\r\\n\\r\\nThe Jenkins CI system has been replaced by GitHub Actions self-hosted runners.\\r\\n\\r\\nThe GitHub Actions CI will run automatically when the \"Run CICD\" label is added to the PR.\\r\\nTo re-run CI remove and add the label again.\\r\\nTo run CI on an untrusted fork, a NeMo user with write access must first click \"Approve and run\".\\r\\n\\r\\n# Before your PR is \"Ready for review\"\\r\\n**Pre checks**:\\r\\n- [ ] Make sure you read and followed [Contributor guidelines](https://github.com/NVIDIA/NeMo/blob/main/CONTRIBUTING.md)\\r\\n- [ ] Did you write any new necessary tests?\\r\\n- [ ] Did you add or update any necessary documentation?\\r\\n- [ ] Does the PR affect components that are optional to install? (Ex: Numba, Pynini, Apex etc)\\r\\n  - [ ] Reviewer: Does the PR have correct import guards for all optional libraries?\\r\\n  \\r\\n**PR Type**:\\r\\n- [ ] New Feature\\r\\n- [ ] Bugfix\\r\\n- [ ] Documentation\\r\\n\\r\\nIf you haven\\'t finished some of the above items you can still open \"Draft\" PR.\\r\\n\\r\\n\\r\\n## Who can review?\\r\\n\\r\\nAnyone in the community is free to review the PR once the checks have passed. \\r\\n[Contributor guidelines](https://github.com/NVIDIA/NeMo/blob/main/CONTRIBUTING.md) contains specific people who can review PRs to various areas.\\r\\n\\r\\n# Additional Information\\r\\n* Related to # (issue)\\r\\n',\n",
       "  'closed_by': None,\n",
       "  'reactions': {'url': 'https://api.github.com/repos/NVIDIA/NeMo/issues/11904/reactions',\n",
       "   'total_count': 0,\n",
       "   '+1': 0,\n",
       "   '-1': 0,\n",
       "   'laugh': 0,\n",
       "   'hooray': 0,\n",
       "   'confused': 0,\n",
       "   'heart': 0,\n",
       "   'rocket': 0,\n",
       "   'eyes': 0},\n",
       "  'timeline_url': 'https://api.github.com/repos/NVIDIA/NeMo/issues/11904/timeline',\n",
       "  'performed_via_github_app': None,\n",
       "  'state_reason': None}]"
      ]
     },
     "execution_count": 12,
     "metadata": {},
     "output_type": "execute_result"
    }
   ],
   "source": [
    "response.json()"
   ]
  },
  {
   "cell_type": "code",
   "execution_count": 13,
   "id": "a6b8c271-6bce-43bc-ab2e-2b8d16a42ed1",
   "metadata": {},
   "outputs": [
    {
     "name": "stdout",
     "output_type": "stream",
     "text": [
      "Requirement already satisfied: python-dotenv in /home/renwei/anaconda3/envs/llm/lib/python3.12/site-packages (1.0.1)\n"
     ]
    }
   ],
   "source": [
    "!pip install python-dotenv"
   ]
  },
  {
   "cell_type": "code",
   "execution_count": 19,
   "id": "d6c16c4d-5c63-41ba-9b7a-b1be4117a1af",
   "metadata": {},
   "outputs": [],
   "source": [
    "# https://github.com/theskumar/python-dotenvabs\n",
    "%load_ext dotenv\n",
    "%dotenv ../.env"
   ]
  },
  {
   "cell_type": "code",
   "execution_count": 20,
   "id": "2b839039-1444-4e82-aedd-e7805df65f2b",
   "metadata": {},
   "outputs": [],
   "source": [
    "import os\n",
    "\n",
    "GITHUB_TOKEN = os.getenv(\"GITHUB_TOKEN\")\n",
    "headers = {\"Authorization\": f\"token {GITHUB_TOKEN}\"}"
   ]
  },
  {
   "cell_type": "code",
   "execution_count": 17,
   "id": "b8c654dc-bcd9-4d55-8acc-defe3d9262cc",
   "metadata": {},
   "outputs": [],
   "source": [
    "import math\n",
    "import time\n",
    "from pathlib import Path\n",
    "\n",
    "import pandas as pd\n",
    "from tqdm.notebook import tqdm\n",
    "\n",
    "\n",
    "def fetch_issues(\n",
    "    owner=\"huggingface\",\n",
    "    repo=\"datasets\",\n",
    "    num_issues=10_000,\n",
    "    rate_limit=5_000,\n",
    "    issues_path=Path(\".\"),\n",
    "):\n",
    "    if not issues_path.is_dir():\n",
    "        issues_path.mkdir(exist_ok=True)\n",
    "\n",
    "    batch = []\n",
    "    all_issues = []\n",
    "    per_page = 100  # Number of issues to return per page\n",
    "    num_pages = math.ceil(num_issues / per_page)\n",
    "    base_url = \"https://api.github.com/repos\"\n",
    "\n",
    "    for page in tqdm(range(num_pages)):\n",
    "        # Query with state=all to get both open and closed issues\n",
    "        query = f\"issues?page={page}&per_page={per_page}&state=all\"\n",
    "        issues = requests.get(f\"{base_url}/{owner}/{repo}/{query}\", headers=headers)\n",
    "        batch.extend(issues.json())\n",
    "\n",
    "        if len(batch) > rate_limit and len(all_issues) < num_issues:\n",
    "            all_issues.extend(batch)\n",
    "            batch = []  # Flush batch for next time period\n",
    "            print(f\"Reached GitHub rate limit. Sleeping for one hour ...\")\n",
    "            time.sleep(60 * 60 + 1)\n",
    "\n",
    "    all_issues.extend(batch)\n",
    "    df = pd.DataFrame.from_records(all_issues)\n",
    "    df.to_json(f\"{issues_path}/{repo}-issues.jsonl\", orient=\"records\", lines=True)\n",
    "    print(\n",
    "        f\"Downloaded all the issues for {repo}! Dataset stored at {issues_path}/{repo}-issues.jsonl\"\n",
    "    )"
   ]
  },
  {
   "cell_type": "code",
   "execution_count": 18,
   "id": "7108eab1-445a-42d1-a2ef-448033163626",
   "metadata": {},
   "outputs": [
    {
     "data": {
      "application/vnd.jupyter.widget-view+json": {
       "model_id": "fb0cc6c36d8d41dcb37d81c0b55ed71a",
       "version_major": 2,
       "version_minor": 0
      },
      "text/plain": [
       "  0%|          | 0/100 [00:00<?, ?it/s]"
      ]
     },
     "metadata": {},
     "output_type": "display_data"
    },
    {
     "name": "stdout",
     "output_type": "stream",
     "text": [
      "Reached GitHub rate limit. Sleeping for one hour ...\n",
      "Downloaded all the issues for NeMo! Dataset stored at ./NeMo-issues.jsonl\n"
     ]
    }
   ],
   "source": [
    "fetch_issues(owner=\"NVIDIA\", repo=\"NeMo\")"
   ]
  },
  {
   "cell_type": "markdown",
   "id": "ea3ab5f1-aeed-43a3-9aa2-50204701f13a",
   "metadata": {},
   "source": [
    "# Clean up the data"
   ]
  },
  {
   "cell_type": "code",
   "execution_count": 71,
   "id": "ee097d91-5d15-4b5b-bf38-63d38e21a0c1",
   "metadata": {},
   "outputs": [],
   "source": [
    "# We hit a bug about inferred schema: https://github.com/huggingface/datasets/issues/7222.\n",
    "# We create a new jsonl file which consists of the last 1000 lines and then the first 9000 lines of NeMo-issues.jsonl.\n",
    "!(tail -n 1000 NeMo-issues.jsonl && head -n 9000 NeMo-issues.jsonl) > NeMo-issues-fixed.jsonl"
   ]
  },
  {
   "cell_type": "code",
   "execution_count": 74,
   "id": "2095ba0c-5b99-4c75-897b-f409bf7fa508",
   "metadata": {},
   "outputs": [
    {
     "data": {
      "text/plain": [
       "Dataset({\n",
       "    features: ['url', 'repository_url', 'labels_url', 'comments_url', 'events_url', 'html_url', 'id', 'node_id', 'number', 'title', 'user', 'labels', 'state', 'locked', 'assignee', 'assignees', 'milestone', 'comments', 'created_at', 'updated_at', 'closed_at', 'author_association', 'sub_issues_summary', 'active_lock_reason', 'draft', 'pull_request', 'body', 'closed_by', 'reactions', 'timeline_url', 'performed_via_github_app', 'state_reason'],\n",
       "    num_rows: 10000\n",
       "})"
      ]
     },
     "execution_count": 74,
     "metadata": {},
     "output_type": "execute_result"
    }
   ],
   "source": [
    "from datasets import load_dataset\n",
    "\n",
    "issues_dataset = load_dataset(\n",
    "    \"json\", data_files=\"NeMo-issues-fixed.jsonl\", split=\"train\"\n",
    ")\n",
    "issues_dataset"
   ]
  },
  {
   "cell_type": "code",
   "execution_count": 76,
   "id": "5cd73cfa-4ee3-4bd2-bd80-5adc119cb8ce",
   "metadata": {},
   "outputs": [
    {
     "name": "stdout",
     "output_type": "stream",
     "text": [
      ">> URL: https://github.com/NVIDIA/NeMo/pull/6899\n",
      ">> Pull request: {'url': 'https://api.github.com/repos/NVIDIA/NeMo/pulls/6899', 'html_url': 'https://github.com/NVIDIA/NeMo/pull/6899', 'diff_url': 'https://github.com/NVIDIA/NeMo/pull/6899.diff', 'patch_url': 'https://github.com/NVIDIA/NeMo/pull/6899.patch', 'merged_at': datetime.datetime(2023, 6, 21, 21, 41, 32)}\n",
      "\n",
      ">> URL: https://github.com/NVIDIA/NeMo/pull/7535\n",
      ">> Pull request: {'url': 'https://api.github.com/repos/NVIDIA/NeMo/pulls/7535', 'html_url': 'https://github.com/NVIDIA/NeMo/pull/7535', 'diff_url': 'https://github.com/NVIDIA/NeMo/pull/7535.diff', 'patch_url': 'https://github.com/NVIDIA/NeMo/pull/7535.patch', 'merged_at': datetime.datetime(2023, 9, 27, 11, 56, 53)}\n",
      "\n",
      ">> URL: https://github.com/NVIDIA/NeMo/issues/2524\n",
      ">> Pull request: None\n",
      "\n"
     ]
    }
   ],
   "source": [
    "sample = issues_dataset.shuffle(seed=24).select(range(3))\n",
    "\n",
    "# Print out the URL and pull request entries\n",
    "for url, pr in zip(sample[\"html_url\"], sample[\"pull_request\"]):\n",
    "    print(f\">> URL: {url}\")\n",
    "    print(f\">> Pull request: {pr}\\n\")"
   ]
  },
  {
   "cell_type": "code",
   "execution_count": 77,
   "id": "b4c9abd1-870c-407d-9356-5a2525ff5320",
   "metadata": {},
   "outputs": [
    {
     "data": {
      "application/vnd.jupyter.widget-view+json": {
       "model_id": "98ed8712d67f409e9c7dab3b1d79993f",
       "version_major": 2,
       "version_minor": 0
      },
      "text/plain": [
       "Map:   0%|          | 0/10000 [00:00<?, ? examples/s]"
      ]
     },
     "metadata": {},
     "output_type": "display_data"
    }
   ],
   "source": [
    "issues_dataset = issues_dataset.map(\n",
    "    lambda x: {\"is_pull_request\": False if x[\"pull_request\"] is None else True}\n",
    ")"
   ]
  },
  {
   "cell_type": "markdown",
   "id": "dd7d73f4-2fc7-4dec-9d32-db85d2a415b1",
   "metadata": {},
   "source": [
    "# Augment the dataset"
   ]
  },
  {
   "cell_type": "code",
   "execution_count": 78,
   "id": "11cb1d1a-4f66-4769-9972-d93540a449ec",
   "metadata": {},
   "outputs": [
    {
     "data": {
      "text/plain": [
       "[{'url': 'https://api.github.com/repos/NVIDIA/NeMo/issues/comments/884570079',\n",
       "  'html_url': 'https://github.com/NVIDIA/NeMo/issues/2524#issuecomment-884570079',\n",
       "  'issue_url': 'https://api.github.com/repos/NVIDIA/NeMo/issues/2524',\n",
       "  'id': 884570079,\n",
       "  'node_id': 'IC_kwDOC_bI7s40uXff',\n",
       "  'user': {'login': 'VahidooX',\n",
       "   'id': 23551647,\n",
       "   'node_id': 'MDQ6VXNlcjIzNTUxNjQ3',\n",
       "   'avatar_url': 'https://avatars.githubusercontent.com/u/23551647?v=4',\n",
       "   'gravatar_id': '',\n",
       "   'url': 'https://api.github.com/users/VahidooX',\n",
       "   'html_url': 'https://github.com/VahidooX',\n",
       "   'followers_url': 'https://api.github.com/users/VahidooX/followers',\n",
       "   'following_url': 'https://api.github.com/users/VahidooX/following{/other_user}',\n",
       "   'gists_url': 'https://api.github.com/users/VahidooX/gists{/gist_id}',\n",
       "   'starred_url': 'https://api.github.com/users/VahidooX/starred{/owner}{/repo}',\n",
       "   'subscriptions_url': 'https://api.github.com/users/VahidooX/subscriptions',\n",
       "   'organizations_url': 'https://api.github.com/users/VahidooX/orgs',\n",
       "   'repos_url': 'https://api.github.com/users/VahidooX/repos',\n",
       "   'events_url': 'https://api.github.com/users/VahidooX/events{/privacy}',\n",
       "   'received_events_url': 'https://api.github.com/users/VahidooX/received_events',\n",
       "   'type': 'User',\n",
       "   'user_view_type': 'public',\n",
       "   'site_admin': False},\n",
       "  'created_at': '2021-07-21T23:53:47Z',\n",
       "  'updated_at': '2021-07-21T23:53:47Z',\n",
       "  'author_association': 'COLLABORATOR',\n",
       "  'body': 'It looks like you are an older version of python, probably even python 2. You need to install the latest python or conda.',\n",
       "  'reactions': {'url': 'https://api.github.com/repos/NVIDIA/NeMo/issues/comments/884570079/reactions',\n",
       "   'total_count': 0,\n",
       "   '+1': 0,\n",
       "   '-1': 0,\n",
       "   'laugh': 0,\n",
       "   'hooray': 0,\n",
       "   'confused': 0,\n",
       "   'heart': 0,\n",
       "   'rocket': 0,\n",
       "   'eyes': 0},\n",
       "  'performed_via_github_app': None},\n",
       " {'url': 'https://api.github.com/repos/NVIDIA/NeMo/issues/comments/884575438',\n",
       "  'html_url': 'https://github.com/NVIDIA/NeMo/issues/2524#issuecomment-884575438',\n",
       "  'issue_url': 'https://api.github.com/repos/NVIDIA/NeMo/issues/2524',\n",
       "  'id': 884575438,\n",
       "  'node_id': 'IC_kwDOC_bI7s40uYzO',\n",
       "  'user': {'login': 'okuchaiev',\n",
       "   'id': 22035961,\n",
       "   'node_id': 'MDQ6VXNlcjIyMDM1OTYx',\n",
       "   'avatar_url': 'https://avatars.githubusercontent.com/u/22035961?v=4',\n",
       "   'gravatar_id': '',\n",
       "   'url': 'https://api.github.com/users/okuchaiev',\n",
       "   'html_url': 'https://github.com/okuchaiev',\n",
       "   'followers_url': 'https://api.github.com/users/okuchaiev/followers',\n",
       "   'following_url': 'https://api.github.com/users/okuchaiev/following{/other_user}',\n",
       "   'gists_url': 'https://api.github.com/users/okuchaiev/gists{/gist_id}',\n",
       "   'starred_url': 'https://api.github.com/users/okuchaiev/starred{/owner}{/repo}',\n",
       "   'subscriptions_url': 'https://api.github.com/users/okuchaiev/subscriptions',\n",
       "   'organizations_url': 'https://api.github.com/users/okuchaiev/orgs',\n",
       "   'repos_url': 'https://api.github.com/users/okuchaiev/repos',\n",
       "   'events_url': 'https://api.github.com/users/okuchaiev/events{/privacy}',\n",
       "   'received_events_url': 'https://api.github.com/users/okuchaiev/received_events',\n",
       "   'type': 'User',\n",
       "   'user_view_type': 'public',\n",
       "   'site_admin': False},\n",
       "  'created_at': '2021-07-22T00:08:24Z',\n",
       "  'updated_at': '2021-07-22T00:08:24Z',\n",
       "  'author_association': 'MEMBER',\n",
       "  'body': \"closing this. Please follow one of these installation instructions https://docs.nvidia.com/deeplearning/nemo/user-guide/docs/en/v1.1.0/starthere/intro.html#installation  Feel free to re-open if they don't work.\\r\\n\",\n",
       "  'reactions': {'url': 'https://api.github.com/repos/NVIDIA/NeMo/issues/comments/884575438/reactions',\n",
       "   'total_count': 0,\n",
       "   '+1': 0,\n",
       "   '-1': 0,\n",
       "   'laugh': 0,\n",
       "   'hooray': 0,\n",
       "   'confused': 0,\n",
       "   'heart': 0,\n",
       "   'rocket': 0,\n",
       "   'eyes': 0},\n",
       "  'performed_via_github_app': None}]"
      ]
     },
     "execution_count": 78,
     "metadata": {},
     "output_type": "execute_result"
    }
   ],
   "source": [
    "issue_number = 2524\n",
    "url = f\"https://api.github.com/repos/NVIDIA/NeMo/issues/{issue_number}/comments\"\n",
    "response = requests.get(url, headers=headers)\n",
    "response.json()"
   ]
  },
  {
   "cell_type": "code",
   "execution_count": 81,
   "id": "6b14c841-8bcb-494a-8f70-629fb259ba90",
   "metadata": {},
   "outputs": [
    {
     "data": {
      "text/plain": [
       "['It looks like you are an older version of python, probably even python 2. You need to install the latest python or conda.',\n",
       " \"closing this. Please follow one of these installation instructions https://docs.nvidia.com/deeplearning/nemo/user-guide/docs/en/v1.1.0/starthere/intro.html#installation  Feel free to re-open if they don't work.\\r\\n\"]"
      ]
     },
     "execution_count": 81,
     "metadata": {},
     "output_type": "execute_result"
    }
   ],
   "source": [
    "def get_comments(issue_number):\n",
    "    url = f\"https://api.github.com/repos/NVIDIA/NeMo/issues/{issue_number}/comments\"\n",
    "    response = requests.get(url, headers=headers)\n",
    "    if response.status_code == requests.codes.ok:\n",
    "        return [r[\"body\"] for r in response.json()]\n",
    "    else:\n",
    "        return None\n",
    "\n",
    "\n",
    "# Test our function works as expected\n",
    "get_comments(2524)"
   ]
  },
  {
   "cell_type": "code",
   "execution_count": 82,
   "id": "e1aa31fc-7c35-422d-857c-d287ef15bc15",
   "metadata": {},
   "outputs": [
    {
     "data": {
      "application/vnd.jupyter.widget-view+json": {
       "model_id": "00c72ba818ca4384a87b3ef5ad01a7b2",
       "version_major": 2,
       "version_minor": 0
      },
      "text/plain": [
       "Map:   0%|          | 0/10000 [00:00<?, ? examples/s]"
      ]
     },
     "metadata": {},
     "output_type": "display_data"
    }
   ],
   "source": [
    "issues_with_comments_dataset = issues_dataset.map(\n",
    "    lambda x: {\"comments\": get_comments(x[\"number\"])}\n",
    ")"
   ]
  },
  {
   "cell_type": "markdown",
   "id": "5513269e-1f97-4b83-9e0f-fe5c28db186c",
   "metadata": {},
   "source": [
    "# Upload the dataset to Hugging Face"
   ]
  },
  {
   "cell_type": "code",
   "execution_count": 86,
   "id": "4c728d56-4833-42c6-92f9-eff828f9c374",
   "metadata": {},
   "outputs": [
    {
     "data": {
      "application/vnd.jupyter.widget-view+json": {
       "model_id": "4571597467a742a0833a935ae365e0d5",
       "version_major": 2,
       "version_minor": 0
      },
      "text/plain": [
       "VBox(children=(HTML(value='<center> <img\\nsrc=https://huggingface.co/front/assets/huggingface_logo-noborder.sv…"
      ]
     },
     "metadata": {},
     "output_type": "display_data"
    }
   ],
   "source": [
    "from huggingface_hub import notebook_login\n",
    "\n",
    "notebook_login()"
   ]
  },
  {
   "cell_type": "code",
   "execution_count": 84,
   "id": "4b3bb836-d2c5-4930-9141-3c1f0e9b9138",
   "metadata": {},
   "outputs": [
    {
     "data": {
      "application/vnd.jupyter.widget-view+json": {
       "model_id": "245c5a50d0fc46b2bd1592bc9cb79d2e",
       "version_major": 2,
       "version_minor": 0
      },
      "text/plain": [
       "Uploading the dataset shards:   0%|          | 0/1 [00:00<?, ?it/s]"
      ]
     },
     "metadata": {},
     "output_type": "display_data"
    },
    {
     "data": {
      "application/vnd.jupyter.widget-view+json": {
       "model_id": "16b07fdb4c5249d6b1bfdb8eef0f1567",
       "version_major": 2,
       "version_minor": 0
      },
      "text/plain": [
       "Creating parquet from Arrow format:   0%|          | 0/10 [00:00<?, ?ba/s]"
      ]
     },
     "metadata": {},
     "output_type": "display_data"
    },
    {
     "data": {
      "text/plain": [
       "CommitInfo(commit_url='https://huggingface.co/datasets/renwei2024/nemo-github-issues/commit/862dc8c8f1688b8717e393d5293d54b79c4467f2', commit_message='Upload dataset', commit_description='', oid='862dc8c8f1688b8717e393d5293d54b79c4467f2', pr_url=None, repo_url=RepoUrl('https://huggingface.co/datasets/renwei2024/nemo-github-issues', endpoint='https://huggingface.co', repo_type='dataset', repo_id='renwei2024/nemo-github-issues'), pr_revision=None, pr_num=None)"
      ]
     },
     "execution_count": 84,
     "metadata": {},
     "output_type": "execute_result"
    }
   ],
   "source": [
    "issues_with_comments_dataset.push_to_hub(\"nemo-github-issues\")"
   ]
  },
  {
   "cell_type": "code",
   "execution_count": 87,
   "id": "a34144b6-4b43-4511-8df3-1e3a53fa4764",
   "metadata": {},
   "outputs": [
    {
     "data": {
      "application/vnd.jupyter.widget-view+json": {
       "model_id": "1b502a0733af4559858a5a5531755709",
       "version_major": 2,
       "version_minor": 0
      },
      "text/plain": [
       "README.md:   0%|          | 0.00/10.3k [00:00<?, ?B/s]"
      ]
     },
     "metadata": {},
     "output_type": "display_data"
    },
    {
     "data": {
      "application/vnd.jupyter.widget-view+json": {
       "model_id": "7cbe9f2daadb43378ad48ba20fe41e8e",
       "version_major": 2,
       "version_minor": 0
      },
      "text/plain": [
       "train-00000-of-00001.parquet:   0%|          | 0.00/8.08M [00:00<?, ?B/s]"
      ]
     },
     "metadata": {},
     "output_type": "display_data"
    },
    {
     "data": {
      "application/vnd.jupyter.widget-view+json": {
       "model_id": "829c7823257441b48044077529fce859",
       "version_major": 2,
       "version_minor": 0
      },
      "text/plain": [
       "Generating train split:   0%|          | 0/10000 [00:00<?, ? examples/s]"
      ]
     },
     "metadata": {},
     "output_type": "display_data"
    },
    {
     "data": {
      "text/plain": [
       "Dataset({\n",
       "    features: ['url', 'repository_url', 'labels_url', 'comments_url', 'events_url', 'html_url', 'id', 'node_id', 'number', 'title', 'user', 'labels', 'state', 'locked', 'assignee', 'assignees', 'milestone', 'comments', 'created_at', 'updated_at', 'closed_at', 'author_association', 'sub_issues_summary', 'active_lock_reason', 'draft', 'pull_request', 'body', 'closed_by', 'reactions', 'timeline_url', 'performed_via_github_app', 'state_reason', 'is_pull_request'],\n",
       "    num_rows: 10000\n",
       "})"
      ]
     },
     "execution_count": 87,
     "metadata": {},
     "output_type": "execute_result"
    }
   ],
   "source": [
    "remote_dataset = load_dataset(\"renwei2024/nemo-github-issues\", split=\"train\")\n",
    "remote_dataset"
   ]
  }
 ],
 "metadata": {
  "kernelspec": {
   "display_name": "Python 3 (ipykernel)",
   "language": "python",
   "name": "python3"
  },
  "language_info": {
   "codemirror_mode": {
    "name": "ipython",
    "version": 3
   },
   "file_extension": ".py",
   "mimetype": "text/x-python",
   "name": "python",
   "nbconvert_exporter": "python",
   "pygments_lexer": "ipython3",
   "version": "3.12.2"
  }
 },
 "nbformat": 4,
 "nbformat_minor": 5
}
