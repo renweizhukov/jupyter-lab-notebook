{
 "cells": [
  {
   "cell_type": "markdown",
   "id": "5ef28839-ca8d-4123-b7ed-6046e7aac833",
   "metadata": {},
   "source": [
    "# Test CUDA installation\n",
    "\n",
    "https://www.freecodecamp.org/news/how-to-setup-windows-machine-for-ml-dl-using-nvidia-graphics-card-cuda/"
   ]
  },
  {
   "cell_type": "code",
   "execution_count": 2,
   "id": "4277f39f-3f61-44c3-b1a0-81fc4e70c11c",
   "metadata": {},
   "outputs": [
    {
     "name": "stdout",
     "output_type": "stream",
     "text": [
      "using cuda device\n"
     ]
    }
   ],
   "source": [
    "import torch\n",
    "\n",
    "if torch.cuda.is_available():\n",
    "    device = torch.device(\"cuda\")\n",
    "else:\n",
    "    device = torch.device(\"cpu\")\n",
    "print(\"using\", device, \"device\")"
   ]
  },
  {
   "cell_type": "code",
   "execution_count": 3,
   "id": "24e2248f-85f3-4f00-91b7-75affaf62558",
   "metadata": {},
   "outputs": [
    {
     "name": "stdout",
     "output_type": "stream",
     "text": [
      "************* CPU SPEED *******************\n",
      "9.862045764923096\n",
      "verify device: cpu\n",
      "************* GPU SPEED *******************\n",
      "0.618649959564209\n",
      "verify device: cuda:0\n",
      "************* GPU SPEED *******************\n",
      "0.6207072734832764\n",
      "verify device: cuda:0\n",
      "************* GPU SPEED *******************\n",
      "0.5619463920593262\n",
      "verify device: cuda:0\n"
     ]
    }
   ],
   "source": [
    "import time\n",
    "\n",
    "matrix_size = 32*512\n",
    "\n",
    "x = torch.randn(matrix_size, matrix_size)\n",
    "y = torch.randn(matrix_size, matrix_size)\n",
    "\n",
    "print(\"************* CPU SPEED *******************\")\n",
    "start = time.time()\n",
    "result = torch.matmul(x, y)\n",
    "print(time.time() - start)\n",
    "print(\"verify device:\", result.device)\n",
    "\n",
    "x_gpu = x.to(device)\n",
    "y_gpu = y.to(device)\n",
    "torch.cuda.synchronize()\n",
    "\n",
    "for i in range(3):\n",
    "    print(\"************* GPU SPEED *******************\")\n",
    "    start = time.time()\n",
    "    result_gpu = torch.matmul(x_gpu, y_gpu)\n",
    "    torch.cuda.synchronize()\n",
    "    print(time.time() - start)\n",
    "    print(\"verify device:\", result_gpu.device)"
   ]
  }
 ],
 "metadata": {
  "kernelspec": {
   "display_name": "Python 3 (ipykernel)",
   "language": "python",
   "name": "python3"
  },
  "language_info": {
   "codemirror_mode": {
    "name": "ipython",
    "version": 3
   },
   "file_extension": ".py",
   "mimetype": "text/x-python",
   "name": "python",
   "nbconvert_exporter": "python",
   "pygments_lexer": "ipython3",
   "version": "3.12.8"
  }
 },
 "nbformat": 4,
 "nbformat_minor": 5
}
